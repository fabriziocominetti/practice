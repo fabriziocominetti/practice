{
 "cells": [
  {
   "cell_type": "markdown",
   "metadata": {},
   "source": [
    "## Medium - Fabrizio Cominetti"
   ]
  },
  {
   "cell_type": "markdown",
   "metadata": {},
   "source": [
    "In this notebook I'm going to analyze my personal Medium stats. These are the stats collected during my first months using the platform. Plus, I'm not really interested in the numbers but I find out that writing is a huge boost while learning something."
   ]
  },
  {
   "cell_type": "markdown",
   "metadata": {},
   "source": [
    "Other than that, I've started writing on Medium during the summer of 2021, the year in which I've started my data science journey!\n",
    "\n",
    "This for saying that I'm a beginner, an italian beginner. So I wasn't expecting very much but, on overall, I'm satisfacted as for now."
   ]
  },
  {
   "cell_type": "markdown",
   "metadata": {},
   "source": [
    "#### Get the data\n",
    "\n",
    "To get the data from subscribers simply download the csv file from Medium.\n",
    "\n",
    "Profile -> stats -> download csv\n",
    "\n",
    "To get the metrics from the stories I need something a little more complicated, open developer tools in the stats page and paste the following code:\n",
    "\n",
    "```\n",
    "// Run Inspector Console in chrome and copy and paste the following code in the /stats/stories view\n",
    "function download(filename, text) {\n",
    "    var pom = document.createElement('a');\n",
    "    pom.setAttribute('href', 'data:text/plain;charset=utf-8,' + encodeURIComponent(text));\n",
    "    pom.setAttribute('download', filename);\n",
    "if (document.createEvent) {\n",
    "        var event = document.createEvent('MouseEvents');\n",
    "        event.initEvent('click', true, true);\n",
    "        pom.dispatchEvent(event);\n",
    "    }\n",
    "    else {\n",
    "        pom.click();\n",
    "    }\n",
    "}\n",
    "content = \"\";\n",
    "content += \"Story\" + \",\" + \"Views\" + \",\" + \"Reads\" + \",\" + \"readRatio\" + \",\" + \"Fans\" + \"\\n\"\n",
    "rows = document.querySelectorAll(\".sortableTable-row.js-statsTableRow\")\n",
    "rows.forEach(function(row) {\n",
    "  title = row.querySelectorAll(\".sortableTable-title > a\")[0].innerText\n",
    "  values = row.querySelectorAll(\".sortableTable-value\")\n",
    "  views = values[1].innerText\n",
    "  reads = values[2].innerText\n",
    "  readRatio = values[3].innerText\n",
    "  recommends = values[4].innerText\n",
    "  content += '\"' + title + '\"' + \",\" + views + \",\" + reads + \",\" + readRatio + \",\" + recommends + \"\\n\"\n",
    "});\n",
    "download(\"medium-metrics-\" + new Date().toISOString().slice(0, 10) + \".csv\", content)\n",
    "```"
   ]
  },
  {
   "cell_type": "markdown",
   "metadata": {},
   "source": [
    "### Load data"
   ]
  },
  {
   "cell_type": "code",
   "execution_count": 86,
   "metadata": {},
   "outputs": [],
   "source": [
    "import pandas as pd"
   ]
  },
  {
   "cell_type": "code",
   "execution_count": 87,
   "metadata": {},
   "outputs": [],
   "source": [
    "subscribers = pd.read_csv('data\\\\fabriziocominetti-subscriber-stats.csv')"
   ]
  },
  {
   "cell_type": "code",
   "execution_count": 88,
   "metadata": {},
   "outputs": [
    {
     "data": {
      "text/html": [
       "<div>\n",
       "<style scoped>\n",
       "    .dataframe tbody tr th:only-of-type {\n",
       "        vertical-align: middle;\n",
       "    }\n",
       "\n",
       "    .dataframe tbody tr th {\n",
       "        vertical-align: top;\n",
       "    }\n",
       "\n",
       "    .dataframe thead th {\n",
       "        text-align: right;\n",
       "    }\n",
       "</style>\n",
       "<table border=\"1\" class=\"dataframe\">\n",
       "  <thead>\n",
       "    <tr style=\"text-align: right;\">\n",
       "      <th></th>\n",
       "      <th>period_start</th>\n",
       "      <th>period_end</th>\n",
       "      <th>followers_gained</th>\n",
       "      <th>followers_lost</th>\n",
       "      <th>followers_net</th>\n",
       "      <th>followers_total</th>\n",
       "      <th>subscribers_gained</th>\n",
       "      <th>subscribers_lost</th>\n",
       "      <th>subscribers_net</th>\n",
       "      <th>subscribers_total</th>\n",
       "      <th>referred_members_gained</th>\n",
       "      <th>referred_members_lost</th>\n",
       "      <th>referred_members_net</th>\n",
       "      <th>referred_members_total</th>\n",
       "    </tr>\n",
       "  </thead>\n",
       "  <tbody>\n",
       "    <tr>\n",
       "      <th>0</th>\n",
       "      <td>2022-01-01</td>\n",
       "      <td>2022-01-31</td>\n",
       "      <td>2</td>\n",
       "      <td>0</td>\n",
       "      <td>2</td>\n",
       "      <td>67</td>\n",
       "      <td>0</td>\n",
       "      <td>0</td>\n",
       "      <td>0</td>\n",
       "      <td>4</td>\n",
       "      <td>0</td>\n",
       "      <td>0</td>\n",
       "      <td>0</td>\n",
       "      <td>0</td>\n",
       "    </tr>\n",
       "    <tr>\n",
       "      <th>1</th>\n",
       "      <td>2021-12-01</td>\n",
       "      <td>2021-12-31</td>\n",
       "      <td>8</td>\n",
       "      <td>1</td>\n",
       "      <td>7</td>\n",
       "      <td>65</td>\n",
       "      <td>0</td>\n",
       "      <td>0</td>\n",
       "      <td>0</td>\n",
       "      <td>4</td>\n",
       "      <td>0</td>\n",
       "      <td>0</td>\n",
       "      <td>0</td>\n",
       "      <td>0</td>\n",
       "    </tr>\n",
       "    <tr>\n",
       "      <th>2</th>\n",
       "      <td>2021-11-01</td>\n",
       "      <td>2021-11-30</td>\n",
       "      <td>31</td>\n",
       "      <td>0</td>\n",
       "      <td>31</td>\n",
       "      <td>58</td>\n",
       "      <td>0</td>\n",
       "      <td>0</td>\n",
       "      <td>0</td>\n",
       "      <td>4</td>\n",
       "      <td>0</td>\n",
       "      <td>0</td>\n",
       "      <td>0</td>\n",
       "      <td>0</td>\n",
       "    </tr>\n",
       "    <tr>\n",
       "      <th>3</th>\n",
       "      <td>2021-10-01</td>\n",
       "      <td>2021-10-31</td>\n",
       "      <td>9</td>\n",
       "      <td>0</td>\n",
       "      <td>9</td>\n",
       "      <td>27</td>\n",
       "      <td>2</td>\n",
       "      <td>0</td>\n",
       "      <td>2</td>\n",
       "      <td>4</td>\n",
       "      <td>0</td>\n",
       "      <td>0</td>\n",
       "      <td>0</td>\n",
       "      <td>0</td>\n",
       "    </tr>\n",
       "    <tr>\n",
       "      <th>4</th>\n",
       "      <td>2021-09-01</td>\n",
       "      <td>2021-09-30</td>\n",
       "      <td>7</td>\n",
       "      <td>0</td>\n",
       "      <td>7</td>\n",
       "      <td>18</td>\n",
       "      <td>0</td>\n",
       "      <td>0</td>\n",
       "      <td>0</td>\n",
       "      <td>2</td>\n",
       "      <td>0</td>\n",
       "      <td>0</td>\n",
       "      <td>0</td>\n",
       "      <td>0</td>\n",
       "    </tr>\n",
       "    <tr>\n",
       "      <th>5</th>\n",
       "      <td>2021-08-01</td>\n",
       "      <td>2021-08-31</td>\n",
       "      <td>11</td>\n",
       "      <td>0</td>\n",
       "      <td>11</td>\n",
       "      <td>11</td>\n",
       "      <td>2</td>\n",
       "      <td>0</td>\n",
       "      <td>2</td>\n",
       "      <td>2</td>\n",
       "      <td>0</td>\n",
       "      <td>0</td>\n",
       "      <td>0</td>\n",
       "      <td>0</td>\n",
       "    </tr>\n",
       "  </tbody>\n",
       "</table>\n",
       "</div>"
      ],
      "text/plain": [
       "  period_start  period_end  followers_gained  followers_lost  followers_net  \\\n",
       "0   2022-01-01  2022-01-31                 2               0              2   \n",
       "1   2021-12-01  2021-12-31                 8               1              7   \n",
       "2   2021-11-01  2021-11-30                31               0             31   \n",
       "3   2021-10-01  2021-10-31                 9               0              9   \n",
       "4   2021-09-01  2021-09-30                 7               0              7   \n",
       "5   2021-08-01  2021-08-31                11               0             11   \n",
       "\n",
       "   followers_total  subscribers_gained  subscribers_lost  subscribers_net  \\\n",
       "0               67                   0                 0                0   \n",
       "1               65                   0                 0                0   \n",
       "2               58                   0                 0                0   \n",
       "3               27                   2                 0                2   \n",
       "4               18                   0                 0                0   \n",
       "5               11                   2                 0                2   \n",
       "\n",
       "   subscribers_total  referred_members_gained  referred_members_lost  \\\n",
       "0                  4                        0                      0   \n",
       "1                  4                        0                      0   \n",
       "2                  4                        0                      0   \n",
       "3                  4                        0                      0   \n",
       "4                  2                        0                      0   \n",
       "5                  2                        0                      0   \n",
       "\n",
       "   referred_members_net  referred_members_total  \n",
       "0                     0                       0  \n",
       "1                     0                       0  \n",
       "2                     0                       0  \n",
       "3                     0                       0  \n",
       "4                     0                       0  \n",
       "5                     0                       0  "
      ]
     },
     "execution_count": 88,
     "metadata": {},
     "output_type": "execute_result"
    }
   ],
   "source": [
    "subscribers"
   ]
  },
  {
   "cell_type": "code",
   "execution_count": 89,
   "metadata": {},
   "outputs": [],
   "source": [
    "metrics = pd.read_csv('data\\\\medium-metrics-2022-01-01.csv')"
   ]
  },
  {
   "cell_type": "code",
   "execution_count": 90,
   "metadata": {},
   "outputs": [
    {
     "data": {
      "text/html": [
       "<div>\n",
       "<style scoped>\n",
       "    .dataframe tbody tr th:only-of-type {\n",
       "        vertical-align: middle;\n",
       "    }\n",
       "\n",
       "    .dataframe tbody tr th {\n",
       "        vertical-align: top;\n",
       "    }\n",
       "\n",
       "    .dataframe thead th {\n",
       "        text-align: right;\n",
       "    }\n",
       "</style>\n",
       "<table border=\"1\" class=\"dataframe\">\n",
       "  <thead>\n",
       "    <tr style=\"text-align: right;\">\n",
       "      <th></th>\n",
       "      <th>Story</th>\n",
       "      <th>Views</th>\n",
       "      <th>Reads</th>\n",
       "      <th>readRatio</th>\n",
       "      <th>Fans</th>\n",
       "    </tr>\n",
       "  </thead>\n",
       "  <tbody>\n",
       "    <tr>\n",
       "      <th>0</th>\n",
       "      <td>Create a QRcode with Python in 2 Minutes</td>\n",
       "      <td>44</td>\n",
       "      <td>22</td>\n",
       "      <td>50.000000</td>\n",
       "      <td>1</td>\n",
       "    </tr>\n",
       "    <tr>\n",
       "      <th>1</th>\n",
       "      <td>How to Combine R-Markdown and GitHub</td>\n",
       "      <td>86</td>\n",
       "      <td>53</td>\n",
       "      <td>61.627907</td>\n",
       "      <td>3</td>\n",
       "    </tr>\n",
       "    <tr>\n",
       "      <th>2</th>\n",
       "      <td>Explore Your own Instagram Followers Without a...</td>\n",
       "      <td>49</td>\n",
       "      <td>24</td>\n",
       "      <td>48.979592</td>\n",
       "      <td>1</td>\n",
       "    </tr>\n",
       "    <tr>\n",
       "      <th>3</th>\n",
       "      <td>Exploring Hot 100 Billboard’s weekly Charts wi...</td>\n",
       "      <td>132</td>\n",
       "      <td>35</td>\n",
       "      <td>26.515152</td>\n",
       "      <td>4</td>\n",
       "    </tr>\n",
       "    <tr>\n",
       "      <th>4</th>\n",
       "      <td>Free Websites and Games to Rapidly Improve you...</td>\n",
       "      <td>68</td>\n",
       "      <td>19</td>\n",
       "      <td>27.941176</td>\n",
       "      <td>3</td>\n",
       "    </tr>\n",
       "  </tbody>\n",
       "</table>\n",
       "</div>"
      ],
      "text/plain": [
       "                                               Story  Views  Reads  readRatio  \\\n",
       "0           Create a QRcode with Python in 2 Minutes     44     22  50.000000   \n",
       "1               How to Combine R-Markdown and GitHub     86     53  61.627907   \n",
       "2  Explore Your own Instagram Followers Without a...     49     24  48.979592   \n",
       "3  Exploring Hot 100 Billboard’s weekly Charts wi...    132     35  26.515152   \n",
       "4  Free Websites and Games to Rapidly Improve you...     68     19  27.941176   \n",
       "\n",
       "   Fans  \n",
       "0     1  \n",
       "1     3  \n",
       "2     1  \n",
       "3     4  \n",
       "4     3  "
      ]
     },
     "execution_count": 90,
     "metadata": {},
     "output_type": "execute_result"
    }
   ],
   "source": [
    "metrics.head()"
   ]
  },
  {
   "cell_type": "markdown",
   "metadata": {},
   "source": [
    "### Data manipulation"
   ]
  },
  {
   "cell_type": "code",
   "execution_count": 91,
   "metadata": {},
   "outputs": [
    {
     "data": {
      "text/plain": [
       "period_start               object\n",
       "period_end                 object\n",
       "followers_gained            int64\n",
       "followers_lost              int64\n",
       "followers_net               int64\n",
       "followers_total             int64\n",
       "subscribers_gained          int64\n",
       "subscribers_lost            int64\n",
       "subscribers_net             int64\n",
       "subscribers_total           int64\n",
       "referred_members_gained     int64\n",
       "referred_members_lost       int64\n",
       "referred_members_net        int64\n",
       "referred_members_total      int64\n",
       "dtype: object"
      ]
     },
     "execution_count": 91,
     "metadata": {},
     "output_type": "execute_result"
    }
   ],
   "source": [
    "subscribers.dtypes"
   ]
  },
  {
   "cell_type": "code",
   "execution_count": 92,
   "metadata": {},
   "outputs": [],
   "source": [
    "subscribers = subscribers.drop(['referred_members_gained', 'referred_members_lost', 'referred_members_net', 'referred_members_total'], axis=1)"
   ]
  },
  {
   "cell_type": "code",
   "execution_count": 93,
   "metadata": {},
   "outputs": [],
   "source": [
    "subscribers = subscribers.iloc[1: , :]"
   ]
  },
  {
   "cell_type": "code",
   "execution_count": 94,
   "metadata": {},
   "outputs": [],
   "source": [
    "subscribers['period_start'] = pd.to_datetime(subscribers['period_start'])"
   ]
  },
  {
   "cell_type": "code",
   "execution_count": 95,
   "metadata": {},
   "outputs": [],
   "source": [
    "subscribers['period_end'] = pd.to_datetime(subscribers['period_end'])"
   ]
  },
  {
   "cell_type": "code",
   "execution_count": 96,
   "metadata": {},
   "outputs": [
    {
     "data": {
      "text/plain": [
       "period_start          datetime64[ns]\n",
       "period_end            datetime64[ns]\n",
       "followers_gained               int64\n",
       "followers_lost                 int64\n",
       "followers_net                  int64\n",
       "followers_total                int64\n",
       "subscribers_gained             int64\n",
       "subscribers_lost               int64\n",
       "subscribers_net                int64\n",
       "subscribers_total              int64\n",
       "dtype: object"
      ]
     },
     "execution_count": 96,
     "metadata": {},
     "output_type": "execute_result"
    }
   ],
   "source": [
    "subscribers.dtypes"
   ]
  },
  {
   "cell_type": "code",
   "execution_count": 97,
   "metadata": {},
   "outputs": [],
   "source": [
    "subscribers['month_num'] = subscribers['period_start'].dt.month"
   ]
  },
  {
   "cell_type": "code",
   "execution_count": 98,
   "metadata": {},
   "outputs": [],
   "source": [
    "subscribers['month_name'] = subscribers['period_start'].dt.month_name().str.slice(stop=3)"
   ]
  },
  {
   "cell_type": "code",
   "execution_count": 99,
   "metadata": {},
   "outputs": [
    {
     "data": {
      "text/plain": [
       "Story         object\n",
       "Views          int64\n",
       "Reads          int64\n",
       "readRatio    float64\n",
       "Fans           int64\n",
       "dtype: object"
      ]
     },
     "execution_count": 99,
     "metadata": {},
     "output_type": "execute_result"
    }
   ],
   "source": [
    "metrics.dtypes"
   ]
  },
  {
   "cell_type": "markdown",
   "metadata": {},
   "source": [
    "### Data exploration"
   ]
  },
  {
   "cell_type": "markdown",
   "metadata": {},
   "source": [
    "Month with max followers gained"
   ]
  },
  {
   "cell_type": "code",
   "execution_count": 100,
   "metadata": {},
   "outputs": [
    {
     "data": {
      "text/plain": [
       "period_start          2021-11-01 00:00:00\n",
       "period_end            2021-11-30 00:00:00\n",
       "followers_gained                       31\n",
       "followers_lost                          0\n",
       "followers_net                          31\n",
       "followers_total                        58\n",
       "subscribers_gained                      0\n",
       "subscribers_lost                        0\n",
       "subscribers_net                         0\n",
       "subscribers_total                       4\n",
       "month_num                              11\n",
       "month_name                            Nov\n",
       "Name: 2, dtype: object"
      ]
     },
     "execution_count": 100,
     "metadata": {},
     "output_type": "execute_result"
    }
   ],
   "source": [
    "subscribers.loc[subscribers['followers_gained'].idxmax()]"
   ]
  },
  {
   "cell_type": "code",
   "execution_count": 101,
   "metadata": {},
   "outputs": [
    {
     "data": {
      "text/html": [
       "<div>\n",
       "<style scoped>\n",
       "    .dataframe tbody tr th:only-of-type {\n",
       "        vertical-align: middle;\n",
       "    }\n",
       "\n",
       "    .dataframe tbody tr th {\n",
       "        vertical-align: top;\n",
       "    }\n",
       "\n",
       "    .dataframe thead th {\n",
       "        text-align: right;\n",
       "    }\n",
       "</style>\n",
       "<table border=\"1\" class=\"dataframe\">\n",
       "  <thead>\n",
       "    <tr style=\"text-align: right;\">\n",
       "      <th></th>\n",
       "      <th>period_start</th>\n",
       "      <th>period_end</th>\n",
       "      <th>followers_gained</th>\n",
       "      <th>followers_lost</th>\n",
       "      <th>followers_net</th>\n",
       "      <th>followers_total</th>\n",
       "      <th>subscribers_gained</th>\n",
       "      <th>subscribers_lost</th>\n",
       "      <th>subscribers_net</th>\n",
       "      <th>subscribers_total</th>\n",
       "      <th>month_num</th>\n",
       "      <th>month_name</th>\n",
       "    </tr>\n",
       "  </thead>\n",
       "  <tbody>\n",
       "    <tr>\n",
       "      <th>2</th>\n",
       "      <td>2021-11-01</td>\n",
       "      <td>2021-11-30</td>\n",
       "      <td>31</td>\n",
       "      <td>0</td>\n",
       "      <td>31</td>\n",
       "      <td>58</td>\n",
       "      <td>0</td>\n",
       "      <td>0</td>\n",
       "      <td>0</td>\n",
       "      <td>4</td>\n",
       "      <td>11</td>\n",
       "      <td>Nov</td>\n",
       "    </tr>\n",
       "  </tbody>\n",
       "</table>\n",
       "</div>"
      ],
      "text/plain": [
       "  period_start period_end  followers_gained  followers_lost  followers_net  \\\n",
       "2   2021-11-01 2021-11-30                31               0             31   \n",
       "\n",
       "   followers_total  subscribers_gained  subscribers_lost  subscribers_net  \\\n",
       "2               58                   0                 0                0   \n",
       "\n",
       "   subscribers_total  month_num month_name  \n",
       "2                  4         11        Nov  "
      ]
     },
     "execution_count": 101,
     "metadata": {},
     "output_type": "execute_result"
    }
   ],
   "source": [
    "subscribers[subscribers['followers_gained'] == subscribers['followers_gained'].max()]"
   ]
  },
  {
   "cell_type": "markdown",
   "metadata": {},
   "source": [
    "Apparently, November was my lucky month!"
   ]
  },
  {
   "cell_type": "markdown",
   "metadata": {},
   "source": [
    "Story with max views"
   ]
  },
  {
   "cell_type": "code",
   "execution_count": 102,
   "metadata": {},
   "outputs": [
    {
     "data": {
      "text/html": [
       "<div>\n",
       "<style scoped>\n",
       "    .dataframe tbody tr th:only-of-type {\n",
       "        vertical-align: middle;\n",
       "    }\n",
       "\n",
       "    .dataframe tbody tr th {\n",
       "        vertical-align: top;\n",
       "    }\n",
       "\n",
       "    .dataframe thead th {\n",
       "        text-align: right;\n",
       "    }\n",
       "</style>\n",
       "<table border=\"1\" class=\"dataframe\">\n",
       "  <thead>\n",
       "    <tr style=\"text-align: right;\">\n",
       "      <th></th>\n",
       "      <th>Story</th>\n",
       "      <th>Views</th>\n",
       "      <th>Reads</th>\n",
       "      <th>readRatio</th>\n",
       "      <th>Fans</th>\n",
       "    </tr>\n",
       "  </thead>\n",
       "  <tbody>\n",
       "    <tr>\n",
       "      <th>5</th>\n",
       "      <td>EDA: Analyze your own Netflix Data</td>\n",
       "      <td>830</td>\n",
       "      <td>268</td>\n",
       "      <td>32.289157</td>\n",
       "      <td>17</td>\n",
       "    </tr>\n",
       "  </tbody>\n",
       "</table>\n",
       "</div>"
      ],
      "text/plain": [
       "                                Story  Views  Reads  readRatio  Fans\n",
       "5  EDA: Analyze your own Netflix Data    830    268  32.289157    17"
      ]
     },
     "execution_count": 102,
     "metadata": {},
     "output_type": "execute_result"
    }
   ],
   "source": [
    "metrics[metrics['Views'] == metrics['Views'].max()]"
   ]
  },
  {
   "cell_type": "markdown",
   "metadata": {},
   "source": [
    "As we can see from above, the story that reached the maximum number of views is 'EDA: Analyze your own Netflix Data'."
   ]
  },
  {
   "cell_type": "markdown",
   "metadata": {},
   "source": [
    "Stories ordered by views count"
   ]
  },
  {
   "cell_type": "code",
   "execution_count": 103,
   "metadata": {},
   "outputs": [],
   "source": [
    "views_ord = metrics.sort_values(by='Views', ascending=False)"
   ]
  },
  {
   "cell_type": "code",
   "execution_count": 104,
   "metadata": {},
   "outputs": [
    {
     "data": {
      "text/html": [
       "<div>\n",
       "<style scoped>\n",
       "    .dataframe tbody tr th:only-of-type {\n",
       "        vertical-align: middle;\n",
       "    }\n",
       "\n",
       "    .dataframe tbody tr th {\n",
       "        vertical-align: top;\n",
       "    }\n",
       "\n",
       "    .dataframe thead th {\n",
       "        text-align: right;\n",
       "    }\n",
       "</style>\n",
       "<table border=\"1\" class=\"dataframe\">\n",
       "  <thead>\n",
       "    <tr style=\"text-align: right;\">\n",
       "      <th></th>\n",
       "      <th>Story</th>\n",
       "      <th>Views</th>\n",
       "      <th>Reads</th>\n",
       "      <th>readRatio</th>\n",
       "      <th>Fans</th>\n",
       "    </tr>\n",
       "  </thead>\n",
       "  <tbody>\n",
       "    <tr>\n",
       "      <th>5</th>\n",
       "      <td>EDA: Analyze your own Netflix Data</td>\n",
       "      <td>830</td>\n",
       "      <td>268</td>\n",
       "      <td>32.289157</td>\n",
       "      <td>17</td>\n",
       "    </tr>\n",
       "    <tr>\n",
       "      <th>10</th>\n",
       "      <td>Non-linear Data Structures you Must know for D...</td>\n",
       "      <td>567</td>\n",
       "      <td>224</td>\n",
       "      <td>39.506173</td>\n",
       "      <td>7</td>\n",
       "    </tr>\n",
       "    <tr>\n",
       "      <th>12</th>\n",
       "      <td>Master Your Python Skills With These Free Games</td>\n",
       "      <td>393</td>\n",
       "      <td>137</td>\n",
       "      <td>34.860051</td>\n",
       "      <td>10</td>\n",
       "    </tr>\n",
       "    <tr>\n",
       "      <th>15</th>\n",
       "      <td>Programming Naming Conventions</td>\n",
       "      <td>382</td>\n",
       "      <td>200</td>\n",
       "      <td>52.356021</td>\n",
       "      <td>8</td>\n",
       "    </tr>\n",
       "    <tr>\n",
       "      <th>9</th>\n",
       "      <td>Learn how to spot Fake News with these Free Games</td>\n",
       "      <td>329</td>\n",
       "      <td>127</td>\n",
       "      <td>38.601824</td>\n",
       "      <td>5</td>\n",
       "    </tr>\n",
       "    <tr>\n",
       "      <th>13</th>\n",
       "      <td>Build a Random Password Generator with Python</td>\n",
       "      <td>223</td>\n",
       "      <td>107</td>\n",
       "      <td>47.982063</td>\n",
       "      <td>10</td>\n",
       "    </tr>\n",
       "    <tr>\n",
       "      <th>11</th>\n",
       "      <td>Linear Data Structures you Must know for Data ...</td>\n",
       "      <td>136</td>\n",
       "      <td>60</td>\n",
       "      <td>44.117647</td>\n",
       "      <td>6</td>\n",
       "    </tr>\n",
       "    <tr>\n",
       "      <th>3</th>\n",
       "      <td>Exploring Hot 100 Billboard’s weekly Charts wi...</td>\n",
       "      <td>132</td>\n",
       "      <td>35</td>\n",
       "      <td>26.515152</td>\n",
       "      <td>4</td>\n",
       "    </tr>\n",
       "    <tr>\n",
       "      <th>7</th>\n",
       "      <td>Basic Shell Commands and Concepts to Master as...</td>\n",
       "      <td>111</td>\n",
       "      <td>29</td>\n",
       "      <td>26.126126</td>\n",
       "      <td>5</td>\n",
       "    </tr>\n",
       "    <tr>\n",
       "      <th>1</th>\n",
       "      <td>How to Combine R-Markdown and GitHub</td>\n",
       "      <td>86</td>\n",
       "      <td>53</td>\n",
       "      <td>61.627907</td>\n",
       "      <td>3</td>\n",
       "    </tr>\n",
       "    <tr>\n",
       "      <th>8</th>\n",
       "      <td>Basic Shell Commands and Concepts to Master as...</td>\n",
       "      <td>80</td>\n",
       "      <td>37</td>\n",
       "      <td>46.250000</td>\n",
       "      <td>6</td>\n",
       "    </tr>\n",
       "    <tr>\n",
       "      <th>4</th>\n",
       "      <td>Free Websites and Games to Rapidly Improve you...</td>\n",
       "      <td>68</td>\n",
       "      <td>19</td>\n",
       "      <td>27.941176</td>\n",
       "      <td>3</td>\n",
       "    </tr>\n",
       "    <tr>\n",
       "      <th>2</th>\n",
       "      <td>Explore Your own Instagram Followers Without a...</td>\n",
       "      <td>49</td>\n",
       "      <td>24</td>\n",
       "      <td>48.979592</td>\n",
       "      <td>1</td>\n",
       "    </tr>\n",
       "    <tr>\n",
       "      <th>6</th>\n",
       "      <td>Basic Shell Commands and Concepts to Master as...</td>\n",
       "      <td>48</td>\n",
       "      <td>7</td>\n",
       "      <td>14.583333</td>\n",
       "      <td>4</td>\n",
       "    </tr>\n",
       "    <tr>\n",
       "      <th>0</th>\n",
       "      <td>Create a QRcode with Python in 2 Minutes</td>\n",
       "      <td>44</td>\n",
       "      <td>22</td>\n",
       "      <td>50.000000</td>\n",
       "      <td>1</td>\n",
       "    </tr>\n",
       "    <tr>\n",
       "      <th>14</th>\n",
       "      <td>Is your Password Strong enough?</td>\n",
       "      <td>30</td>\n",
       "      <td>14</td>\n",
       "      <td>46.666667</td>\n",
       "      <td>4</td>\n",
       "    </tr>\n",
       "    <tr>\n",
       "      <th>16</th>\n",
       "      <td>About Me</td>\n",
       "      <td>14</td>\n",
       "      <td>6</td>\n",
       "      <td>42.857143</td>\n",
       "      <td>6</td>\n",
       "    </tr>\n",
       "  </tbody>\n",
       "</table>\n",
       "</div>"
      ],
      "text/plain": [
       "                                                Story  Views  Reads  \\\n",
       "5                  EDA: Analyze your own Netflix Data    830    268   \n",
       "10  Non-linear Data Structures you Must know for D...    567    224   \n",
       "12    Master Your Python Skills With These Free Games    393    137   \n",
       "15                     Programming Naming Conventions    382    200   \n",
       "9   Learn how to spot Fake News with these Free Games    329    127   \n",
       "13      Build a Random Password Generator with Python    223    107   \n",
       "11  Linear Data Structures you Must know for Data ...    136     60   \n",
       "3   Exploring Hot 100 Billboard’s weekly Charts wi...    132     35   \n",
       "7   Basic Shell Commands and Concepts to Master as...    111     29   \n",
       "1                How to Combine R-Markdown and GitHub     86     53   \n",
       "8   Basic Shell Commands and Concepts to Master as...     80     37   \n",
       "4   Free Websites and Games to Rapidly Improve you...     68     19   \n",
       "2   Explore Your own Instagram Followers Without a...     49     24   \n",
       "6   Basic Shell Commands and Concepts to Master as...     48      7   \n",
       "0            Create a QRcode with Python in 2 Minutes     44     22   \n",
       "14                    Is your Password Strong enough?     30     14   \n",
       "16                                           About Me     14      6   \n",
       "\n",
       "    readRatio  Fans  \n",
       "5   32.289157    17  \n",
       "10  39.506173     7  \n",
       "12  34.860051    10  \n",
       "15  52.356021     8  \n",
       "9   38.601824     5  \n",
       "13  47.982063    10  \n",
       "11  44.117647     6  \n",
       "3   26.515152     4  \n",
       "7   26.126126     5  \n",
       "1   61.627907     3  \n",
       "8   46.250000     6  \n",
       "4   27.941176     3  \n",
       "2   48.979592     1  \n",
       "6   14.583333     4  \n",
       "0   50.000000     1  \n",
       "14  46.666667     4  \n",
       "16  42.857143     6  "
      ]
     },
     "execution_count": 104,
     "metadata": {},
     "output_type": "execute_result"
    }
   ],
   "source": [
    "views_ord"
   ]
  },
  {
   "cell_type": "markdown",
   "metadata": {},
   "source": [
    "Stories with max reads"
   ]
  },
  {
   "cell_type": "markdown",
   "metadata": {},
   "source": [
    "Apart from views, it's interesting to analyze how many reads each story got, since it's a more relevant statistic of other users engagement."
   ]
  },
  {
   "cell_type": "code",
   "execution_count": 105,
   "metadata": {},
   "outputs": [],
   "source": [
    "reads_ord = metrics.sort_values(by='Reads', ascending=False)"
   ]
  },
  {
   "cell_type": "code",
   "execution_count": 106,
   "metadata": {},
   "outputs": [
    {
     "data": {
      "text/html": [
       "<div>\n",
       "<style scoped>\n",
       "    .dataframe tbody tr th:only-of-type {\n",
       "        vertical-align: middle;\n",
       "    }\n",
       "\n",
       "    .dataframe tbody tr th {\n",
       "        vertical-align: top;\n",
       "    }\n",
       "\n",
       "    .dataframe thead th {\n",
       "        text-align: right;\n",
       "    }\n",
       "</style>\n",
       "<table border=\"1\" class=\"dataframe\">\n",
       "  <thead>\n",
       "    <tr style=\"text-align: right;\">\n",
       "      <th></th>\n",
       "      <th>Story</th>\n",
       "      <th>Views</th>\n",
       "      <th>Reads</th>\n",
       "      <th>readRatio</th>\n",
       "      <th>Fans</th>\n",
       "    </tr>\n",
       "  </thead>\n",
       "  <tbody>\n",
       "    <tr>\n",
       "      <th>5</th>\n",
       "      <td>EDA: Analyze your own Netflix Data</td>\n",
       "      <td>830</td>\n",
       "      <td>268</td>\n",
       "      <td>32.289157</td>\n",
       "      <td>17</td>\n",
       "    </tr>\n",
       "    <tr>\n",
       "      <th>10</th>\n",
       "      <td>Non-linear Data Structures you Must know for D...</td>\n",
       "      <td>567</td>\n",
       "      <td>224</td>\n",
       "      <td>39.506173</td>\n",
       "      <td>7</td>\n",
       "    </tr>\n",
       "    <tr>\n",
       "      <th>15</th>\n",
       "      <td>Programming Naming Conventions</td>\n",
       "      <td>382</td>\n",
       "      <td>200</td>\n",
       "      <td>52.356021</td>\n",
       "      <td>8</td>\n",
       "    </tr>\n",
       "  </tbody>\n",
       "</table>\n",
       "</div>"
      ],
      "text/plain": [
       "                                                Story  Views  Reads  \\\n",
       "5                  EDA: Analyze your own Netflix Data    830    268   \n",
       "10  Non-linear Data Structures you Must know for D...    567    224   \n",
       "15                     Programming Naming Conventions    382    200   \n",
       "\n",
       "    readRatio  Fans  \n",
       "5   32.289157    17  \n",
       "10  39.506173     7  \n",
       "15  52.356021     8  "
      ]
     },
     "execution_count": 106,
     "metadata": {},
     "output_type": "execute_result"
    }
   ],
   "source": [
    "reads_ord.head(3)"
   ]
  },
  {
   "cell_type": "markdown",
   "metadata": {},
   "source": [
    "Stories engagement according to readRatio"
   ]
  },
  {
   "cell_type": "code",
   "execution_count": 107,
   "metadata": {},
   "outputs": [],
   "source": [
    "readRatio_ord = metrics.sort_values(by='readRatio', ascending=False)"
   ]
  },
  {
   "cell_type": "code",
   "execution_count": 108,
   "metadata": {},
   "outputs": [
    {
     "data": {
      "text/html": [
       "<div>\n",
       "<style scoped>\n",
       "    .dataframe tbody tr th:only-of-type {\n",
       "        vertical-align: middle;\n",
       "    }\n",
       "\n",
       "    .dataframe tbody tr th {\n",
       "        vertical-align: top;\n",
       "    }\n",
       "\n",
       "    .dataframe thead th {\n",
       "        text-align: right;\n",
       "    }\n",
       "</style>\n",
       "<table border=\"1\" class=\"dataframe\">\n",
       "  <thead>\n",
       "    <tr style=\"text-align: right;\">\n",
       "      <th></th>\n",
       "      <th>Story</th>\n",
       "      <th>Views</th>\n",
       "      <th>Reads</th>\n",
       "      <th>readRatio</th>\n",
       "      <th>Fans</th>\n",
       "    </tr>\n",
       "  </thead>\n",
       "  <tbody>\n",
       "    <tr>\n",
       "      <th>1</th>\n",
       "      <td>How to Combine R-Markdown and GitHub</td>\n",
       "      <td>86</td>\n",
       "      <td>53</td>\n",
       "      <td>61.627907</td>\n",
       "      <td>3</td>\n",
       "    </tr>\n",
       "    <tr>\n",
       "      <th>15</th>\n",
       "      <td>Programming Naming Conventions</td>\n",
       "      <td>382</td>\n",
       "      <td>200</td>\n",
       "      <td>52.356021</td>\n",
       "      <td>8</td>\n",
       "    </tr>\n",
       "    <tr>\n",
       "      <th>0</th>\n",
       "      <td>Create a QRcode with Python in 2 Minutes</td>\n",
       "      <td>44</td>\n",
       "      <td>22</td>\n",
       "      <td>50.000000</td>\n",
       "      <td>1</td>\n",
       "    </tr>\n",
       "    <tr>\n",
       "      <th>2</th>\n",
       "      <td>Explore Your own Instagram Followers Without a...</td>\n",
       "      <td>49</td>\n",
       "      <td>24</td>\n",
       "      <td>48.979592</td>\n",
       "      <td>1</td>\n",
       "    </tr>\n",
       "    <tr>\n",
       "      <th>13</th>\n",
       "      <td>Build a Random Password Generator with Python</td>\n",
       "      <td>223</td>\n",
       "      <td>107</td>\n",
       "      <td>47.982063</td>\n",
       "      <td>10</td>\n",
       "    </tr>\n",
       "  </tbody>\n",
       "</table>\n",
       "</div>"
      ],
      "text/plain": [
       "                                                Story  Views  Reads  \\\n",
       "1                How to Combine R-Markdown and GitHub     86     53   \n",
       "15                     Programming Naming Conventions    382    200   \n",
       "0            Create a QRcode with Python in 2 Minutes     44     22   \n",
       "2   Explore Your own Instagram Followers Without a...     49     24   \n",
       "13      Build a Random Password Generator with Python    223    107   \n",
       "\n",
       "    readRatio  Fans  \n",
       "1   61.627907     3  \n",
       "15  52.356021     8  \n",
       "0   50.000000     1  \n",
       "2   48.979592     1  \n",
       "13  47.982063    10  "
      ]
     },
     "execution_count": 108,
     "metadata": {},
     "output_type": "execute_result"
    }
   ],
   "source": [
    "readRatio_ord.head()"
   ]
  },
  {
   "cell_type": "markdown",
   "metadata": {},
   "source": [
    "It's relevant to note that these are probably my less-during stories. We can extract that people on Medium are searching for rapid lectures. Or maybe it's my problem."
   ]
  },
  {
   "cell_type": "markdown",
   "metadata": {},
   "source": [
    "Compute the total number of views for my 2021 (starting since August btw)"
   ]
  },
  {
   "cell_type": "code",
   "execution_count": 109,
   "metadata": {},
   "outputs": [
    {
     "data": {
      "text/plain": [
       "3522"
      ]
     },
     "execution_count": 109,
     "metadata": {},
     "output_type": "execute_result"
    }
   ],
   "source": [
    "metrics['Views'].sum()"
   ]
  },
  {
   "cell_type": "markdown",
   "metadata": {},
   "source": [
    "Mean views by story"
   ]
  },
  {
   "cell_type": "code",
   "execution_count": 110,
   "metadata": {},
   "outputs": [],
   "source": [
    "metrics['meanV'] = metrics['Views'].mean()"
   ]
  },
  {
   "cell_type": "code",
   "execution_count": 111,
   "metadata": {},
   "outputs": [
    {
     "data": {
      "text/html": [
       "<div>\n",
       "<style scoped>\n",
       "    .dataframe tbody tr th:only-of-type {\n",
       "        vertical-align: middle;\n",
       "    }\n",
       "\n",
       "    .dataframe tbody tr th {\n",
       "        vertical-align: top;\n",
       "    }\n",
       "\n",
       "    .dataframe thead th {\n",
       "        text-align: right;\n",
       "    }\n",
       "</style>\n",
       "<table border=\"1\" class=\"dataframe\">\n",
       "  <thead>\n",
       "    <tr style=\"text-align: right;\">\n",
       "      <th></th>\n",
       "      <th>Story</th>\n",
       "      <th>meanV</th>\n",
       "    </tr>\n",
       "  </thead>\n",
       "  <tbody>\n",
       "    <tr>\n",
       "      <th>0</th>\n",
       "      <td>Create a QRcode with Python in 2 Minutes</td>\n",
       "      <td>207.176471</td>\n",
       "    </tr>\n",
       "    <tr>\n",
       "      <th>1</th>\n",
       "      <td>How to Combine R-Markdown and GitHub</td>\n",
       "      <td>207.176471</td>\n",
       "    </tr>\n",
       "    <tr>\n",
       "      <th>2</th>\n",
       "      <td>Explore Your own Instagram Followers Without a...</td>\n",
       "      <td>207.176471</td>\n",
       "    </tr>\n",
       "    <tr>\n",
       "      <th>3</th>\n",
       "      <td>Exploring Hot 100 Billboard’s weekly Charts wi...</td>\n",
       "      <td>207.176471</td>\n",
       "    </tr>\n",
       "    <tr>\n",
       "      <th>4</th>\n",
       "      <td>Free Websites and Games to Rapidly Improve you...</td>\n",
       "      <td>207.176471</td>\n",
       "    </tr>\n",
       "    <tr>\n",
       "      <th>5</th>\n",
       "      <td>EDA: Analyze your own Netflix Data</td>\n",
       "      <td>207.176471</td>\n",
       "    </tr>\n",
       "    <tr>\n",
       "      <th>6</th>\n",
       "      <td>Basic Shell Commands and Concepts to Master as...</td>\n",
       "      <td>207.176471</td>\n",
       "    </tr>\n",
       "    <tr>\n",
       "      <th>7</th>\n",
       "      <td>Basic Shell Commands and Concepts to Master as...</td>\n",
       "      <td>207.176471</td>\n",
       "    </tr>\n",
       "    <tr>\n",
       "      <th>8</th>\n",
       "      <td>Basic Shell Commands and Concepts to Master as...</td>\n",
       "      <td>207.176471</td>\n",
       "    </tr>\n",
       "    <tr>\n",
       "      <th>9</th>\n",
       "      <td>Learn how to spot Fake News with these Free Games</td>\n",
       "      <td>207.176471</td>\n",
       "    </tr>\n",
       "    <tr>\n",
       "      <th>10</th>\n",
       "      <td>Non-linear Data Structures you Must know for D...</td>\n",
       "      <td>207.176471</td>\n",
       "    </tr>\n",
       "    <tr>\n",
       "      <th>11</th>\n",
       "      <td>Linear Data Structures you Must know for Data ...</td>\n",
       "      <td>207.176471</td>\n",
       "    </tr>\n",
       "    <tr>\n",
       "      <th>12</th>\n",
       "      <td>Master Your Python Skills With These Free Games</td>\n",
       "      <td>207.176471</td>\n",
       "    </tr>\n",
       "    <tr>\n",
       "      <th>13</th>\n",
       "      <td>Build a Random Password Generator with Python</td>\n",
       "      <td>207.176471</td>\n",
       "    </tr>\n",
       "    <tr>\n",
       "      <th>14</th>\n",
       "      <td>Is your Password Strong enough?</td>\n",
       "      <td>207.176471</td>\n",
       "    </tr>\n",
       "    <tr>\n",
       "      <th>15</th>\n",
       "      <td>Programming Naming Conventions</td>\n",
       "      <td>207.176471</td>\n",
       "    </tr>\n",
       "    <tr>\n",
       "      <th>16</th>\n",
       "      <td>About Me</td>\n",
       "      <td>207.176471</td>\n",
       "    </tr>\n",
       "  </tbody>\n",
       "</table>\n",
       "</div>"
      ],
      "text/plain": [
       "                                                Story       meanV\n",
       "0            Create a QRcode with Python in 2 Minutes  207.176471\n",
       "1                How to Combine R-Markdown and GitHub  207.176471\n",
       "2   Explore Your own Instagram Followers Without a...  207.176471\n",
       "3   Exploring Hot 100 Billboard’s weekly Charts wi...  207.176471\n",
       "4   Free Websites and Games to Rapidly Improve you...  207.176471\n",
       "5                  EDA: Analyze your own Netflix Data  207.176471\n",
       "6   Basic Shell Commands and Concepts to Master as...  207.176471\n",
       "7   Basic Shell Commands and Concepts to Master as...  207.176471\n",
       "8   Basic Shell Commands and Concepts to Master as...  207.176471\n",
       "9   Learn how to spot Fake News with these Free Games  207.176471\n",
       "10  Non-linear Data Structures you Must know for D...  207.176471\n",
       "11  Linear Data Structures you Must know for Data ...  207.176471\n",
       "12    Master Your Python Skills With These Free Games  207.176471\n",
       "13      Build a Random Password Generator with Python  207.176471\n",
       "14                    Is your Password Strong enough?  207.176471\n",
       "15                     Programming Naming Conventions  207.176471\n",
       "16                                           About Me  207.176471"
      ]
     },
     "execution_count": 111,
     "metadata": {},
     "output_type": "execute_result"
    }
   ],
   "source": [
    "metrics[['Story', 'meanV']]"
   ]
  },
  {
   "cell_type": "markdown",
   "metadata": {},
   "source": [
    "Mean readRatio"
   ]
  },
  {
   "cell_type": "code",
   "execution_count": 112,
   "metadata": {},
   "outputs": [],
   "source": [
    "metrics['meanrR'] = metrics['readRatio'].mean()"
   ]
  },
  {
   "cell_type": "code",
   "execution_count": 113,
   "metadata": {},
   "outputs": [
    {
     "data": {
      "text/html": [
       "<div>\n",
       "<style scoped>\n",
       "    .dataframe tbody tr th:only-of-type {\n",
       "        vertical-align: middle;\n",
       "    }\n",
       "\n",
       "    .dataframe tbody tr th {\n",
       "        vertical-align: top;\n",
       "    }\n",
       "\n",
       "    .dataframe thead th {\n",
       "        text-align: right;\n",
       "    }\n",
       "</style>\n",
       "<table border=\"1\" class=\"dataframe\">\n",
       "  <thead>\n",
       "    <tr style=\"text-align: right;\">\n",
       "      <th></th>\n",
       "      <th>Story</th>\n",
       "      <th>meanrR</th>\n",
       "    </tr>\n",
       "  </thead>\n",
       "  <tbody>\n",
       "    <tr>\n",
       "      <th>0</th>\n",
       "      <td>Create a QRcode with Python in 2 Minutes</td>\n",
       "      <td>40.074119</td>\n",
       "    </tr>\n",
       "    <tr>\n",
       "      <th>1</th>\n",
       "      <td>How to Combine R-Markdown and GitHub</td>\n",
       "      <td>40.074119</td>\n",
       "    </tr>\n",
       "    <tr>\n",
       "      <th>2</th>\n",
       "      <td>Explore Your own Instagram Followers Without a...</td>\n",
       "      <td>40.074119</td>\n",
       "    </tr>\n",
       "    <tr>\n",
       "      <th>3</th>\n",
       "      <td>Exploring Hot 100 Billboard’s weekly Charts wi...</td>\n",
       "      <td>40.074119</td>\n",
       "    </tr>\n",
       "    <tr>\n",
       "      <th>4</th>\n",
       "      <td>Free Websites and Games to Rapidly Improve you...</td>\n",
       "      <td>40.074119</td>\n",
       "    </tr>\n",
       "    <tr>\n",
       "      <th>5</th>\n",
       "      <td>EDA: Analyze your own Netflix Data</td>\n",
       "      <td>40.074119</td>\n",
       "    </tr>\n",
       "    <tr>\n",
       "      <th>6</th>\n",
       "      <td>Basic Shell Commands and Concepts to Master as...</td>\n",
       "      <td>40.074119</td>\n",
       "    </tr>\n",
       "    <tr>\n",
       "      <th>7</th>\n",
       "      <td>Basic Shell Commands and Concepts to Master as...</td>\n",
       "      <td>40.074119</td>\n",
       "    </tr>\n",
       "    <tr>\n",
       "      <th>8</th>\n",
       "      <td>Basic Shell Commands and Concepts to Master as...</td>\n",
       "      <td>40.074119</td>\n",
       "    </tr>\n",
       "    <tr>\n",
       "      <th>9</th>\n",
       "      <td>Learn how to spot Fake News with these Free Games</td>\n",
       "      <td>40.074119</td>\n",
       "    </tr>\n",
       "    <tr>\n",
       "      <th>10</th>\n",
       "      <td>Non-linear Data Structures you Must know for D...</td>\n",
       "      <td>40.074119</td>\n",
       "    </tr>\n",
       "    <tr>\n",
       "      <th>11</th>\n",
       "      <td>Linear Data Structures you Must know for Data ...</td>\n",
       "      <td>40.074119</td>\n",
       "    </tr>\n",
       "    <tr>\n",
       "      <th>12</th>\n",
       "      <td>Master Your Python Skills With These Free Games</td>\n",
       "      <td>40.074119</td>\n",
       "    </tr>\n",
       "    <tr>\n",
       "      <th>13</th>\n",
       "      <td>Build a Random Password Generator with Python</td>\n",
       "      <td>40.074119</td>\n",
       "    </tr>\n",
       "    <tr>\n",
       "      <th>14</th>\n",
       "      <td>Is your Password Strong enough?</td>\n",
       "      <td>40.074119</td>\n",
       "    </tr>\n",
       "    <tr>\n",
       "      <th>15</th>\n",
       "      <td>Programming Naming Conventions</td>\n",
       "      <td>40.074119</td>\n",
       "    </tr>\n",
       "    <tr>\n",
       "      <th>16</th>\n",
       "      <td>About Me</td>\n",
       "      <td>40.074119</td>\n",
       "    </tr>\n",
       "  </tbody>\n",
       "</table>\n",
       "</div>"
      ],
      "text/plain": [
       "                                                Story     meanrR\n",
       "0            Create a QRcode with Python in 2 Minutes  40.074119\n",
       "1                How to Combine R-Markdown and GitHub  40.074119\n",
       "2   Explore Your own Instagram Followers Without a...  40.074119\n",
       "3   Exploring Hot 100 Billboard’s weekly Charts wi...  40.074119\n",
       "4   Free Websites and Games to Rapidly Improve you...  40.074119\n",
       "5                  EDA: Analyze your own Netflix Data  40.074119\n",
       "6   Basic Shell Commands and Concepts to Master as...  40.074119\n",
       "7   Basic Shell Commands and Concepts to Master as...  40.074119\n",
       "8   Basic Shell Commands and Concepts to Master as...  40.074119\n",
       "9   Learn how to spot Fake News with these Free Games  40.074119\n",
       "10  Non-linear Data Structures you Must know for D...  40.074119\n",
       "11  Linear Data Structures you Must know for Data ...  40.074119\n",
       "12    Master Your Python Skills With These Free Games  40.074119\n",
       "13      Build a Random Password Generator with Python  40.074119\n",
       "14                    Is your Password Strong enough?  40.074119\n",
       "15                     Programming Naming Conventions  40.074119\n",
       "16                                           About Me  40.074119"
      ]
     },
     "execution_count": 113,
     "metadata": {},
     "output_type": "execute_result"
    }
   ],
   "source": [
    "metrics[['Story', 'meanrR']]"
   ]
  },
  {
   "cell_type": "markdown",
   "metadata": {},
   "source": [
    "40% of people who viewed my stories kept reading them. I think that's a great result considering that now we prefer 'to scroll' over stories rather than effectively reading them."
   ]
  },
  {
   "cell_type": "markdown",
   "metadata": {},
   "source": [
    "### Data visualization"
   ]
  },
  {
   "cell_type": "code",
   "execution_count": 114,
   "metadata": {},
   "outputs": [],
   "source": [
    "import matplotlib.pyplot as plt\n",
    "import seaborn as sns\n",
    "%matplotlib inline"
   ]
  },
  {
   "cell_type": "code",
   "execution_count": 115,
   "metadata": {},
   "outputs": [
    {
     "data": {
      "text/plain": [
       "Index(['period_start', 'period_end', 'followers_gained', 'followers_lost',\n",
       "       'followers_net', 'followers_total', 'subscribers_gained',\n",
       "       'subscribers_lost', 'subscribers_net', 'subscribers_total', 'month_num',\n",
       "       'month_name'],\n",
       "      dtype='object')"
      ]
     },
     "execution_count": 115,
     "metadata": {},
     "output_type": "execute_result"
    }
   ],
   "source": [
    "subscribers.columns"
   ]
  },
  {
   "cell_type": "code",
   "execution_count": 116,
   "metadata": {},
   "outputs": [
    {
     "data": {
      "text/plain": [
       "Index(['Story', 'Views', 'Reads', 'readRatio', 'Fans', 'meanV', 'meanrR'], dtype='object')"
      ]
     },
     "execution_count": 116,
     "metadata": {},
     "output_type": "execute_result"
    }
   ],
   "source": [
    "metrics.columns"
   ]
  },
  {
   "cell_type": "markdown",
   "metadata": {},
   "source": [
    "Plotting gained followers over months"
   ]
  },
  {
   "cell_type": "code",
   "execution_count": 123,
   "metadata": {},
   "outputs": [],
   "source": [
    "month_ord = subscribers.sort_values(by='month_num')"
   ]
  },
  {
   "cell_type": "code",
   "execution_count": 124,
   "metadata": {},
   "outputs": [
    {
     "data": {
      "text/html": [
       "<div>\n",
       "<style scoped>\n",
       "    .dataframe tbody tr th:only-of-type {\n",
       "        vertical-align: middle;\n",
       "    }\n",
       "\n",
       "    .dataframe tbody tr th {\n",
       "        vertical-align: top;\n",
       "    }\n",
       "\n",
       "    .dataframe thead th {\n",
       "        text-align: right;\n",
       "    }\n",
       "</style>\n",
       "<table border=\"1\" class=\"dataframe\">\n",
       "  <thead>\n",
       "    <tr style=\"text-align: right;\">\n",
       "      <th></th>\n",
       "      <th>period_start</th>\n",
       "      <th>period_end</th>\n",
       "      <th>followers_gained</th>\n",
       "      <th>followers_lost</th>\n",
       "      <th>followers_net</th>\n",
       "      <th>followers_total</th>\n",
       "      <th>subscribers_gained</th>\n",
       "      <th>subscribers_lost</th>\n",
       "      <th>subscribers_net</th>\n",
       "      <th>subscribers_total</th>\n",
       "      <th>month_num</th>\n",
       "      <th>month_name</th>\n",
       "    </tr>\n",
       "  </thead>\n",
       "  <tbody>\n",
       "    <tr>\n",
       "      <th>5</th>\n",
       "      <td>2021-08-01</td>\n",
       "      <td>2021-08-31</td>\n",
       "      <td>11</td>\n",
       "      <td>0</td>\n",
       "      <td>11</td>\n",
       "      <td>11</td>\n",
       "      <td>2</td>\n",
       "      <td>0</td>\n",
       "      <td>2</td>\n",
       "      <td>2</td>\n",
       "      <td>8</td>\n",
       "      <td>Aug</td>\n",
       "    </tr>\n",
       "    <tr>\n",
       "      <th>4</th>\n",
       "      <td>2021-09-01</td>\n",
       "      <td>2021-09-30</td>\n",
       "      <td>7</td>\n",
       "      <td>0</td>\n",
       "      <td>7</td>\n",
       "      <td>18</td>\n",
       "      <td>0</td>\n",
       "      <td>0</td>\n",
       "      <td>0</td>\n",
       "      <td>2</td>\n",
       "      <td>9</td>\n",
       "      <td>Sep</td>\n",
       "    </tr>\n",
       "    <tr>\n",
       "      <th>3</th>\n",
       "      <td>2021-10-01</td>\n",
       "      <td>2021-10-31</td>\n",
       "      <td>9</td>\n",
       "      <td>0</td>\n",
       "      <td>9</td>\n",
       "      <td>27</td>\n",
       "      <td>2</td>\n",
       "      <td>0</td>\n",
       "      <td>2</td>\n",
       "      <td>4</td>\n",
       "      <td>10</td>\n",
       "      <td>Oct</td>\n",
       "    </tr>\n",
       "    <tr>\n",
       "      <th>2</th>\n",
       "      <td>2021-11-01</td>\n",
       "      <td>2021-11-30</td>\n",
       "      <td>31</td>\n",
       "      <td>0</td>\n",
       "      <td>31</td>\n",
       "      <td>58</td>\n",
       "      <td>0</td>\n",
       "      <td>0</td>\n",
       "      <td>0</td>\n",
       "      <td>4</td>\n",
       "      <td>11</td>\n",
       "      <td>Nov</td>\n",
       "    </tr>\n",
       "    <tr>\n",
       "      <th>1</th>\n",
       "      <td>2021-12-01</td>\n",
       "      <td>2021-12-31</td>\n",
       "      <td>8</td>\n",
       "      <td>1</td>\n",
       "      <td>7</td>\n",
       "      <td>65</td>\n",
       "      <td>0</td>\n",
       "      <td>0</td>\n",
       "      <td>0</td>\n",
       "      <td>4</td>\n",
       "      <td>12</td>\n",
       "      <td>Dec</td>\n",
       "    </tr>\n",
       "  </tbody>\n",
       "</table>\n",
       "</div>"
      ],
      "text/plain": [
       "  period_start period_end  followers_gained  followers_lost  followers_net  \\\n",
       "5   2021-08-01 2021-08-31                11               0             11   \n",
       "4   2021-09-01 2021-09-30                 7               0              7   \n",
       "3   2021-10-01 2021-10-31                 9               0              9   \n",
       "2   2021-11-01 2021-11-30                31               0             31   \n",
       "1   2021-12-01 2021-12-31                 8               1              7   \n",
       "\n",
       "   followers_total  subscribers_gained  subscribers_lost  subscribers_net  \\\n",
       "5               11                   2                 0                2   \n",
       "4               18                   0                 0                0   \n",
       "3               27                   2                 0                2   \n",
       "2               58                   0                 0                0   \n",
       "1               65                   0                 0                0   \n",
       "\n",
       "   subscribers_total  month_num month_name  \n",
       "5                  2          8        Aug  \n",
       "4                  2          9        Sep  \n",
       "3                  4         10        Oct  \n",
       "2                  4         11        Nov  \n",
       "1                  4         12        Dec  "
      ]
     },
     "execution_count": 124,
     "metadata": {},
     "output_type": "execute_result"
    }
   ],
   "source": [
    "month_ord"
   ]
  },
  {
   "cell_type": "code",
   "execution_count": 125,
   "metadata": {},
   "outputs": [
    {
     "data": {
      "text/plain": [
       "<AxesSubplot:xlabel='month_name', ylabel='followers_gained'>"
      ]
     },
     "execution_count": 125,
     "metadata": {},
     "output_type": "execute_result"
    },
    {
     "data": {
      "image/png": "[encoded data removed]",
      "text/plain": [
       "<Figure size 432x288 with 1 Axes>"
      ]
     },
     "metadata": {
      "needs_background": "light"
     },
     "output_type": "display_data"
    }
   ],
   "source": [
    "sns.lineplot(data=month_ord, x='month_name', y='followers_gained')"
   ]
  },
  {
   "cell_type": "markdown",
   "metadata": {},
   "source": [
    "Bar plot with number of views"
   ]
  },
  {
   "cell_type": "code",
   "execution_count": 128,
   "metadata": {},
   "outputs": [],
   "source": [
    "top3_views = views_ord.head(3)"
   ]
  },
  {
   "cell_type": "code",
   "execution_count": 130,
   "metadata": {},
   "outputs": [
    {
     "data": {
      "text/plain": [
       "<AxesSubplot:xlabel='Views', ylabel='Story'>"
      ]
     },
     "execution_count": 130,
     "metadata": {},
     "output_type": "execute_result"
    },
    {
     "data": {
      "image/png": "[encoded data removed]",
      "text/plain": [
       "<Figure size 432x288 with 1 Axes>"
      ]
     },
     "metadata": {
      "needs_background": "light"
     },
     "output_type": "display_data"
    }
   ],
   "source": [
    "sns.barplot(x='Views', y='Story', data=top3_views)"
   ]
  }
 ],
 "metadata": {
  "interpreter": {
   "hash": "22f5c8559ee5d16991f9240bd2c1a679b03627a0e94304b0bc26d90d3a5752ce"
  },
  "kernelspec": {
   "display_name": "Python 3.9.7 64-bit ('MainEnv': conda)",
   "language": "python",
   "name": "python3"
  },
  "language_info": {
   "codemirror_mode": {
    "name": "ipython",
    "version": 3
   },
   "file_extension": ".py",
   "mimetype": "text/x-python",
   "name": "python",
   "nbconvert_exporter": "python",
   "pygments_lexer": "ipython3",
   "version": "3.9.7"
  },
  "orig_nbformat": 4
 },
 "nbformat": 4,
 "nbformat_minor": 2
}
