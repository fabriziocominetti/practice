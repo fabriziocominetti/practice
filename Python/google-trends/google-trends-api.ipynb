{
 "cells": [
  {
   "cell_type": "markdown",
   "metadata": {},
   "source": [
    "## Google Trends API - Python"
   ]
  },
  {
   "cell_type": "markdown",
   "metadata": {},
   "source": [
    "First step: connect to Google\n",
    "\n",
    "For this, we need to import the method called TrendReq from pytrends.request library."
   ]
  },
  {
   "cell_type": "code",
   "execution_count": 15,
   "metadata": {},
   "outputs": [],
   "source": [
    "import pandas as pd\n",
    "from pytrends.request import TrendReq\n",
    "import matplotlib.pyplot as plt\n",
    "import seaborn as sns"
   ]
  },
  {
   "cell_type": "code",
   "execution_count": 2,
   "metadata": {},
   "outputs": [],
   "source": [
    "pytrend = TrendReq()"
   ]
  },
  {
   "cell_type": "markdown",
   "metadata": {},
   "source": [
    "#### Interests by Region"
   ]
  },
  {
   "cell_type": "markdown",
   "metadata": {},
   "source": [
    "Terms which are popular in the region worldwide."
   ]
  },
  {
   "cell_type": "code",
   "execution_count": 3,
   "metadata": {},
   "outputs": [
    {
     "data": {
      "text/html": [
       "<div>\n",
       "<style scoped>\n",
       "    .dataframe tbody tr th:only-of-type {\n",
       "        vertical-align: middle;\n",
       "    }\n",
       "\n",
       "    .dataframe tbody tr th {\n",
       "        vertical-align: top;\n",
       "    }\n",
       "\n",
       "    .dataframe thead th {\n",
       "        text-align: right;\n",
       "    }\n",
       "</style>\n",
       "<table border=\"1\" class=\"dataframe\">\n",
       "  <thead>\n",
       "    <tr style=\"text-align: right;\">\n",
       "      <th></th>\n",
       "      <th>AC Milan</th>\n",
       "    </tr>\n",
       "    <tr>\n",
       "      <th>geoName</th>\n",
       "      <th></th>\n",
       "    </tr>\n",
       "  </thead>\n",
       "  <tbody>\n",
       "    <tr>\n",
       "      <th>Afghanistan</th>\n",
       "      <td>0</td>\n",
       "    </tr>\n",
       "    <tr>\n",
       "      <th>Albania</th>\n",
       "      <td>19</td>\n",
       "    </tr>\n",
       "    <tr>\n",
       "      <th>Algeria</th>\n",
       "      <td>13</td>\n",
       "    </tr>\n",
       "    <tr>\n",
       "      <th>American Samoa</th>\n",
       "      <td>0</td>\n",
       "    </tr>\n",
       "    <tr>\n",
       "      <th>Andorra</th>\n",
       "      <td>0</td>\n",
       "    </tr>\n",
       "  </tbody>\n",
       "</table>\n",
       "</div>"
      ],
      "text/plain": [
       "                AC Milan\n",
       "geoName                 \n",
       "Afghanistan            0\n",
       "Albania               19\n",
       "Algeria               13\n",
       "American Samoa         0\n",
       "Andorra                0"
      ]
     },
     "execution_count": 3,
     "metadata": {},
     "output_type": "execute_result"
    }
   ],
   "source": [
    "pytrend.build_payload(kw_list=['AC Milan'])\n",
    "\n",
    "# interest by region\n",
    "df = pytrend.interest_by_region()\n",
    "df.head()"
   ]
  },
  {
   "cell_type": "markdown",
   "metadata": {},
   "source": [
    "The values are calculated on a scale from 0 to 100, where 100 is the location with the most popularity as a fraction of total searches in that location, a value of 50 indicates a location which is half as popular. A value of 0 indicates a location where there was not enough data for this term."
   ]
  },
  {
   "cell_type": "code",
   "execution_count": 4,
   "metadata": {},
   "outputs": [
    {
     "data": {
      "text/plain": [
       "Index(['AC Milan'], dtype='object')"
      ]
     },
     "execution_count": 4,
     "metadata": {},
     "output_type": "execute_result"
    }
   ],
   "source": [
    "df.columns"
   ]
  },
  {
   "cell_type": "code",
   "execution_count": 10,
   "metadata": {},
   "outputs": [
    {
     "data": {
      "text/html": [
       "<div>\n",
       "<style scoped>\n",
       "    .dataframe tbody tr th:only-of-type {\n",
       "        vertical-align: middle;\n",
       "    }\n",
       "\n",
       "    .dataframe tbody tr th {\n",
       "        vertical-align: top;\n",
       "    }\n",
       "\n",
       "    .dataframe thead th {\n",
       "        text-align: right;\n",
       "    }\n",
       "</style>\n",
       "<table border=\"1\" class=\"dataframe\">\n",
       "  <thead>\n",
       "    <tr style=\"text-align: right;\">\n",
       "      <th></th>\n",
       "      <th>AC Milan</th>\n",
       "    </tr>\n",
       "    <tr>\n",
       "      <th>geoName</th>\n",
       "      <th></th>\n",
       "    </tr>\n",
       "  </thead>\n",
       "  <tbody>\n",
       "    <tr>\n",
       "      <th>Haiti</th>\n",
       "      <td>100</td>\n",
       "    </tr>\n",
       "    <tr>\n",
       "      <th>Congo - Kinshasa</th>\n",
       "      <td>52</td>\n",
       "    </tr>\n",
       "    <tr>\n",
       "      <th>Guinea</th>\n",
       "      <td>48</td>\n",
       "    </tr>\n",
       "    <tr>\n",
       "      <th>Senegal</th>\n",
       "      <td>45</td>\n",
       "    </tr>\n",
       "    <tr>\n",
       "      <th>Somalia</th>\n",
       "      <td>41</td>\n",
       "    </tr>\n",
       "    <tr>\n",
       "      <th>Uganda</th>\n",
       "      <td>40</td>\n",
       "    </tr>\n",
       "    <tr>\n",
       "      <th>Mali</th>\n",
       "      <td>36</td>\n",
       "    </tr>\n",
       "    <tr>\n",
       "      <th>Indonesia</th>\n",
       "      <td>34</td>\n",
       "    </tr>\n",
       "    <tr>\n",
       "      <th>Malta</th>\n",
       "      <td>31</td>\n",
       "    </tr>\n",
       "    <tr>\n",
       "      <th>Nigeria</th>\n",
       "      <td>27</td>\n",
       "    </tr>\n",
       "  </tbody>\n",
       "</table>\n",
       "</div>"
      ],
      "text/plain": [
       "                  AC Milan\n",
       "geoName                   \n",
       "Haiti                  100\n",
       "Congo - Kinshasa        52\n",
       "Guinea                  48\n",
       "Senegal                 45\n",
       "Somalia                 41\n",
       "Uganda                  40\n",
       "Mali                    36\n",
       "Indonesia               34\n",
       "Malta                   31\n",
       "Nigeria                 27"
      ]
     },
     "execution_count": 10,
     "metadata": {},
     "output_type": "execute_result"
    }
   ],
   "source": [
    "df = pytrend.interest_by_region()\n",
    "df = df.sort_values(by='AC Milan', ascending=False)\n",
    "df.head(10)"
   ]
  },
  {
   "cell_type": "markdown",
   "metadata": {},
   "source": [
    "Plot the results"
   ]
  },
  {
   "cell_type": "code",
   "execution_count": 28,
   "metadata": {},
   "outputs": [
    {
     "data": {
      "text/html": [
       "<div>\n",
       "<style scoped>\n",
       "    .dataframe tbody tr th:only-of-type {\n",
       "        vertical-align: middle;\n",
       "    }\n",
       "\n",
       "    .dataframe tbody tr th {\n",
       "        vertical-align: top;\n",
       "    }\n",
       "\n",
       "    .dataframe thead th {\n",
       "        text-align: right;\n",
       "    }\n",
       "</style>\n",
       "<table border=\"1\" class=\"dataframe\">\n",
       "  <thead>\n",
       "    <tr style=\"text-align: right;\">\n",
       "      <th></th>\n",
       "      <th>geoName</th>\n",
       "      <th>AC Milan</th>\n",
       "    </tr>\n",
       "  </thead>\n",
       "  <tbody>\n",
       "    <tr>\n",
       "      <th>0</th>\n",
       "      <td>Haiti</td>\n",
       "      <td>100</td>\n",
       "    </tr>\n",
       "    <tr>\n",
       "      <th>1</th>\n",
       "      <td>Congo - Kinshasa</td>\n",
       "      <td>52</td>\n",
       "    </tr>\n",
       "    <tr>\n",
       "      <th>2</th>\n",
       "      <td>Guinea</td>\n",
       "      <td>48</td>\n",
       "    </tr>\n",
       "    <tr>\n",
       "      <th>3</th>\n",
       "      <td>Senegal</td>\n",
       "      <td>45</td>\n",
       "    </tr>\n",
       "    <tr>\n",
       "      <th>4</th>\n",
       "      <td>Somalia</td>\n",
       "      <td>41</td>\n",
       "    </tr>\n",
       "    <tr>\n",
       "      <th>5</th>\n",
       "      <td>Uganda</td>\n",
       "      <td>40</td>\n",
       "    </tr>\n",
       "    <tr>\n",
       "      <th>6</th>\n",
       "      <td>Mali</td>\n",
       "      <td>36</td>\n",
       "    </tr>\n",
       "    <tr>\n",
       "      <th>7</th>\n",
       "      <td>Indonesia</td>\n",
       "      <td>34</td>\n",
       "    </tr>\n",
       "    <tr>\n",
       "      <th>8</th>\n",
       "      <td>Malta</td>\n",
       "      <td>31</td>\n",
       "    </tr>\n",
       "    <tr>\n",
       "      <th>9</th>\n",
       "      <td>Nigeria</td>\n",
       "      <td>27</td>\n",
       "    </tr>\n",
       "  </tbody>\n",
       "</table>\n",
       "</div>"
      ],
      "text/plain": [
       "            geoName  AC Milan\n",
       "0             Haiti       100\n",
       "1  Congo - Kinshasa        52\n",
       "2            Guinea        48\n",
       "3           Senegal        45\n",
       "4           Somalia        41\n",
       "5            Uganda        40\n",
       "6              Mali        36\n",
       "7         Indonesia        34\n",
       "8             Malta        31\n",
       "9           Nigeria        27"
      ]
     },
     "execution_count": 28,
     "metadata": {},
     "output_type": "execute_result"
    }
   ],
   "source": [
    "df_top10 = df.reset_index()[:10]\n",
    "df_top10"
   ]
  },
  {
   "cell_type": "code",
   "execution_count": 31,
   "metadata": {},
   "outputs": [
    {
     "data": {
      "text/html": [
       "<svg  width=\"330\" height=\"55\"><rect x=\"0\" y=\"0\" width=\"55\" height=\"55\" style=\"fill:#929292;stroke-width:2;stroke:rgb(255,255,255)\"/><rect x=\"55\" y=\"0\" width=\"55\" height=\"55\" style=\"fill:#797979;stroke-width:2;stroke:rgb(255,255,255)\"/><rect x=\"110\" y=\"0\" width=\"55\" height=\"55\" style=\"fill:#616161;stroke-width:2;stroke:rgb(255,255,255)\"/><rect x=\"165\" y=\"0\" width=\"55\" height=\"55\" style=\"fill:#505050;stroke-width:2;stroke:rgb(255,255,255)\"/><rect x=\"220\" y=\"0\" width=\"55\" height=\"55\" style=\"fill:#464646;stroke-width:2;stroke:rgb(255,255,255)\"/><rect x=\"275\" y=\"0\" width=\"55\" height=\"55\" style=\"fill:#3d3d3d;stroke-width:2;stroke:rgb(255,255,255)\"/></svg>"
      ],
      "text/plain": [
       "[(0.5725490196078432, 0.5725490196078432, 0.5725490196078432),\n",
       " (0.4758169934640524, 0.4758169934640524, 0.4758169934640524),\n",
       " (0.3816993464052288, 0.3816993464052288, 0.3816993464052288),\n",
       " (0.3139869281045752, 0.3139869281045752, 0.3139869281045752),\n",
       " (0.27633986928104576, 0.27633986928104576, 0.27633986928104576),\n",
       " (0.23764705882352943, 0.23764705882352943, 0.23764705882352943)]"
      ]
     },
     "execution_count": 31,
     "metadata": {},
     "output_type": "execute_result"
    }
   ],
   "source": [
    "sns.set_theme(style='whitegrid')\n",
    "sns.color_palette('binary_d')"
   ]
  },
  {
   "cell_type": "code",
   "execution_count": 32,
   "metadata": {},
   "outputs": [
    {
     "data": {
      "text/plain": [
       "<AxesSubplot:xlabel='AC Milan', ylabel='geoName'>"
      ]
     },
     "execution_count": 32,
     "metadata": {},
     "output_type": "execute_result"
    },
    {
     "data": {
      "image/png": "[encoded data removed]",
      "text/plain": [
       "<Figure size 432x288 with 1 Axes>"
      ]
     },
     "metadata": {},
     "output_type": "display_data"
    }
   ],
   "source": [
    "sns.barplot(x='AC Milan', y='geoName', data=df_top10, palette='binary_r')"
   ]
  },
  {
   "cell_type": "markdown",
   "metadata": {},
   "source": [
    "#### Daily Search Trends"
   ]
  },
  {
   "cell_type": "markdown",
   "metadata": {},
   "source": [
    "Get the top daily search trends worldwide. To do this we have to use the trending_searches() method. If you want to search worldwide just don’t pass any parameter."
   ]
  },
  {
   "cell_type": "code",
   "execution_count": 33,
   "metadata": {},
   "outputs": [
    {
     "data": {
      "text/html": [
       "<div>\n",
       "<style scoped>\n",
       "    .dataframe tbody tr th:only-of-type {\n",
       "        vertical-align: middle;\n",
       "    }\n",
       "\n",
       "    .dataframe tbody tr th {\n",
       "        vertical-align: top;\n",
       "    }\n",
       "\n",
       "    .dataframe thead th {\n",
       "        text-align: right;\n",
       "    }\n",
       "</style>\n",
       "<table border=\"1\" class=\"dataframe\">\n",
       "  <thead>\n",
       "    <tr style=\"text-align: right;\">\n",
       "      <th></th>\n",
       "      <th>0</th>\n",
       "    </tr>\n",
       "  </thead>\n",
       "  <tbody>\n",
       "    <tr>\n",
       "      <th>0</th>\n",
       "      <td>Gigliola Cinquetti</td>\n",
       "    </tr>\n",
       "    <tr>\n",
       "      <th>1</th>\n",
       "      <td>Sam Ryder</td>\n",
       "    </tr>\n",
       "    <tr>\n",
       "      <th>2</th>\n",
       "      <td>Alessandro Cattelan</td>\n",
       "    </tr>\n",
       "    <tr>\n",
       "      <th>3</th>\n",
       "      <td>Konstrakta</td>\n",
       "    </tr>\n",
       "    <tr>\n",
       "      <th>4</th>\n",
       "      <td>Australia eurovision</td>\n",
       "    </tr>\n",
       "  </tbody>\n",
       "</table>\n",
       "</div>"
      ],
      "text/plain": [
       "                      0\n",
       "0    Gigliola Cinquetti\n",
       "1             Sam Ryder\n",
       "2   Alessandro Cattelan\n",
       "3            Konstrakta\n",
       "4  Australia eurovision"
      ]
     },
     "execution_count": 33,
     "metadata": {},
     "output_type": "execute_result"
    }
   ],
   "source": [
    "# get google hot trends data\n",
    "df2 = pytrend.trending_searches(pn='italy')\n",
    "df2.head()"
   ]
  },
  {
   "cell_type": "markdown",
   "metadata": {},
   "source": [
    "_(Yesterday there was the 'Eurovision Song Contest' final)_"
   ]
  },
  {
   "cell_type": "markdown",
   "metadata": {},
   "source": [
    "Compare the above results with the google trend’s result. To get today’s trending topics just use:"
   ]
  },
  {
   "cell_type": "code",
   "execution_count": 35,
   "metadata": {},
   "outputs": [],
   "source": [
    "# df2bis = pytrend.today_searches(pn='IT')\n",
    "# df2bis.head(10)"
   ]
  },
  {
   "cell_type": "markdown",
   "metadata": {},
   "source": [
    "#### Top Charts"
   ]
  },
  {
   "cell_type": "markdown",
   "metadata": {},
   "source": [
    "2021 trending with `top_charts` method, to get the top trending searches yearly."
   ]
  },
  {
   "cell_type": "code",
   "execution_count": 36,
   "metadata": {},
   "outputs": [
    {
     "data": {
      "text/html": [
       "<div>\n",
       "<style scoped>\n",
       "    .dataframe tbody tr th:only-of-type {\n",
       "        vertical-align: middle;\n",
       "    }\n",
       "\n",
       "    .dataframe tbody tr th {\n",
       "        vertical-align: top;\n",
       "    }\n",
       "\n",
       "    .dataframe thead th {\n",
       "        text-align: right;\n",
       "    }\n",
       "</style>\n",
       "<table border=\"1\" class=\"dataframe\">\n",
       "  <thead>\n",
       "    <tr style=\"text-align: right;\">\n",
       "      <th></th>\n",
       "      <th>title</th>\n",
       "      <th>exploreQuery</th>\n",
       "    </tr>\n",
       "  </thead>\n",
       "  <tbody>\n",
       "    <tr>\n",
       "      <th>0</th>\n",
       "      <td>Australia vs India</td>\n",
       "      <td></td>\n",
       "    </tr>\n",
       "    <tr>\n",
       "      <th>1</th>\n",
       "      <td>India vs England</td>\n",
       "      <td></td>\n",
       "    </tr>\n",
       "    <tr>\n",
       "      <th>2</th>\n",
       "      <td>IPL</td>\n",
       "      <td></td>\n",
       "    </tr>\n",
       "    <tr>\n",
       "      <th>3</th>\n",
       "      <td>NBA</td>\n",
       "      <td></td>\n",
       "    </tr>\n",
       "    <tr>\n",
       "      <th>4</th>\n",
       "      <td>Euro 2021</td>\n",
       "      <td></td>\n",
       "    </tr>\n",
       "    <tr>\n",
       "      <th>5</th>\n",
       "      <td>Copa América</td>\n",
       "      <td>Copa America</td>\n",
       "    </tr>\n",
       "    <tr>\n",
       "      <th>6</th>\n",
       "      <td>India vs New Zealand</td>\n",
       "      <td></td>\n",
       "    </tr>\n",
       "    <tr>\n",
       "      <th>7</th>\n",
       "      <td>T20 World Cup</td>\n",
       "      <td></td>\n",
       "    </tr>\n",
       "    <tr>\n",
       "      <th>8</th>\n",
       "      <td>Squid Game</td>\n",
       "      <td></td>\n",
       "    </tr>\n",
       "    <tr>\n",
       "      <th>9</th>\n",
       "      <td>DMX</td>\n",
       "      <td></td>\n",
       "    </tr>\n",
       "  </tbody>\n",
       "</table>\n",
       "</div>"
      ],
      "text/plain": [
       "                  title  exploreQuery\n",
       "0    Australia vs India              \n",
       "1      India vs England              \n",
       "2                   IPL              \n",
       "3                   NBA              \n",
       "4             Euro 2021              \n",
       "5          Copa América  Copa America\n",
       "6  India vs New Zealand              \n",
       "7         T20 World Cup              \n",
       "8            Squid Game              \n",
       "9                   DMX              "
      ]
     },
     "execution_count": 36,
     "metadata": {},
     "output_type": "execute_result"
    }
   ],
   "source": [
    "# get google top charts\n",
    "df3 = pytrend.top_charts(2021, hl='en-US', tz=300, geo='GLOBAL')\n",
    "df3.head(10)"
   ]
  },
  {
   "cell_type": "markdown",
   "metadata": {},
   "source": [
    "#### Google Keyword Suggestions"
   ]
  },
  {
   "cell_type": "markdown",
   "metadata": {},
   "source": [
    "![keyword-sugg](https://miro.medium.com/max/1400/1%2AQRpWWBS1SHXBr71Jp1NwQA.png)"
   ]
  },
  {
   "cell_type": "code",
   "execution_count": 38,
   "metadata": {},
   "outputs": [
    {
     "data": {
      "text/html": [
       "<div>\n",
       "<style scoped>\n",
       "    .dataframe tbody tr th:only-of-type {\n",
       "        vertical-align: middle;\n",
       "    }\n",
       "\n",
       "    .dataframe tbody tr th {\n",
       "        vertical-align: top;\n",
       "    }\n",
       "\n",
       "    .dataframe thead th {\n",
       "        text-align: right;\n",
       "    }\n",
       "</style>\n",
       "<table border=\"1\" class=\"dataframe\">\n",
       "  <thead>\n",
       "    <tr style=\"text-align: right;\">\n",
       "      <th></th>\n",
       "      <th>mid</th>\n",
       "      <th>title</th>\n",
       "      <th>type</th>\n",
       "    </tr>\n",
       "  </thead>\n",
       "  <tbody>\n",
       "    <tr>\n",
       "      <th>0</th>\n",
       "      <td>/m/0hnbsn3</td>\n",
       "      <td>Samsung Galaxy</td>\n",
       "      <td>Mobile phone</td>\n",
       "    </tr>\n",
       "    <tr>\n",
       "      <th>1</th>\n",
       "      <td>/g/11n1093hj1</td>\n",
       "      <td>Samsung Galaxy A12</td>\n",
       "      <td>Mobile phone</td>\n",
       "    </tr>\n",
       "    <tr>\n",
       "      <th>2</th>\n",
       "      <td>/g/11qpyb3y70</td>\n",
       "      <td>Samsung Galaxy S21</td>\n",
       "      <td>Mobile phone</td>\n",
       "    </tr>\n",
       "    <tr>\n",
       "      <th>3</th>\n",
       "      <td>/g/11r3_75bd9</td>\n",
       "      <td>Samsung Galaxy A52</td>\n",
       "      <td>Mobile phone</td>\n",
       "    </tr>\n",
       "    <tr>\n",
       "      <th>4</th>\n",
       "      <td>/g/11fqkx3y9g</td>\n",
       "      <td>Samsung Galaxy S20</td>\n",
       "      <td>Mobile phone</td>\n",
       "    </tr>\n",
       "  </tbody>\n",
       "</table>\n",
       "</div>"
      ],
      "text/plain": [
       "             mid               title          type\n",
       "0     /m/0hnbsn3      Samsung Galaxy  Mobile phone\n",
       "1  /g/11n1093hj1  Samsung Galaxy A12  Mobile phone\n",
       "2  /g/11qpyb3y70  Samsung Galaxy S21  Mobile phone\n",
       "3  /g/11r3_75bd9  Samsung Galaxy A52  Mobile phone\n",
       "4  /g/11fqkx3y9g  Samsung Galaxy S20  Mobile phone"
      ]
     },
     "execution_count": 38,
     "metadata": {},
     "output_type": "execute_result"
    }
   ],
   "source": [
    "# get google keyword suggestions\n",
    "keywords = pytrend.suggestions(keyword='Samsung Galaxy')\n",
    "df4 = pd.DataFrame(keywords)\n",
    "# df4.drop(columns='mid')\n",
    "df4.head()"
   ]
  },
  {
   "cell_type": "markdown",
   "metadata": {},
   "source": [
    "#### Related Queries"
   ]
  },
  {
   "cell_type": "markdown",
   "metadata": {},
   "source": [
    "Queries related to the main topic searched."
   ]
  },
  {
   "cell_type": "code",
   "execution_count": 39,
   "metadata": {},
   "outputs": [],
   "source": [
    "pytrend.build_payload(kw_list=['Apple'])"
   ]
  },
  {
   "cell_type": "code",
   "execution_count": 40,
   "metadata": {},
   "outputs": [
    {
     "data": {
      "text/plain": [
       "dict_values([{'top':                   query  value\n",
       "0           apple watch    100\n",
       "1          apple iphone     61\n",
       "2                iphone     61\n",
       "3           apple store     46\n",
       "4              apple tv     32\n",
       "5              apple id     29\n",
       "6           apple cider     23\n",
       "7            apple ipad     20\n",
       "8                  ipad     20\n",
       "9           apple music     19\n",
       "10  apple cider vinegar     18\n",
       "11                  app     15\n",
       "12                  bmw     14\n",
       "13                loans     14\n",
       "14                 benz     14\n",
       "15            apple pay     14\n",
       "16          apple phone     13\n",
       "17          apple stock     13\n",
       "18        apple macbook     12\n",
       "19              macbook     12\n",
       "20              binance     12\n",
       "21                  mac     12\n",
       "22            apple mac     12\n",
       "23        apple watch 3     11\n",
       "24        airpods apple     11, 'rising':                    query   value\n",
       "0                binance  231300\n",
       "1            job hunting  169200\n",
       "2                    btc   93750\n",
       "3              iphone xr   42300\n",
       "4        apple iphone xr   41400\n",
       "5                 tiktok   40850\n",
       "6   apple watch series 5   38050\n",
       "7   apple watch series 4   35050\n",
       "8              iphone xs   34750\n",
       "9   apple watch series 6   31500\n",
       "10         iphone 11 pro   30400\n",
       "11           airpods pro   30150\n",
       "12     apple airpods pro   29750\n",
       "13         iphone 12 pro   24900\n",
       "14         apple homepod   24550\n",
       "15     iphone 11 pro max   18150\n",
       "16         iphone xs max   17400\n",
       "17                 loans   16000\n",
       "18                  benz   13650\n",
       "19  series 3 apple watch   13600\n",
       "20       apple airpods 2   12300\n",
       "21             airpods 2   12300\n",
       "22    apple music replay   10200\n",
       "23   apple watch serie 3    9550\n",
       "24             iphone 11    8600}])"
      ]
     },
     "execution_count": 40,
     "metadata": {},
     "output_type": "execute_result"
    }
   ],
   "source": [
    "# related queries, output dictionary of dataframes\n",
    "related_queries = pytrend.related_queries()\n",
    "related_queries.values()"
   ]
  },
  {
   "cell_type": "markdown",
   "metadata": {},
   "source": [
    "Similarly for related topics."
   ]
  },
  {
   "cell_type": "code",
   "execution_count": 41,
   "metadata": {},
   "outputs": [
    {
     "data": {
      "text/plain": [
       "dict_values([{'rising':      value formattedValue                                            link  \\\n",
       "0   225500       Breakout  /trends/explore?q=/g/11hcz1r4wl&date=today+5-y   \n",
       "1   100200       Breakout  /trends/explore?q=/g/11gmzlpgdw&date=today+5-y   \n",
       "2    46700       Breakout  /trends/explore?q=/g/11fctqqz2z&date=today+5-y   \n",
       "3    46200       Breakout  /trends/explore?q=/g/11fcsjng2t&date=today+5-y   \n",
       "4    42250       Breakout  /trends/explore?q=/g/11h_72mt0r&date=today+5-y   \n",
       "5    40700       Breakout      /trends/explore?q=/m/083br0&date=today+5-y   \n",
       "6    38400       Breakout  /trends/explore?q=/g/11h_7wzlls&date=today+5-y   \n",
       "7    35700       Breakout  /trends/explore?q=/g/11kdmhhpxd&date=today+5-y   \n",
       "8    32300       Breakout  /trends/explore?q=/g/11fctqsck9&date=today+5-y   \n",
       "9    27300       Breakout  /trends/explore?q=/g/11j0jgqk7p&date=today+5-y   \n",
       "10   25400       Breakout  /trends/explore?q=/g/11h_9xlndc&date=today+5-y   \n",
       "11   24050       Breakout  /trends/explore?q=/g/11lj044bhr&date=today+5-y   \n",
       "12   21350       Breakout  /trends/explore?q=/g/11h_9y0fp_&date=today+5-y   \n",
       "13   17050       Breakout  /trends/explore?q=/g/11dfjbltv9&date=today+5-y   \n",
       "14   14900       Breakout  /trends/explore?q=/g/11fmzcj1r3&date=today+5-y   \n",
       "15   13500       Breakout     /trends/explore?q=/m/05p0rrx&date=today+5-y   \n",
       "16   11750       Breakout  /trends/explore?q=/g/11fkmgjswv&date=today+5-y   \n",
       "17   11200       Breakout  /trends/explore?q=/g/11kdkz9tgr&date=today+5-y   \n",
       "18    8350       Breakout  /trends/explore?q=/g/11f0wmhxr2&date=today+5-y   \n",
       "19    6650       Breakout  /trends/explore?q=/g/11f0wxpnn4&date=today+5-y   \n",
       "20    5650       Breakout       /trends/explore?q=/m/052mx&date=today+5-y   \n",
       "21    5650       Breakout  /trends/explore?q=/g/11jd9g0sn8&date=today+5-y   \n",
       "22    4550        +4,550%      /trends/explore?q=/m/01dnzs&date=today+5-y   \n",
       "23    4450        +4,450%  /trends/explore?q=/g/11f5v72_pv&date=today+5-y   \n",
       "\n",
       "        topic_mid              topic_title                       topic_type  \n",
       "0   /g/11hcz1r4wl                  Binance  Cryptocurrency exchange company  \n",
       "1   /g/11gmzlpgdw     Apple Watch Series 4                            Watch  \n",
       "2   /g/11fctqqz2z                iPhone XR                     Mobile phone  \n",
       "3   /g/11fcsjng2t     Apple Watch Series 4                            Watch  \n",
       "4   /g/11h_72mt0r            iPhone 11 Pro                     Mobile phone  \n",
       "5       /m/083br0              Job hunting                            Topic  \n",
       "6   /g/11h_7wzlls     Apple Watch Series 5                            Topic  \n",
       "7   /g/11kdmhhpxd           Apple Watch SE                            Topic  \n",
       "8   /g/11fctqsck9                iPhone XS                         Computer  \n",
       "9   /g/11j0jgqk7p              AirPods Pro              Wireless headphones  \n",
       "10  /g/11h_9xlndc          Apple iPhone 11                     Mobile phone  \n",
       "11  /g/11lj044bhr            iPhone 12 Pro                            Topic  \n",
       "12  /g/11h_9y0fp_      Apple iPhone 11 Pro                            Topic  \n",
       "13  /g/11dfjbltv9                  HomePod                            Topic  \n",
       "14  /g/11fmzcj1r3                iPhone 11                     Mobile phone  \n",
       "15     /m/05p0rrx                  Bitcoin                         Currency  \n",
       "16  /g/11fkmgjswv  Apple AirPods (2nd Gen)                            Topic  \n",
       "17  /g/11kdkz9tgr     Apple Watch Series 6                            Topic  \n",
       "18  /g/11f0wmhxr2     Apple Watch Series 3                            Watch  \n",
       "19  /g/11f0wxpnn4                 iPhone X                     Mobile phone  \n",
       "20       /m/052mx            Mercedes-Benz          Luxury vehicles company  \n",
       "21  /g/11jd9g0sn8                IPhone 12                     Mobile phone  \n",
       "22      /m/01dnzs                     Loan                            Topic  \n",
       "23  /g/11f5v72_pv     Apple Watch Series 3                            Topic  , 'top':     value formattedValue  hasData  \\\n",
       "0     100            100     True   \n",
       "1      93             93     True   \n",
       "2      19             19     True   \n",
       "3      18             18     True   \n",
       "4      17             17     True   \n",
       "5      13             13     True   \n",
       "6       6              6     True   \n",
       "7       5              5     True   \n",
       "8       4              4     True   \n",
       "9       4              4     True   \n",
       "10      4              4     True   \n",
       "11      4              4     True   \n",
       "12      4              4     True   \n",
       "13      3              3     True   \n",
       "14      3              3     True   \n",
       "15      3              3     True   \n",
       "16      3              3     True   \n",
       "17      3              3     True   \n",
       "18      3              3     True   \n",
       "19      3              3     True   \n",
       "20      3              3     True   \n",
       "21      2              2     True   \n",
       "22      2              2     True   \n",
       "23      2              2     True   \n",
       "\n",
       "                                              link      topic_mid  \\\n",
       "0      /trends/explore?q=/m/04st9hr&date=today+5-y     /m/04st9hr   \n",
       "1         /trends/explore?q=/m/0k8z&date=today+5-y        /m/0k8z   \n",
       "2     /trends/explore?q=/m/011smb42&date=today+5-y    /m/011smb42   \n",
       "3        /trends/explore?q=/m/0gjkl&date=today+5-y       /m/0gjkl   \n",
       "4       /trends/explore?q=/m/014j1m&date=today+5-y      /m/014j1m   \n",
       "5      /trends/explore?q=/m/027lnzs&date=today+5-y     /m/027lnzs   \n",
       "6      /trends/explore?q=/m/0bwgklv&date=today+5-y     /m/0bwgklv   \n",
       "7       /trends/explore?q=/m/0gz0jd&date=today+5-y      /m/0gz0jd   \n",
       "8       /trends/explore?q=/m/02n44t&date=today+5-y      /m/02n44t   \n",
       "9     /trends/explore?q=/g/1224z3w6&date=today+5-y    /g/1224z3w6   \n",
       "10     /trends/explore?q=/m/0bx_y3w&date=today+5-y     /m/0bx_y3w   \n",
       "11     /trends/explore?q=/m/05253_m&date=today+5-y     /m/05253_m   \n",
       "12       /trends/explore?q=/m/080vl&date=today+5-y       /m/080vl   \n",
       "13    /trends/explore?q=/m/013d79kn&date=today+5-y    /m/013d79kn   \n",
       "14  /trends/explore?q=/g/11bwhb639d&date=today+5-y  /g/11bwhb639d   \n",
       "15       /trends/explore?q=/m/052mx&date=today+5-y       /m/052mx   \n",
       "16      /trends/explore?q=/m/01dnzs&date=today+5-y      /m/01dnzs   \n",
       "17     /trends/explore?q=/m/0h6dlrc&date=today+5-y     /m/0h6dlrc   \n",
       "18       /trends/explore?q=/m/017yh&date=today+5-y       /m/017yh   \n",
       "19      /trends/explore?q=/m/09tzjm&date=today+5-y      /m/09tzjm   \n",
       "20  /trends/explore?q=/g/11c1s04k8p&date=today+5-y  /g/11c1s04k8p   \n",
       "21  /trends/explore?q=/g/11ljsl82kz&date=today+5-y  /g/11ljsl82kz   \n",
       "22     /trends/explore?q=/m/05p0rrx&date=today+5-y     /m/05p0rrx   \n",
       "23    /trends/explore?q=/m/011smbhf&date=today+5-y    /m/011smbhf   \n",
       "\n",
       "                     topic_title               topic_type  \n",
       "0                          Apple                    Topic  \n",
       "1                          Apple       Technology company  \n",
       "2                    Apple Watch                    Watch  \n",
       "3                          Watch                    Topic  \n",
       "4                          Apple                    Fruit  \n",
       "5                         iPhone             Mobile phone  \n",
       "6                       Apple ID                    Topic  \n",
       "7                       Apple TV     Digital media player  \n",
       "8                    Apple cider                 Beverage  \n",
       "9                           iPad          Tablet computer  \n",
       "10                Television set                    Topic  \n",
       "11           Apple cider vinegar                  Vinegar  \n",
       "12                       Vinegar                Condiment  \n",
       "13                   Apple Music                    Topic  \n",
       "14  Apple TV HD (4th Generation)                    Topic  \n",
       "15                 Mercedes-Benz  Luxury vehicles company  \n",
       "16                          Loan                    Topic  \n",
       "17                           BMW                 Car make  \n",
       "18   Bayerische Motoren Werke AG  Luxury vehicles company  \n",
       "19                       MacBook                   Laptop  \n",
       "20                       AirPods                    Topic  \n",
       "21          Apple Watch Series 6                    Watch  \n",
       "22                       Bitcoin                 Currency  \n",
       "23                     Apple Pay                    Topic  }])"
      ]
     },
     "execution_count": 41,
     "metadata": {},
     "output_type": "execute_result"
    }
   ],
   "source": [
    "# related topics, output dictionary of dataframes\n",
    "related_topic = pytrend.related_topics()\n",
    "related_topic.values()"
   ]
  }
 ],
 "metadata": {
  "interpreter": {
   "hash": "25583c72b4fdbc27850c5ce2ddbd0f529267b20e5e32f7daed96a79007b78bd7"
  },
  "kernelspec": {
   "display_name": "Python 3.9.12 ('gtrends')",
   "language": "python",
   "name": "python3"
  },
  "language_info": {
   "codemirror_mode": {
    "name": "ipython",
    "version": 3
   },
   "file_extension": ".py",
   "mimetype": "text/x-python",
   "name": "python",
   "nbconvert_exporter": "python",
   "pygments_lexer": "ipython3",
   "version": "3.9.12"
  },
  "orig_nbformat": 4
 },
 "nbformat": 4,
 "nbformat_minor": 2
}
