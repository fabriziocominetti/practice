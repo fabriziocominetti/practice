{
 "cells": [
  {
   "cell_type": "markdown",
   "metadata": {},
   "source": [
    "## Scatter Plot"
   ]
  },
  {
   "cell_type": "code",
   "execution_count": 4,
   "metadata": {},
   "outputs": [],
   "source": [
    "import pandas as pd\n",
    "import numpy as np\n",
    "import matplotlib.pyplot as plt\n",
    "%matplotlib inline"
   ]
  },
  {
   "cell_type": "code",
   "execution_count": 5,
   "metadata": {},
   "outputs": [],
   "source": [
    "table = pd.read_csv('../data/premierLeague_16-17.csv')"
   ]
  },
  {
   "cell_type": "code",
   "execution_count": 6,
   "metadata": {},
   "outputs": [
    {
     "data": {
      "text/html": [
       "<div>\n",
       "<style scoped>\n",
       "    .dataframe tbody tr th:only-of-type {\n",
       "        vertical-align: middle;\n",
       "    }\n",
       "\n",
       "    .dataframe tbody tr th {\n",
       "        vertical-align: top;\n",
       "    }\n",
       "\n",
       "    .dataframe thead th {\n",
       "        text-align: right;\n",
       "    }\n",
       "</style>\n",
       "<table border=\"1\" class=\"dataframe\">\n",
       "  <thead>\n",
       "    <tr style=\"text-align: right;\">\n",
       "      <th></th>\n",
       "      <th>season</th>\n",
       "      <th>team</th>\n",
       "      <th>points</th>\n",
       "      <th>w</th>\n",
       "      <th>d</th>\n",
       "      <th>l</th>\n",
       "      <th>gf</th>\n",
       "      <th>ga</th>\n",
       "      <th>gd</th>\n",
       "      <th>pld</th>\n",
       "      <th>...</th>\n",
       "      <th>d_h</th>\n",
       "      <th>d_a</th>\n",
       "      <th>l_h</th>\n",
       "      <th>l_a</th>\n",
       "      <th>gf_h</th>\n",
       "      <th>gf_a</th>\n",
       "      <th>ga_h</th>\n",
       "      <th>ga_a</th>\n",
       "      <th>gd_h</th>\n",
       "      <th>gd_a</th>\n",
       "    </tr>\n",
       "  </thead>\n",
       "  <tbody>\n",
       "    <tr>\n",
       "      <th>0</th>\n",
       "      <td>2015-16</td>\n",
       "      <td>Leicester City</td>\n",
       "      <td>81</td>\n",
       "      <td>23</td>\n",
       "      <td>12</td>\n",
       "      <td>3</td>\n",
       "      <td>68</td>\n",
       "      <td>36</td>\n",
       "      <td>32</td>\n",
       "      <td>38</td>\n",
       "      <td>...</td>\n",
       "      <td>6</td>\n",
       "      <td>6</td>\n",
       "      <td>1</td>\n",
       "      <td>2</td>\n",
       "      <td>35</td>\n",
       "      <td>33</td>\n",
       "      <td>18</td>\n",
       "      <td>18</td>\n",
       "      <td>17</td>\n",
       "      <td>15</td>\n",
       "    </tr>\n",
       "    <tr>\n",
       "      <th>1</th>\n",
       "      <td>2015-16</td>\n",
       "      <td>Arsenal</td>\n",
       "      <td>71</td>\n",
       "      <td>20</td>\n",
       "      <td>11</td>\n",
       "      <td>7</td>\n",
       "      <td>65</td>\n",
       "      <td>36</td>\n",
       "      <td>29</td>\n",
       "      <td>38</td>\n",
       "      <td>...</td>\n",
       "      <td>4</td>\n",
       "      <td>7</td>\n",
       "      <td>3</td>\n",
       "      <td>4</td>\n",
       "      <td>31</td>\n",
       "      <td>34</td>\n",
       "      <td>11</td>\n",
       "      <td>25</td>\n",
       "      <td>20</td>\n",
       "      <td>9</td>\n",
       "    </tr>\n",
       "    <tr>\n",
       "      <th>2</th>\n",
       "      <td>2015-16</td>\n",
       "      <td>Tottenham Hotspur</td>\n",
       "      <td>70</td>\n",
       "      <td>19</td>\n",
       "      <td>13</td>\n",
       "      <td>6</td>\n",
       "      <td>69</td>\n",
       "      <td>35</td>\n",
       "      <td>34</td>\n",
       "      <td>38</td>\n",
       "      <td>...</td>\n",
       "      <td>6</td>\n",
       "      <td>7</td>\n",
       "      <td>3</td>\n",
       "      <td>3</td>\n",
       "      <td>35</td>\n",
       "      <td>34</td>\n",
       "      <td>15</td>\n",
       "      <td>20</td>\n",
       "      <td>20</td>\n",
       "      <td>14</td>\n",
       "    </tr>\n",
       "    <tr>\n",
       "      <th>3</th>\n",
       "      <td>2015-16</td>\n",
       "      <td>Manchester City</td>\n",
       "      <td>66</td>\n",
       "      <td>19</td>\n",
       "      <td>9</td>\n",
       "      <td>10</td>\n",
       "      <td>71</td>\n",
       "      <td>41</td>\n",
       "      <td>30</td>\n",
       "      <td>38</td>\n",
       "      <td>...</td>\n",
       "      <td>2</td>\n",
       "      <td>7</td>\n",
       "      <td>5</td>\n",
       "      <td>5</td>\n",
       "      <td>47</td>\n",
       "      <td>24</td>\n",
       "      <td>21</td>\n",
       "      <td>20</td>\n",
       "      <td>26</td>\n",
       "      <td>4</td>\n",
       "    </tr>\n",
       "    <tr>\n",
       "      <th>4</th>\n",
       "      <td>2015-16</td>\n",
       "      <td>Manchester United</td>\n",
       "      <td>66</td>\n",
       "      <td>19</td>\n",
       "      <td>9</td>\n",
       "      <td>10</td>\n",
       "      <td>49</td>\n",
       "      <td>35</td>\n",
       "      <td>14</td>\n",
       "      <td>38</td>\n",
       "      <td>...</td>\n",
       "      <td>5</td>\n",
       "      <td>4</td>\n",
       "      <td>2</td>\n",
       "      <td>8</td>\n",
       "      <td>27</td>\n",
       "      <td>22</td>\n",
       "      <td>9</td>\n",
       "      <td>26</td>\n",
       "      <td>18</td>\n",
       "      <td>-4</td>\n",
       "    </tr>\n",
       "  </tbody>\n",
       "</table>\n",
       "<p>5 rows × 26 columns</p>\n",
       "</div>"
      ],
      "text/plain": [
       "    season               team  points   w   d   l  gf  ga  gd  pld  ...  d_h  \\\n",
       "0  2015-16     Leicester City      81  23  12   3  68  36  32   38  ...    6   \n",
       "1  2015-16            Arsenal      71  20  11   7  65  36  29   38  ...    4   \n",
       "2  2015-16  Tottenham Hotspur      70  19  13   6  69  35  34   38  ...    6   \n",
       "3  2015-16    Manchester City      66  19   9  10  71  41  30   38  ...    2   \n",
       "4  2015-16  Manchester United      66  19   9  10  49  35  14   38  ...    5   \n",
       "\n",
       "   d_a  l_h  l_a  gf_h  gf_a  ga_h  ga_a  gd_h  gd_a  \n",
       "0    6    1    2    35    33    18    18    17    15  \n",
       "1    7    3    4    31    34    11    25    20     9  \n",
       "2    7    3    3    35    34    15    20    20    14  \n",
       "3    7    5    5    47    24    21    20    26     4  \n",
       "4    4    2    8    27    22     9    26    18    -4  \n",
       "\n",
       "[5 rows x 26 columns]"
      ]
     },
     "execution_count": 6,
     "metadata": {},
     "output_type": "execute_result"
    }
   ],
   "source": [
    "table.head()"
   ]
  },
  {
   "cell_type": "code",
   "execution_count": 7,
   "metadata": {},
   "outputs": [
    {
     "data": {
      "text/plain": [
       "[<matplotlib.lines.Line2D at 0x2414fffe7f0>]"
      ]
     },
     "execution_count": 7,
     "metadata": {},
     "output_type": "execute_result"
    },
    {
     "data": {
      "image/png": "[encoded data removed]",
      "text/plain": [
       "<Figure size 432x288 with 1 Axes>"
      ]
     },
     "metadata": {
      "needs_background": "light"
     },
     "output_type": "display_data"
    }
   ],
   "source": [
    "plt.plot(table['gf'], table['ga'], \"o\")"
   ]
  },
  {
   "cell_type": "code",
   "execution_count": 8,
   "metadata": {},
   "outputs": [
    {
     "data": {
      "image/png": "[encoded data removed]",
      "text/plain": [
       "<Figure size 504x360 with 1 Axes>"
      ]
     },
     "metadata": {
      "needs_background": "light"
     },
     "output_type": "display_data"
    }
   ],
   "source": [
    "#Create plot area\n",
    "fig, ax = plt.subplots()\n",
    "\n",
    "#Set plot size\n",
    "fig.set_size_inches(7, 5)\n",
    "\n",
    "#Plot chart as above, but change the plot type from 'o' to '*' - givng us stars!\n",
    "plt.plot(table['gf'],table['ga'],\"*\")\n",
    "\n",
    "#Add labels to chart area\n",
    "ax.set_title(\"Goals for & Against\")\n",
    "ax.set_xlabel(\"Goals For\")\n",
    "ax.set_ylabel(\"Goals Against\")\n",
    "\n",
    "#Display the chart\n",
    "plt.show()"
   ]
  },
  {
   "cell_type": "code",
   "execution_count": 9,
   "metadata": {},
   "outputs": [
    {
     "name": "stderr",
     "output_type": "stream",
     "text": [
      "C:\\Users\\FC\\AppData\\Local\\Temp\\ipykernel_8980\\2321538096.py:5: UserWarning: linestyle is redundantly defined by the 'linestyle' keyword argument and the fmt string \"k-\" (-> linestyle='-'). The keyword argument will take precedence.\n",
      "  plt.plot([table['gf'].mean(),table['gf'].mean()],[90,20],'k-', linestyle = \":\", lw=1)\n",
      "C:\\Users\\FC\\AppData\\Local\\Temp\\ipykernel_8980\\2321538096.py:6: UserWarning: linestyle is redundantly defined by the 'linestyle' keyword argument and the fmt string \"k-\" (-> linestyle='-'). The keyword argument will take precedence.\n",
      "  plt.plot([20,90],[table['ga'].mean(),table['ga'].mean()],'k-', linestyle = \":\", lw=1)\n"
     ]
    },
    {
     "data": {
      "image/png": "[encoded data removed]",
      "text/plain": [
       "<Figure size 504x360 with 1 Axes>"
      ]
     },
     "metadata": {
      "needs_background": "light"
     },
     "output_type": "display_data"
    }
   ],
   "source": [
    "fig, ax = plt.subplots()\n",
    "fig.set_size_inches(7, 5)\n",
    "\n",
    "plt.plot(table['gf'],table['ga'],\"o\")\n",
    "plt.plot([table['gf'].mean(),table['gf'].mean()],[90,20],'k-', linestyle = \":\", lw=1)\n",
    "plt.plot([20,90],[table['ga'].mean(),table['ga'].mean()],'k-', linestyle = \":\", lw=1)\n",
    "\n",
    "ax.set_title(\"Goals for & Against\")\n",
    "ax.set_xlabel(\"Goals For\")\n",
    "ax.set_ylabel(\"Goals Against\")\n",
    "\n",
    "plt.show()"
   ]
  },
  {
   "cell_type": "code",
   "execution_count": 10,
   "metadata": {},
   "outputs": [
    {
     "name": "stderr",
     "output_type": "stream",
     "text": [
      "C:\\Users\\FC\\AppData\\Local\\Temp\\ipykernel_8980\\409437400.py:5: UserWarning: linestyle is redundantly defined by the 'linestyle' keyword argument and the fmt string \"k-\" (-> linestyle='-'). The keyword argument will take precedence.\n",
      "  plt.plot([table['gf'].mean(),table['gf'].mean()],[90,20],'k-', linestyle = \":\", lw=1)\n",
      "C:\\Users\\FC\\AppData\\Local\\Temp\\ipykernel_8980\\409437400.py:6: UserWarning: linestyle is redundantly defined by the 'linestyle' keyword argument and the fmt string \"k-\" (-> linestyle='-'). The keyword argument will take precedence.\n",
      "  plt.plot([20,90],[table['ga'].mean(),table['ga'].mean()],'k-', linestyle = \":\", lw=1)\n"
     ]
    },
    {
     "data": {
      "image/png": "[encoded data removed]",
      "text/plain": [
       "<Figure size 504x360 with 1 Axes>"
      ]
     },
     "metadata": {
      "needs_background": "light"
     },
     "output_type": "display_data"
    }
   ],
   "source": [
    "fig, ax = plt.subplots()\n",
    "fig.set_size_inches(7, 5)\n",
    "\n",
    "plt.plot(table['gf'],table['ga'],\"o\")\n",
    "plt.plot([table['gf'].mean(),table['gf'].mean()],[90,20],'k-', linestyle = \":\", lw=1)\n",
    "plt.plot([20,90],[table['ga'].mean(),table['ga'].mean()],'k-', linestyle = \":\", lw=1)\n",
    "\n",
    "ax.set_title(\"Goals For & Against\")\n",
    "ax.set_xlabel(\"Goals For\")\n",
    "ax.set_ylabel(\"Goals Against\")\n",
    "\n",
    "ax.text(18,90,\"Poor attack, poor defense\",color=\"red\",size=\"8\")\n",
    "ax.text(67,20,\"Strong attack, strong defense\",color=\"red\",size=\"8\")\n",
    "\n",
    "plt.show()"
   ]
  }
 ],
 "metadata": {
  "interpreter": {
   "hash": "090cf9c5a831ea75c8c4bcc56bea23ec19def3ed7f6ec9976b0af254e2c23507"
  },
  "kernelspec": {
   "display_name": "Python 3.9.7 ('dataViz')",
   "language": "python",
   "name": "python3"
  },
  "language_info": {
   "codemirror_mode": {
    "name": "ipython",
    "version": 3
   },
   "file_extension": ".py",
   "mimetype": "text/x-python",
   "name": "python",
   "nbconvert_exporter": "python",
   "pygments_lexer": "ipython3",
   "version": "3.9.7"
  },
  "orig_nbformat": 4
 },
 "nbformat": 4,
 "nbformat_minor": 2
}
