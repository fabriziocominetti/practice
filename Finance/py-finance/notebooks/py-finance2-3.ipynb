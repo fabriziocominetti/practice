{
 "cells": [
  {
   "cell_type": "markdown",
   "metadata": {},
   "source": [
    "## Download Every Stock"
   ]
  },
  {
   "cell_type": "code",
   "execution_count": null,
   "metadata": {},
   "outputs": [],
   "source": [
    "# Provides ways to work with large multidimensional arrays\n",
    "import numpy as np \n",
    "# Allows for further data manipulation and analysis\n",
    "import pandas as pd \n",
    "import matplotlib.pyplot as plt # Plotting\n",
    "import matplotlib.dates as mdates # Styling dates\n",
    "%matplotlib inline\n",
    "\n",
    "import datetime as dt # For defining dates\n",
    "\n",
    "import time\n",
    "\n",
    "# In Powershell Prompt : conda install -c conda-forge multitasking\n",
    "# pip install -i https://pypi.anaconda.org/ranaroussi/simple yfinance\n",
    "\n",
    "import yfinance as yf"
   ]
  },
  {
   "cell_type": "markdown",
   "metadata": {},
   "source": [
    "#### YFinance"
   ]
  },
  {
   "cell_type": "code",
   "execution_count": null,
   "metadata": {},
   "outputs": [],
   "source": [
    "def get_info_on_stock(ticker):\n",
    "    stock = yf.Ticker(ticker)\n",
    "\n",
    "    # Get overview of company\n",
    "    print(stock.info)\n",
    "\n",
    "    # Get historical closing price data\n",
    "    hist = stock.history(period=\"max\")[\"Close\"]\n",
    "    print(hist.head())\n",
    "\n",
    "    # Get financial data\n",
    "    print(stock.financials)\n",
    "\n",
    "    # Get major share holders\n",
    "    print(stock.major_holders)\n",
    "\n",
    "    # Get institutional holders\n",
    "    print(stock.institutional_holders)\n",
    "\n",
    "    # Get balance sheet\n",
    "    print(stock.balance_sheet)\n",
    "\n",
    "    # Show cashflow\n",
    "    print(stock.cashflow)\n",
    "\n",
    "    # Show earnings\n",
    "    print(stock.earnings)\n",
    "\n",
    "    # Show analysts recommendations\n",
    "    print(stock.recommendations)"
   ]
  },
  {
   "cell_type": "code",
   "execution_count": null,
   "metadata": {},
   "outputs": [],
   "source": [
    "# get_info_on_stock(\"14D.AX\")"
   ]
  },
  {
   "cell_type": "markdown",
   "metadata": {},
   "source": [
    "#### Hold Stocks Not Downloaded"
   ]
  },
  {
   "cell_type": "code",
   "execution_count": null,
   "metadata": {},
   "outputs": [],
   "source": [
    "stocks_not_downloaded = []\n",
    "missing_stocks = []"
   ]
  },
  {
   "cell_type": "markdown",
   "metadata": {},
   "source": [
    "#### Function that Returns a Stock Dataframe from a CSV"
   ]
  },
  {
   "cell_type": "code",
   "execution_count": null,
   "metadata": {},
   "outputs": [],
   "source": [
    "# Reads a dataframe from the CSV file, changes index to date and returns it\n",
    "def get_stock_df_from_csv(folder, ticker):\n",
    "    \n",
    "    # Try to get the file and if it doesn't exist issue a warning\n",
    "    try:\n",
    "        df = pd.read_csv(folder + ticker + '.csv')\n",
    "    except FileNotFoundError:\n",
    "        print(\"File Doesn't Exist\")\n",
    "    else:\n",
    "        return df"
   ]
  },
  {
   "cell_type": "markdown",
   "metadata": {},
   "source": [
    "#### Returns a Named Columns Data from a CSV"
   ]
  },
  {
   "cell_type": "code",
   "execution_count": null,
   "metadata": {},
   "outputs": [],
   "source": [
    "def get_column_from_csv(file, col_name):\n",
    "    # Try to get the file and if it doesn't exist issue a warning\n",
    "    try:\n",
    "        df = pd.read_csv(file)\n",
    "    except FileNotFoundError:\n",
    "        print(\"File Doesn't Exist\")\n",
    "    else:\n",
    "        return df[col_name]"
   ]
  },
  {
   "cell_type": "markdown",
   "metadata": {},
   "source": [
    "#### Get Stock Tickers"
   ]
  },
  {
   "cell_type": "code",
   "execution_count": null,
   "metadata": {},
   "outputs": [],
   "source": [
    "# Total of 3898 tickers\n",
    "# Windows version\n",
    "tickers = get_column_from_csv(\"../data/Australia.csv\", \"Ticker\")\n",
    "\n",
    "tickers = get_column_from_csv(path, \"Ticker\")\n",
    "tickers\n",
    "\n",
    "for x in tickers:\n",
    "    print(x, end=\", \")"
   ]
  },
  {
   "cell_type": "markdown",
   "metadata": {},
   "source": [
    "#### Function that Saves Stock Data to CSV"
   ]
  },
  {
   "cell_type": "code",
   "execution_count": null,
   "metadata": {},
   "outputs": [],
   "source": [
    "# Function that gets a dataframe by providing a ticker and starting date\n",
    "def save_to_csv_from_yahoo(folder, ticker):\n",
    "    \n",
    "    stock = yf.Ticker(ticker)\n",
    "    \n",
    "    try:\n",
    "        print(\"Get Data for : \", ticker)\n",
    "        # Get historical closing price data\n",
    "        df = stock.history(period=\"max\")[\"Close\"]\n",
    "    \n",
    "        # Wait 2 seconds\n",
    "        time.sleep(2)\n",
    "        \n",
    "        if df.empty:\n",
    "            stocks_not_downloaded.append(ticker)\n",
    "        \n",
    "        # Remove the period for saving the file name\n",
    "        # Save data to a CSV file\n",
    "        # File to save to \n",
    "        the_file = folder + ticker.replace(\".\", \"_\") + '.csv'\n",
    "        print(the_file, \" Saved\")\n",
    "        df.to_csv(the_file)\n",
    "    except Exception as ex:\n",
    "        stocks_not_downloaded.append(ticker)\n",
    "        print(\"Couldn't Get Data for :\", ticker)"
   ]
  },
  {
   "cell_type": "markdown",
   "metadata": {},
   "source": [
    "#### Get 5 Years of Data for the 1st 20 Stocks"
   ]
  },
  {
   "cell_type": "code",
   "execution_count": null,
   "metadata": {},
   "outputs": [],
   "source": [
    "# Folder used to store stock data\n",
    "folder = \"../data/Australian_Stocks/\"\n",
    "\n",
    "# for x in range(20):\n",
    "#   save_to_csv_from_yahoo(folder, tickers[x])\n",
    "# print(\"Finished\")"
   ]
  },
  {
   "cell_type": "markdown",
   "metadata": {},
   "source": [
    "#### Get Next 80 Stocks"
   ]
  },
  {
   "cell_type": "code",
   "execution_count": null,
   "metadata": {},
   "outputs": [],
   "source": [
    "# for x in range(20, 100):\n",
    "#   save_to_csv_from_yahoo(folder, tickers[x])\n",
    "# print(\"Finished\")"
   ]
  },
  {
   "cell_type": "code",
   "execution_count": null,
   "metadata": {},
   "outputs": [],
   "source": [
    "# for x in range(2000, 3898):\n",
    "#   save_to_csv_from_yahoo(folder, tickers[x])\n",
    "# print(\"Finished\")\n",
    "# stocks_not_downloaded"
   ]
  },
  {
   "cell_type": "markdown",
   "metadata": {},
   "source": [
    "#### Get Euronext Tickers"
   ]
  },
  {
   "cell_type": "code",
   "execution_count": null,
   "metadata": {},
   "outputs": [],
   "source": [
    "# # Total of 1648 tickers\n",
    "# tickers = get_column_from_csv(\"../data/Euronext.csv\", \"Ticker\")\n",
    "# tickers\n",
    "\n",
    "# for x in tickers:\n",
    "#     print(x, end=\", \")"
   ]
  },
  {
   "cell_type": "code",
   "execution_count": null,
   "metadata": {},
   "outputs": [],
   "source": [
    "# folder = \"../data/Euronext_Stocks/\"\n",
    "# for x in range(0, 1648):\n",
    "#   save_to_csv_from_yahoo(folder, tickers[x])\n",
    "# print(\"Finished\")\n",
    "# stocks_not_downloaded"
   ]
  },
  {
   "cell_type": "markdown",
   "metadata": {},
   "source": [
    "#### Get Frankfurt Tickers"
   ]
  },
  {
   "cell_type": "code",
   "execution_count": null,
   "metadata": {},
   "outputs": [],
   "source": [
    "# # Total of 496 tickers\n",
    "# tickers = get_column_from_csv(\"../data/Frankfurt.csv\", \"Ticker\")\n",
    "# tickers\n",
    "\n",
    "# for x in tickers:\n",
    "#     print(x, end=\", \")"
   ]
  },
  {
   "cell_type": "code",
   "execution_count": null,
   "metadata": {},
   "outputs": [],
   "source": [
    "# folder = \"../data/Frankfurt_Stocks/\"\n",
    "# for x in range(0, 495):\n",
    "#   save_to_csv_from_yahoo(folder, tickers[x])\n",
    "# print(\"Finished\")\n",
    "# stocks_not_downloaded"
   ]
  },
  {
   "cell_type": "markdown",
   "metadata": {},
   "source": [
    "#### Get FTSE Stocks"
   ]
  },
  {
   "cell_type": "code",
   "execution_count": null,
   "metadata": {},
   "outputs": [],
   "source": [
    "# # Total of 620 tickers\n",
    "# tickers = get_column_from_csv(\"../data/FTSE.csv\", \"Ticker\")\n",
    "# tickers\n",
    "\n",
    "# for x in tickers:\n",
    "#     print(x, end=\", \")"
   ]
  },
  {
   "cell_type": "code",
   "execution_count": null,
   "metadata": {},
   "outputs": [],
   "source": [
    "# folder = \"../data/FTSE_Stocks/\"\n",
    "# for x in range(0, 619):\n",
    "#   save_to_csv_from_yahoo(folder, tickers[x])\n",
    "# print(\"Finished\")\n",
    "# stocks_not_downloaded"
   ]
  },
  {
   "cell_type": "markdown",
   "metadata": {},
   "source": [
    "#### Get Johannesburg Stocks"
   ]
  },
  {
   "cell_type": "code",
   "execution_count": null,
   "metadata": {},
   "outputs": [],
   "source": [
    "# # Total of 400 tickers\n",
    "# tickers = get_column_from_csv(\"../data/Johannesburg.csv\", \"Ticker\")\n",
    "# tickers\n",
    "\n",
    "# for x in tickers:\n",
    "#     print(x, end=\", \")"
   ]
  },
  {
   "cell_type": "code",
   "execution_count": null,
   "metadata": {},
   "outputs": [],
   "source": [
    "# folder = \"../data/Johannesburg_Stocks/\"\n",
    "# for x in range(0, 399):\n",
    "#   save_to_csv_from_yahoo(folder, tickers[x])\n",
    "# print(\"Finished\")\n",
    "# stocks_not_downloaded"
   ]
  },
  {
   "cell_type": "markdown",
   "metadata": {},
   "source": [
    "#### Get NASDAQ"
   ]
  },
  {
   "cell_type": "code",
   "execution_count": null,
   "metadata": {},
   "outputs": [],
   "source": [
    "# # Total of 2968 tickers\n",
    "# tickers = get_column_from_csv(\"../data/Nasdaq.csv\", \"Ticker\")\n",
    "# tickers\n",
    "\n",
    "# for x in tickers:\n",
    "#     print(x, end=\", \")"
   ]
  },
  {
   "cell_type": "code",
   "execution_count": null,
   "metadata": {},
   "outputs": [],
   "source": [
    "# folder = \"../data/Nasdaq_Stocks/\"\n",
    "# for x in range(0, 2967):\n",
    "#   save_to_csv_from_yahoo(folder, tickers[x])\n",
    "# print(\"Finished\")\n",
    "# stocks_not_downloaded"
   ]
  },
  {
   "cell_type": "markdown",
   "metadata": {},
   "source": [
    "#### Get NYSE"
   ]
  },
  {
   "cell_type": "code",
   "execution_count": null,
   "metadata": {},
   "outputs": [],
   "source": [
    "# # Total of 2626 tickers\n",
    "# tickers = get_column_from_csv(\"../data/NYSE.csv\", \"Ticker\")\n",
    "# tickers\n",
    "\n",
    "# for x in tickers:\n",
    "#     print(x, end=\", \")"
   ]
  },
  {
   "cell_type": "code",
   "execution_count": null,
   "metadata": {},
   "outputs": [],
   "source": [
    "# folder = \"../data/NYSE_Stocks/\"\n",
    "# for x in range(0, 2625):\n",
    "#   save_to_csv_from_yahoo(folder, tickers[x])\n",
    "# print(\"Finished\")\n",
    "# stocks_not_downloaded"
   ]
  },
  {
   "cell_type": "markdown",
   "metadata": {},
   "source": [
    "#### Get Russell 2000"
   ]
  },
  {
   "cell_type": "code",
   "execution_count": null,
   "metadata": {},
   "outputs": [],
   "source": [
    "# Total of 2033 tickers\n",
    "tickers = get_column_from_csv(\"../data/Russell2000.csv\", \"Ticker\")\n",
    "tickers\n",
    "\n",
    "for x in tickers:\n",
    "    print(x, end=\", \")"
   ]
  },
  {
   "cell_type": "code",
   "execution_count": null,
   "metadata": {},
   "outputs": [],
   "source": [
    "folder = \"../data/Russell2000_Stocks/\"\n",
    "for x in range(1761, 2032):\n",
    "  save_to_csv_from_yahoo(folder, tickers[x])\n",
    "print(\"Finished\")\n",
    "stocks_not_downloaded"
   ]
  }
 ],
 "metadata": {
  "interpreter": {
   "hash": "feac5ee11db6385b4c12b0947c117f22892e921fb5655ece65f725e09c2e67f4"
  },
  "kernelspec": {
   "display_name": "Python 3.9.7 ('finance')",
   "language": "python",
   "name": "python3"
  },
  "language_info": {
   "name": "python",
   "version": "3.9.7"
  },
  "orig_nbformat": 4
 },
 "nbformat": 4,
 "nbformat_minor": 2
}
