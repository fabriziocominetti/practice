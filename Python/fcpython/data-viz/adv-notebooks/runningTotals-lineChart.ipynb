{
 "cells": [
  {
   "cell_type": "markdown",
   "metadata": {},
   "source": [
    "## Visualising Running Totals with Line Charts"
   ]
  },
  {
   "cell_type": "code",
   "execution_count": 13,
   "metadata": {},
   "outputs": [],
   "source": [
    "import matplotlib.pyplot as plt\n",
    "import numpy as np\n",
    "import pandas as pd\n",
    "%matplotlib inline"
   ]
  },
  {
   "cell_type": "code",
   "execution_count": 14,
   "metadata": {},
   "outputs": [],
   "source": [
    "data = pd.read_csv('../data/serieB_20-21.csv')"
   ]
  },
  {
   "cell_type": "code",
   "execution_count": 15,
   "metadata": {},
   "outputs": [
    {
     "data": {
      "text/html": [
       "<div>\n",
       "<style scoped>\n",
       "    .dataframe tbody tr th:only-of-type {\n",
       "        vertical-align: middle;\n",
       "    }\n",
       "\n",
       "    .dataframe tbody tr th {\n",
       "        vertical-align: top;\n",
       "    }\n",
       "\n",
       "    .dataframe thead th {\n",
       "        text-align: right;\n",
       "    }\n",
       "</style>\n",
       "<table border=\"1\" class=\"dataframe\">\n",
       "  <thead>\n",
       "    <tr style=\"text-align: right;\">\n",
       "      <th></th>\n",
       "      <th>Div</th>\n",
       "      <th>Date</th>\n",
       "      <th>Time</th>\n",
       "      <th>HomeTeam</th>\n",
       "      <th>AwayTeam</th>\n",
       "      <th>FTHG</th>\n",
       "      <th>FTAG</th>\n",
       "      <th>FTR</th>\n",
       "      <th>HTHG</th>\n",
       "      <th>HTAG</th>\n",
       "      <th>...</th>\n",
       "      <th>AvgC&lt;2.5</th>\n",
       "      <th>AHCh</th>\n",
       "      <th>B365CAHH</th>\n",
       "      <th>B365CAHA</th>\n",
       "      <th>PCAHH</th>\n",
       "      <th>PCAHA</th>\n",
       "      <th>MaxCAHH</th>\n",
       "      <th>MaxCAHA</th>\n",
       "      <th>AvgCAHH</th>\n",
       "      <th>AvgCAHA</th>\n",
       "    </tr>\n",
       "  </thead>\n",
       "  <tbody>\n",
       "    <tr>\n",
       "      <th>0</th>\n",
       "      <td>I2</td>\n",
       "      <td>25/09/2020</td>\n",
       "      <td>15:45</td>\n",
       "      <td>Monza</td>\n",
       "      <td>Spal</td>\n",
       "      <td>0</td>\n",
       "      <td>0</td>\n",
       "      <td>D</td>\n",
       "      <td>0.0</td>\n",
       "      <td>0.0</td>\n",
       "      <td>...</td>\n",
       "      <td>1.69</td>\n",
       "      <td>-0.50</td>\n",
       "      <td>1.93</td>\n",
       "      <td>1.93</td>\n",
       "      <td>1.98</td>\n",
       "      <td>1.93</td>\n",
       "      <td>2.02</td>\n",
       "      <td>1.97</td>\n",
       "      <td>1.95</td>\n",
       "      <td>1.88</td>\n",
       "    </tr>\n",
       "    <tr>\n",
       "      <th>1</th>\n",
       "      <td>I2</td>\n",
       "      <td>26/09/2020</td>\n",
       "      <td>13:00</td>\n",
       "      <td>Brescia</td>\n",
       "      <td>Ascoli</td>\n",
       "      <td>1</td>\n",
       "      <td>1</td>\n",
       "      <td>D</td>\n",
       "      <td>1.0</td>\n",
       "      <td>1.0</td>\n",
       "      <td>...</td>\n",
       "      <td>1.73</td>\n",
       "      <td>-0.75</td>\n",
       "      <td>1.95</td>\n",
       "      <td>1.90</td>\n",
       "      <td>1.99</td>\n",
       "      <td>1.92</td>\n",
       "      <td>2.02</td>\n",
       "      <td>1.96</td>\n",
       "      <td>1.97</td>\n",
       "      <td>1.88</td>\n",
       "    </tr>\n",
       "    <tr>\n",
       "      <th>2</th>\n",
       "      <td>I2</td>\n",
       "      <td>26/09/2020</td>\n",
       "      <td>13:00</td>\n",
       "      <td>Cosenza</td>\n",
       "      <td>Virtus Entella</td>\n",
       "      <td>0</td>\n",
       "      <td>0</td>\n",
       "      <td>D</td>\n",
       "      <td>0.0</td>\n",
       "      <td>0.0</td>\n",
       "      <td>...</td>\n",
       "      <td>1.67</td>\n",
       "      <td>-0.25</td>\n",
       "      <td>1.90</td>\n",
       "      <td>1.95</td>\n",
       "      <td>1.93</td>\n",
       "      <td>1.98</td>\n",
       "      <td>1.96</td>\n",
       "      <td>2.00</td>\n",
       "      <td>1.89</td>\n",
       "      <td>1.94</td>\n",
       "    </tr>\n",
       "    <tr>\n",
       "      <th>3</th>\n",
       "      <td>I2</td>\n",
       "      <td>26/09/2020</td>\n",
       "      <td>13:00</td>\n",
       "      <td>Frosinone</td>\n",
       "      <td>Empoli</td>\n",
       "      <td>0</td>\n",
       "      <td>2</td>\n",
       "      <td>A</td>\n",
       "      <td>0.0</td>\n",
       "      <td>1.0</td>\n",
       "      <td>...</td>\n",
       "      <td>1.68</td>\n",
       "      <td>-0.25</td>\n",
       "      <td>1.85</td>\n",
       "      <td>2.00</td>\n",
       "      <td>1.88</td>\n",
       "      <td>2.03</td>\n",
       "      <td>1.98</td>\n",
       "      <td>2.05</td>\n",
       "      <td>1.85</td>\n",
       "      <td>1.98</td>\n",
       "    </tr>\n",
       "    <tr>\n",
       "      <th>4</th>\n",
       "      <td>I2</td>\n",
       "      <td>26/09/2020</td>\n",
       "      <td>13:00</td>\n",
       "      <td>Lecce</td>\n",
       "      <td>Pordenone</td>\n",
       "      <td>0</td>\n",
       "      <td>0</td>\n",
       "      <td>D</td>\n",
       "      <td>0.0</td>\n",
       "      <td>0.0</td>\n",
       "      <td>...</td>\n",
       "      <td>1.78</td>\n",
       "      <td>-0.50</td>\n",
       "      <td>1.95</td>\n",
       "      <td>1.90</td>\n",
       "      <td>1.97</td>\n",
       "      <td>1.93</td>\n",
       "      <td>2.01</td>\n",
       "      <td>1.95</td>\n",
       "      <td>1.95</td>\n",
       "      <td>1.88</td>\n",
       "    </tr>\n",
       "  </tbody>\n",
       "</table>\n",
       "<p>5 rows × 105 columns</p>\n",
       "</div>"
      ],
      "text/plain": [
       "  Div        Date   Time   HomeTeam        AwayTeam  FTHG  FTAG FTR  HTHG  \\\n",
       "0  I2  25/09/2020  15:45      Monza            Spal     0     0   D   0.0   \n",
       "1  I2  26/09/2020  13:00    Brescia          Ascoli     1     1   D   1.0   \n",
       "2  I2  26/09/2020  13:00    Cosenza  Virtus Entella     0     0   D   0.0   \n",
       "3  I2  26/09/2020  13:00  Frosinone          Empoli     0     2   A   0.0   \n",
       "4  I2  26/09/2020  13:00      Lecce       Pordenone     0     0   D   0.0   \n",
       "\n",
       "   HTAG  ... AvgC<2.5  AHCh  B365CAHH  B365CAHA  PCAHH  PCAHA  MaxCAHH  \\\n",
       "0   0.0  ...     1.69 -0.50      1.93      1.93   1.98   1.93     2.02   \n",
       "1   1.0  ...     1.73 -0.75      1.95      1.90   1.99   1.92     2.02   \n",
       "2   0.0  ...     1.67 -0.25      1.90      1.95   1.93   1.98     1.96   \n",
       "3   1.0  ...     1.68 -0.25      1.85      2.00   1.88   2.03     1.98   \n",
       "4   0.0  ...     1.78 -0.50      1.95      1.90   1.97   1.93     2.01   \n",
       "\n",
       "   MaxCAHA  AvgCAHH  AvgCAHA  \n",
       "0     1.97     1.95     1.88  \n",
       "1     1.96     1.97     1.88  \n",
       "2     2.00     1.89     1.94  \n",
       "3     2.05     1.85     1.98  \n",
       "4     1.95     1.95     1.88  \n",
       "\n",
       "[5 rows x 105 columns]"
      ]
     },
     "execution_count": 15,
     "metadata": {},
     "output_type": "execute_result"
    }
   ],
   "source": [
    "data.head()"
   ]
  },
  {
   "cell_type": "code",
   "execution_count": 16,
   "metadata": {},
   "outputs": [],
   "source": [
    "#Create a list of unique teams from the home team column\n",
    "Teams = data.HomeTeam.unique()\n",
    "\n",
    "#Create a dictionary called TeamLists. There will be an entry for each team with the list [0]\n",
    "TeamLists = {Team : [0] for Team in Teams}"
   ]
  },
  {
   "cell_type": "code",
   "execution_count": 17,
   "metadata": {},
   "outputs": [],
   "source": [
    "#For each row in our dataframe, I want to do the following:\n",
    "for row in data.itertuples():\n",
    "    #Add the home and away team names to the correct variable\n",
    "    Home = row.HomeTeam\n",
    "    Away = row.AwayTeam\n",
    "    \n",
    "    #If the home team goals (FTHG column in the dataframe) are higher than the away team, give the correct points to each team\n",
    "    if row.FTHG > row.FTAG:\n",
    "        TeamLists[Home].append(3)\n",
    "        TeamLists[Away].append(0)\n",
    "    #If the home team goals are less than the away team, give the correct points\n",
    "    elif row.FTHG < row.FTAG:\n",
    "        TeamLists[Home].append(0)\n",
    "        TeamLists[Away].append(3)\n",
    "    #In any other case (a draw), give the correct points\n",
    "    else:\n",
    "        TeamLists[Home].append(1)\n",
    "        TeamLists[Away].append(1)"
   ]
  },
  {
   "cell_type": "code",
   "execution_count": 19,
   "metadata": {},
   "outputs": [
    {
     "data": {
      "text/plain": [
       "[0,\n",
       " 1,\n",
       " 1,\n",
       " 1,\n",
       " 0,\n",
       " 3,\n",
       " 3,\n",
       " 1,\n",
       " 3,\n",
       " 1,\n",
       " 0,\n",
       " 3,\n",
       " 3,\n",
       " 0,\n",
       " 3,\n",
       " 3,\n",
       " 3,\n",
       " 1,\n",
       " 1,\n",
       " 3,\n",
       " 1,\n",
       " 1,\n",
       " 3,\n",
       " 0,\n",
       " 3,\n",
       " 1,\n",
       " 1,\n",
       " 3,\n",
       " 0,\n",
       " 3,\n",
       " 0,\n",
       " 1,\n",
       " 1,\n",
       " 0,\n",
       " 3,\n",
       " 3,\n",
       " 3,\n",
       " 3,\n",
       " 0]"
      ]
     },
     "execution_count": 19,
     "metadata": {},
     "output_type": "execute_result"
    }
   ],
   "source": [
    "TeamLists[\"Monza\"]"
   ]
  },
  {
   "cell_type": "code",
   "execution_count": 20,
   "metadata": {},
   "outputs": [],
   "source": [
    "Teams = data.HomeTeam.unique()\n",
    "TeamLists = {Team : [0] for Team in Teams}\n",
    "\n",
    "for row in data.itertuples():\n",
    "    Home = row.HomeTeam\n",
    "    Away = row.AwayTeam\n",
    "    \n",
    "    if row.FTHG > row.FTAG:\n",
    "        TeamLists[Home].append(TeamLists[Home][-1]+3)\n",
    "        TeamLists[Away].append(TeamLists[Away][-1]+0)\n",
    "    elif row.FTHG < row.FTAG:\n",
    "        TeamLists[Home].append(TeamLists[Home][-1]+0)\n",
    "        TeamLists[Away].append(TeamLists[Away][-1]+3)\n",
    "    else:\n",
    "        TeamLists[Home].append(TeamLists[Home][-1]+1)\n",
    "        TeamLists[Away].append(TeamLists[Away][-1]+1)"
   ]
  },
  {
   "cell_type": "code",
   "execution_count": 21,
   "metadata": {},
   "outputs": [
    {
     "data": {
      "text/plain": [
       "[0,\n",
       " 1,\n",
       " 2,\n",
       " 3,\n",
       " 3,\n",
       " 6,\n",
       " 9,\n",
       " 10,\n",
       " 13,\n",
       " 14,\n",
       " 14,\n",
       " 17,\n",
       " 20,\n",
       " 20,\n",
       " 23,\n",
       " 26,\n",
       " 29,\n",
       " 30,\n",
       " 31,\n",
       " 34,\n",
       " 35,\n",
       " 36,\n",
       " 39,\n",
       " 39,\n",
       " 42,\n",
       " 43,\n",
       " 44,\n",
       " 47,\n",
       " 47,\n",
       " 50,\n",
       " 50,\n",
       " 51,\n",
       " 52,\n",
       " 52,\n",
       " 55,\n",
       " 58,\n",
       " 61,\n",
       " 64,\n",
       " 64]"
      ]
     },
     "execution_count": 21,
     "metadata": {},
     "output_type": "execute_result"
    }
   ],
   "source": [
    "TeamLists[\"Monza\"]"
   ]
  },
  {
   "cell_type": "code",
   "execution_count": 22,
   "metadata": {},
   "outputs": [],
   "source": [
    "Matchday = list(range(0,39))"
   ]
  },
  {
   "cell_type": "code",
   "execution_count": 23,
   "metadata": {},
   "outputs": [
    {
     "data": {
      "text/plain": [
       "[<matplotlib.lines.Line2D at 0x2768ca2d5e0>]"
      ]
     },
     "execution_count": 23,
     "metadata": {},
     "output_type": "execute_result"
    },
    {
     "data": {
      "image/png": "[encoded data removed]",
      "text/plain": [
       "<Figure size 432x288 with 1 Axes>"
      ]
     },
     "metadata": {
      "needs_background": "light"
     },
     "output_type": "display_data"
    }
   ],
   "source": [
    "#Create a line plot with matchday and teamlist figures for two teams\n",
    "plt.plot(Matchday, TeamLists[\"Brescia\"])\n",
    "plt.plot(Matchday, TeamLists[\"Cremonese\"])"
   ]
  },
  {
   "cell_type": "code",
   "execution_count": 24,
   "metadata": {},
   "outputs": [
    {
     "data": {
      "image/png": "[encoded data removed]",
      "text/plain": [
       "<Figure size 432x288 with 1 Axes>"
      ]
     },
     "metadata": {
      "needs_background": "light"
     },
     "output_type": "display_data"
    }
   ],
   "source": [
    "#Create the bare bones of what will be our visualisation\n",
    "fig, ax = plt.subplots()\n",
    "\n",
    "#Add our data as before, but setting colours and widths of lines\n",
    "plt.plot(Matchday, TeamLists[\"Empoli\"], color = \"#6CABDD\", linewidth=2)\n",
    "plt.plot(Matchday, TeamLists[\"Venezia\"], color = \"#231F20\", linewidth=2)\n",
    "\n",
    "#Give the axes and plot a title each\n",
    "plt.xlabel('Gameweek')\n",
    "plt.ylabel('Points')\n",
    "plt.title('Empoli v Venezia Running Points')\n",
    "\n",
    "#Add a faint grey grid\n",
    "plt.grid()\n",
    "ax.xaxis.grid(color = \"#F8F8F8\")\n",
    "ax.yaxis.grid(color = \"#F9F9F9\")\n",
    "\n",
    "#Remove the margins between our lines and the axes\n",
    "plt.margins(x=0,y=0)\n",
    "\n",
    "#Remove the spines of the chart on the top and right sides\n",
    "ax.spines['right'].set_visible(False)\n",
    "ax.spines['top'].set_visible(False)"
   ]
  }
 ],
 "metadata": {
  "interpreter": {
   "hash": "090cf9c5a831ea75c8c4bcc56bea23ec19def3ed7f6ec9976b0af254e2c23507"
  },
  "kernelspec": {
   "display_name": "Python 3.9.7 ('dataViz')",
   "language": "python",
   "name": "python3"
  },
  "language_info": {
   "codemirror_mode": {
    "name": "ipython",
    "version": 3
   },
   "file_extension": ".py",
   "mimetype": "text/x-python",
   "name": "python",
   "nbconvert_exporter": "python",
   "pygments_lexer": "ipython3",
   "version": "3.9.7"
  },
  "orig_nbformat": 4
 },
 "nbformat": 4,
 "nbformat_minor": 2
}
