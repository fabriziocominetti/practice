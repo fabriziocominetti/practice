{
 "cells": [
  {
   "cell_type": "markdown",
   "metadata": {},
   "source": [
    "## Python for Finance 8 - Modern Portfolio Theory"
   ]
  },
  {
   "cell_type": "code",
   "execution_count": 33,
   "metadata": {},
   "outputs": [],
   "source": [
    "# Provides ways to work with large multidimensional arrays\n",
    "import numpy as np \n",
    "# Allows for further data manipulation and analysis\n",
    "import pandas as pd\n",
    "from pandas_datareader import data as web # Reads stock data \n",
    "import matplotlib.pyplot as plt # Plotting\n",
    "import matplotlib.dates as mdates # Styling dates\n",
    "%matplotlib inline\n",
    "\n",
    "import datetime as dt # For defining dates\n",
    "import mplfinance as mpf # Matplotlib finance\n",
    "\n",
    "import time\n",
    "\n",
    "# Used to get data from a directory\n",
    "import os\n",
    "from os import listdir\n",
    "from os.path import isfile, join\n",
    "\n",
    "#Statsmodels is a great library we can use to run regressions.\n",
    "import statsmodels.api as sm\n",
    "# Seaborn extends the capabilities of Matplotlib\n",
    "import seaborn as sns\n",
    "# Used for calculating regressions\n",
    "from statsmodels.tsa.ar_model import AutoReg, ar_select_order"
   ]
  },
  {
   "cell_type": "markdown",
   "metadata": {},
   "source": [
    "#### Dates & Other Constants"
   ]
  },
  {
   "cell_type": "code",
   "execution_count": 34,
   "metadata": {},
   "outputs": [],
   "source": [
    "# Define path to files\n",
    "PATH = \"../data/stock-list/\"\n",
    "\n",
    "# Start date defaults\n",
    "S_YEAR = 2017\n",
    "S_MONTH = 1\n",
    "S_DAY = 1\n",
    "S_DATE_STR = \"2017-01-01\"\n",
    "S_DATE_DATETIME = dt.datetime(S_YEAR, S_MONTH, S_DAY)\n",
    "\n",
    "# End date defaults\n",
    "E_YEAR = 2021\n",
    "E_MONTH = 12\n",
    "E_DAY = 31\n",
    "E_DATE_STR = \"2021-12-31\"\n",
    "E_DATE_DATETIME = dt.datetime(E_YEAR, E_MONTH, E_DAY)\n",
    "\n",
    "risk_free_rate = 0.0125 # Approximate 10 year bond rate"
   ]
  },
  {
   "cell_type": "markdown",
   "metadata": {},
   "source": [
    "#### Get Stock File Names in a List"
   ]
  },
  {
   "cell_type": "code",
   "execution_count": 35,
   "metadata": {},
   "outputs": [
    {
     "data": {
      "text/plain": [
       "2862"
      ]
     },
     "execution_count": 35,
     "metadata": {},
     "output_type": "execute_result"
    }
   ],
   "source": [
    "files = [x for x in listdir(PATH) if isfile(join(PATH, x))]\n",
    "tickers = [os.path.splitext(x)[0] for x in files]\n",
    "tickers\n",
    "\n",
    "tickers.sort()\n",
    "len(tickers)"
   ]
  },
  {
   "cell_type": "markdown",
   "metadata": {},
   "source": [
    "#### Function that Returns a Dataframe from a CSV"
   ]
  },
  {
   "cell_type": "code",
   "execution_count": 36,
   "metadata": {},
   "outputs": [],
   "source": [
    "def get_df_from_csv(ticker):\n",
    "    try:\n",
    "        df = pd.read_csv(PATH + ticker + '.csv', index_col='Date', \n",
    "                         parse_dates=True)\n",
    "    except FileNotFoundError:\n",
    "        pass\n",
    "        # print(\"File Doesn't Exist\")\n",
    "    else:\n",
    "        return df"
   ]
  },
  {
   "cell_type": "markdown",
   "metadata": {},
   "source": [
    "#### Merge Multiple Stocks in One Dataframe by Column Name"
   ]
  },
  {
   "cell_type": "code",
   "execution_count": 37,
   "metadata": {},
   "outputs": [],
   "source": [
    "def merge_df_by_column_name(col_name, sdate, edate, *tickers):\n",
    "    # Will hold data for all dataframes with the same column name\n",
    "    mult_df = pd.DataFrame()\n",
    "    \n",
    "    for x in tickers:\n",
    "        df = get_df_from_csv(x)\n",
    "        mask = (df.index >= sdate) & (df.index <= edate)\n",
    "        mult_df[x] = df.loc[mask][col_name]\n",
    "        \n",
    "    return mult_df"
   ]
  },
  {
   "cell_type": "markdown",
   "metadata": {},
   "source": [
    "#### Markowitz Portfolio Optimization"
   ]
  },
  {
   "cell_type": "markdown",
   "metadata": {},
   "source": [
    "Harry Markowitz proved that you could make what is called an efficient portfolio. That is a portfolio that optimizes return while also minimizing risk. We don't benefit from analyzing individual securities at the same rate as if we instead considered a portfolio of stocks.\n",
    "\n",
    "We do this by creating portfolios with stocks that are not correlated. We want to calculate expected returns by analyzing the returns of each stock multiplied by its weight.\n",
    "\n",
    "$w_1r_1 + w_2r_2 = r_p$\n",
    "\n",
    "The standard deviation of the portfolio is found this way. Sum multiple calculations starting by finding the product of the first securities weight squared times its standard deviation squared. The middle is 2 times the correlation coefficient between the stocks. And, finally add those to the weight squared times the standard deviation squared for the second security.\n",
    "\n",
    "$(w_1 \\sigma_1 + w_2 \\sigma_2)^2 = w_1^2 \\sigma_1^2 + 2w_1 \\sigma_1w_2 \\sigma_2 \\rho_1 + w_2^2 \\sigma_2^2$"
   ]
  },
  {
   "cell_type": "markdown",
   "metadata": {},
   "source": [
    "#### Plotting an Efficient Frontier"
   ]
  },
  {
   "cell_type": "markdown",
   "metadata": {},
   "source": [
    "#### Stock Portfolio"
   ]
  },
  {
   "cell_type": "code",
   "execution_count": 38,
   "metadata": {},
   "outputs": [
    {
     "data": {
      "text/plain": [
       "12"
      ]
     },
     "execution_count": 38,
     "metadata": {},
     "output_type": "execute_result"
    }
   ],
   "source": [
    "# Here I added the top 30 for each sector. You can obviously add as many as \n",
    "# you like\n",
    "# Then to keep the portfolio smaller I eliminated stocks that had an \n",
    "# allocation less than 1% to get this final list\n",
    "# I showed in part 4 of this series how to get the top sector stocks\n",
    "port_list = [\"GNRC\", \"CPRT\", \"ODFL\", \n",
    "            \"AMD\", \"PAYC\",\n",
    "            \"CHTR\",\n",
    "            \"EL\", \"MKC\",\n",
    "            \"PGR\",\n",
    "            \"NEM\",\n",
    "            \"CCI\",\n",
    "            \"NFLX\"]\n",
    "num_stocks = len(port_list)\n",
    "num_stocks"
   ]
  },
  {
   "cell_type": "markdown",
   "metadata": {},
   "source": [
    "#### Merge all Stock Price Data"
   ]
  },
  {
   "cell_type": "code",
   "execution_count": 39,
   "metadata": {},
   "outputs": [
    {
     "data": {
      "text/html": [
       "<div>\n",
       "<style scoped>\n",
       "    .dataframe tbody tr th:only-of-type {\n",
       "        vertical-align: middle;\n",
       "    }\n",
       "\n",
       "    .dataframe tbody tr th {\n",
       "        vertical-align: top;\n",
       "    }\n",
       "\n",
       "    .dataframe thead th {\n",
       "        text-align: right;\n",
       "    }\n",
       "</style>\n",
       "<table border=\"1\" class=\"dataframe\">\n",
       "  <thead>\n",
       "    <tr style=\"text-align: right;\">\n",
       "      <th></th>\n",
       "      <th>GNRC</th>\n",
       "      <th>CPRT</th>\n",
       "      <th>ODFL</th>\n",
       "      <th>AMD</th>\n",
       "      <th>PAYC</th>\n",
       "      <th>CHTR</th>\n",
       "      <th>EL</th>\n",
       "      <th>MKC</th>\n",
       "      <th>PGR</th>\n",
       "      <th>NEM</th>\n",
       "      <th>CCI</th>\n",
       "      <th>NFLX</th>\n",
       "    </tr>\n",
       "    <tr>\n",
       "      <th>Date</th>\n",
       "      <th></th>\n",
       "      <th></th>\n",
       "      <th></th>\n",
       "      <th></th>\n",
       "      <th></th>\n",
       "      <th></th>\n",
       "      <th></th>\n",
       "      <th></th>\n",
       "      <th></th>\n",
       "      <th></th>\n",
       "      <th></th>\n",
       "      <th></th>\n",
       "    </tr>\n",
       "  </thead>\n",
       "  <tbody>\n",
       "    <tr>\n",
       "      <th>2018-01-02</th>\n",
       "      <td>48.029999</td>\n",
       "      <td>43.599998</td>\n",
       "      <td>88.318527</td>\n",
       "      <td>10.980000</td>\n",
       "      <td>80.440002</td>\n",
       "      <td>348.970001</td>\n",
       "      <td>122.982391</td>\n",
       "      <td>47.579830</td>\n",
       "      <td>46.956577</td>\n",
       "      <td>34.035385</td>\n",
       "      <td>95.263092</td>\n",
       "      <td>201.070007</td>\n",
       "    </tr>\n",
       "    <tr>\n",
       "      <th>2018-01-03</th>\n",
       "      <td>49.730000</td>\n",
       "      <td>43.389999</td>\n",
       "      <td>88.410500</td>\n",
       "      <td>11.550000</td>\n",
       "      <td>81.029999</td>\n",
       "      <td>353.029999</td>\n",
       "      <td>124.939072</td>\n",
       "      <td>47.692631</td>\n",
       "      <td>46.931133</td>\n",
       "      <td>33.749969</td>\n",
       "      <td>94.860786</td>\n",
       "      <td>205.050003</td>\n",
       "    </tr>\n",
       "    <tr>\n",
       "      <th>2018-01-04</th>\n",
       "      <td>50.070000</td>\n",
       "      <td>43.740002</td>\n",
       "      <td>88.929497</td>\n",
       "      <td>12.120000</td>\n",
       "      <td>83.110001</td>\n",
       "      <td>349.790009</td>\n",
       "      <td>125.527054</td>\n",
       "      <td>47.993431</td>\n",
       "      <td>46.922642</td>\n",
       "      <td>34.124580</td>\n",
       "      <td>93.758881</td>\n",
       "      <td>205.630005</td>\n",
       "    </tr>\n",
       "    <tr>\n",
       "      <th>2018-01-05</th>\n",
       "      <td>50.410000</td>\n",
       "      <td>43.529999</td>\n",
       "      <td>89.737526</td>\n",
       "      <td>11.880000</td>\n",
       "      <td>83.879997</td>\n",
       "      <td>350.880005</td>\n",
       "      <td>125.295700</td>\n",
       "      <td>48.463455</td>\n",
       "      <td>47.100765</td>\n",
       "      <td>34.249447</td>\n",
       "      <td>94.476021</td>\n",
       "      <td>209.990005</td>\n",
       "    </tr>\n",
       "    <tr>\n",
       "      <th>2018-01-08</th>\n",
       "      <td>49.529999</td>\n",
       "      <td>43.549999</td>\n",
       "      <td>90.630966</td>\n",
       "      <td>12.280000</td>\n",
       "      <td>84.639999</td>\n",
       "      <td>356.549988</td>\n",
       "      <td>126.240273</td>\n",
       "      <td>48.515160</td>\n",
       "      <td>47.244965</td>\n",
       "      <td>34.213772</td>\n",
       "      <td>94.755852</td>\n",
       "      <td>212.050003</td>\n",
       "    </tr>\n",
       "    <tr>\n",
       "      <th>...</th>\n",
       "      <td>...</td>\n",
       "      <td>...</td>\n",
       "      <td>...</td>\n",
       "      <td>...</td>\n",
       "      <td>...</td>\n",
       "      <td>...</td>\n",
       "      <td>...</td>\n",
       "      <td>...</td>\n",
       "      <td>...</td>\n",
       "      <td>...</td>\n",
       "      <td>...</td>\n",
       "      <td>...</td>\n",
       "    </tr>\n",
       "    <tr>\n",
       "      <th>2021-08-26</th>\n",
       "      <td>427.470001</td>\n",
       "      <td>142.970001</td>\n",
       "      <td>286.100006</td>\n",
       "      <td>107.269997</td>\n",
       "      <td>481.149994</td>\n",
       "      <td>797.400024</td>\n",
       "      <td>334.677338</td>\n",
       "      <td>84.243729</td>\n",
       "      <td>94.632889</td>\n",
       "      <td>55.548443</td>\n",
       "      <td>187.006393</td>\n",
       "      <td>550.119995</td>\n",
       "    </tr>\n",
       "    <tr>\n",
       "      <th>2021-08-27</th>\n",
       "      <td>437.109985</td>\n",
       "      <td>144.440002</td>\n",
       "      <td>289.779999</td>\n",
       "      <td>111.400002</td>\n",
       "      <td>484.700012</td>\n",
       "      <td>807.179993</td>\n",
       "      <td>338.984039</td>\n",
       "      <td>84.531387</td>\n",
       "      <td>95.871979</td>\n",
       "      <td>57.078644</td>\n",
       "      <td>188.228592</td>\n",
       "      <td>558.919983</td>\n",
       "    </tr>\n",
       "    <tr>\n",
       "      <th>2021-08-30</th>\n",
       "      <td>442.700012</td>\n",
       "      <td>144.449997</td>\n",
       "      <td>293.839996</td>\n",
       "      <td>111.320000</td>\n",
       "      <td>488.850006</td>\n",
       "      <td>814.200012</td>\n",
       "      <td>342.161804</td>\n",
       "      <td>84.759529</td>\n",
       "      <td>94.554222</td>\n",
       "      <td>56.411633</td>\n",
       "      <td>189.549362</td>\n",
       "      <td>566.179993</td>\n",
       "    </tr>\n",
       "    <tr>\n",
       "      <th>2021-08-31</th>\n",
       "      <td>436.980011</td>\n",
       "      <td>144.320007</td>\n",
       "      <td>288.720001</td>\n",
       "      <td>110.720001</td>\n",
       "      <td>488.899994</td>\n",
       "      <td>816.659973</td>\n",
       "      <td>339.183289</td>\n",
       "      <td>85.592743</td>\n",
       "      <td>94.741058</td>\n",
       "      <td>56.882469</td>\n",
       "      <td>191.895203</td>\n",
       "      <td>569.190002</td>\n",
       "    </tr>\n",
       "    <tr>\n",
       "      <th>2021-09-01</th>\n",
       "      <td>438.709991</td>\n",
       "      <td>144.940002</td>\n",
       "      <td>292.890015</td>\n",
       "      <td>109.989998</td>\n",
       "      <td>492.000000</td>\n",
       "      <td>818.440002</td>\n",
       "      <td>342.988647</td>\n",
       "      <td>86.693779</td>\n",
       "      <td>94.809906</td>\n",
       "      <td>56.774570</td>\n",
       "      <td>195.108398</td>\n",
       "      <td>582.070007</td>\n",
       "    </tr>\n",
       "  </tbody>\n",
       "</table>\n",
       "<p>924 rows × 12 columns</p>\n",
       "</div>"
      ],
      "text/plain": [
       "                  GNRC        CPRT        ODFL         AMD        PAYC  \\\n",
       "Date                                                                     \n",
       "2018-01-02   48.029999   43.599998   88.318527   10.980000   80.440002   \n",
       "2018-01-03   49.730000   43.389999   88.410500   11.550000   81.029999   \n",
       "2018-01-04   50.070000   43.740002   88.929497   12.120000   83.110001   \n",
       "2018-01-05   50.410000   43.529999   89.737526   11.880000   83.879997   \n",
       "2018-01-08   49.529999   43.549999   90.630966   12.280000   84.639999   \n",
       "...                ...         ...         ...         ...         ...   \n",
       "2021-08-26  427.470001  142.970001  286.100006  107.269997  481.149994   \n",
       "2021-08-27  437.109985  144.440002  289.779999  111.400002  484.700012   \n",
       "2021-08-30  442.700012  144.449997  293.839996  111.320000  488.850006   \n",
       "2021-08-31  436.980011  144.320007  288.720001  110.720001  488.899994   \n",
       "2021-09-01  438.709991  144.940002  292.890015  109.989998  492.000000   \n",
       "\n",
       "                  CHTR          EL        MKC        PGR        NEM  \\\n",
       "Date                                                                  \n",
       "2018-01-02  348.970001  122.982391  47.579830  46.956577  34.035385   \n",
       "2018-01-03  353.029999  124.939072  47.692631  46.931133  33.749969   \n",
       "2018-01-04  349.790009  125.527054  47.993431  46.922642  34.124580   \n",
       "2018-01-05  350.880005  125.295700  48.463455  47.100765  34.249447   \n",
       "2018-01-08  356.549988  126.240273  48.515160  47.244965  34.213772   \n",
       "...                ...         ...        ...        ...        ...   \n",
       "2021-08-26  797.400024  334.677338  84.243729  94.632889  55.548443   \n",
       "2021-08-27  807.179993  338.984039  84.531387  95.871979  57.078644   \n",
       "2021-08-30  814.200012  342.161804  84.759529  94.554222  56.411633   \n",
       "2021-08-31  816.659973  339.183289  85.592743  94.741058  56.882469   \n",
       "2021-09-01  818.440002  342.988647  86.693779  94.809906  56.774570   \n",
       "\n",
       "                   CCI        NFLX  \n",
       "Date                                \n",
       "2018-01-02   95.263092  201.070007  \n",
       "2018-01-03   94.860786  205.050003  \n",
       "2018-01-04   93.758881  205.630005  \n",
       "2018-01-05   94.476021  209.990005  \n",
       "2018-01-08   94.755852  212.050003  \n",
       "...                ...         ...  \n",
       "2021-08-26  187.006393  550.119995  \n",
       "2021-08-27  188.228592  558.919983  \n",
       "2021-08-30  189.549362  566.179993  \n",
       "2021-08-31  191.895203  569.190002  \n",
       "2021-09-01  195.108398  582.070007  \n",
       "\n",
       "[924 rows x 12 columns]"
      ]
     },
     "execution_count": 39,
     "metadata": {},
     "output_type": "execute_result"
    }
   ],
   "source": [
    "mult_df = merge_df_by_column_name('Adj Close',  '2018-01-01', \n",
    "                                  '2021-09-01', *port_list)\n",
    "mult_df"
   ]
  },
  {
   "cell_type": "markdown",
   "metadata": {},
   "source": [
    "#### Plot Growth of Investment over Total Dataset"
   ]
  },
  {
   "cell_type": "code",
   "execution_count": 40,
   "metadata": {},
   "outputs": [
    {
     "data": {
      "text/plain": [
       "<AxesSubplot:xlabel='Date'>"
      ]
     },
     "execution_count": 40,
     "metadata": {},
     "output_type": "execute_result"
    },
    {
     "data": {
      "image/png": "[encoded data removed]",
      "text/plain": [
       "<Figure size 1152x648 with 1 Axes>"
      ]
     },
     "metadata": {
      "needs_background": "light"
     },
     "output_type": "display_data"
    }
   ],
   "source": [
    "(mult_df / mult_df.iloc[0] * 100).plot(figsize=(16, 9))"
   ]
  },
  {
   "cell_type": "markdown",
   "metadata": {},
   "source": [
    "#### Mean Returns"
   ]
  },
  {
   "cell_type": "code",
   "execution_count": 41,
   "metadata": {},
   "outputs": [
    {
     "data": {
      "text/plain": [
       "GNRC    0.603930\n",
       "CPRT    0.327972\n",
       "ODFL    0.327313\n",
       "AMD     0.629130\n",
       "PAYC    0.494435\n",
       "CHTR    0.232728\n",
       "EL      0.280027\n",
       "MKC     0.163806\n",
       "PGR     0.191840\n",
       "NEM     0.139702\n",
       "CCI     0.195734\n",
       "NFLX    0.290206\n",
       "dtype: float64"
      ]
     },
     "execution_count": 41,
     "metadata": {},
     "output_type": "execute_result"
    }
   ],
   "source": [
    "returns = np.log(mult_df / mult_df.shift(1))\n",
    "mean_ret = returns.mean() * 252 # 252 average trading days per year\n",
    "mean_ret"
   ]
  },
  {
   "cell_type": "markdown",
   "metadata": {},
   "source": [
    "#### Covariance"
   ]
  },
  {
   "cell_type": "code",
   "execution_count": 42,
   "metadata": {},
   "outputs": [
    {
     "data": {
      "text/html": [
       "<div>\n",
       "<style scoped>\n",
       "    .dataframe tbody tr th:only-of-type {\n",
       "        vertical-align: middle;\n",
       "    }\n",
       "\n",
       "    .dataframe tbody tr th {\n",
       "        vertical-align: top;\n",
       "    }\n",
       "\n",
       "    .dataframe thead th {\n",
       "        text-align: right;\n",
       "    }\n",
       "</style>\n",
       "<table border=\"1\" class=\"dataframe\">\n",
       "  <thead>\n",
       "    <tr style=\"text-align: right;\">\n",
       "      <th></th>\n",
       "      <th>GNRC</th>\n",
       "      <th>CPRT</th>\n",
       "      <th>ODFL</th>\n",
       "      <th>AMD</th>\n",
       "      <th>PAYC</th>\n",
       "      <th>CHTR</th>\n",
       "      <th>EL</th>\n",
       "      <th>MKC</th>\n",
       "      <th>PGR</th>\n",
       "      <th>NEM</th>\n",
       "      <th>CCI</th>\n",
       "      <th>NFLX</th>\n",
       "    </tr>\n",
       "  </thead>\n",
       "  <tbody>\n",
       "    <tr>\n",
       "      <th>GNRC</th>\n",
       "      <td>0.158177</td>\n",
       "      <td>0.062339</td>\n",
       "      <td>0.060455</td>\n",
       "      <td>0.086634</td>\n",
       "      <td>0.086730</td>\n",
       "      <td>0.043115</td>\n",
       "      <td>0.049192</td>\n",
       "      <td>0.034057</td>\n",
       "      <td>0.041879</td>\n",
       "      <td>0.025441</td>\n",
       "      <td>0.044316</td>\n",
       "      <td>0.051509</td>\n",
       "    </tr>\n",
       "    <tr>\n",
       "      <th>CPRT</th>\n",
       "      <td>0.062339</td>\n",
       "      <td>0.099872</td>\n",
       "      <td>0.051417</td>\n",
       "      <td>0.067348</td>\n",
       "      <td>0.086944</td>\n",
       "      <td>0.038190</td>\n",
       "      <td>0.049405</td>\n",
       "      <td>0.029281</td>\n",
       "      <td>0.031825</td>\n",
       "      <td>0.017813</td>\n",
       "      <td>0.035088</td>\n",
       "      <td>0.040910</td>\n",
       "    </tr>\n",
       "    <tr>\n",
       "      <th>ODFL</th>\n",
       "      <td>0.060455</td>\n",
       "      <td>0.051417</td>\n",
       "      <td>0.101327</td>\n",
       "      <td>0.065634</td>\n",
       "      <td>0.063132</td>\n",
       "      <td>0.035213</td>\n",
       "      <td>0.048271</td>\n",
       "      <td>0.028706</td>\n",
       "      <td>0.038244</td>\n",
       "      <td>0.016211</td>\n",
       "      <td>0.031079</td>\n",
       "      <td>0.045941</td>\n",
       "    </tr>\n",
       "    <tr>\n",
       "      <th>AMD</th>\n",
       "      <td>0.086634</td>\n",
       "      <td>0.067348</td>\n",
       "      <td>0.065634</td>\n",
       "      <td>0.312339</td>\n",
       "      <td>0.116016</td>\n",
       "      <td>0.056724</td>\n",
       "      <td>0.059564</td>\n",
       "      <td>0.036053</td>\n",
       "      <td>0.044064</td>\n",
       "      <td>0.035417</td>\n",
       "      <td>0.043460</td>\n",
       "      <td>0.102219</td>\n",
       "    </tr>\n",
       "    <tr>\n",
       "      <th>PAYC</th>\n",
       "      <td>0.086730</td>\n",
       "      <td>0.086944</td>\n",
       "      <td>0.063132</td>\n",
       "      <td>0.116016</td>\n",
       "      <td>0.227547</td>\n",
       "      <td>0.052287</td>\n",
       "      <td>0.068154</td>\n",
       "      <td>0.042660</td>\n",
       "      <td>0.055359</td>\n",
       "      <td>0.022478</td>\n",
       "      <td>0.059203</td>\n",
       "      <td>0.081632</td>\n",
       "    </tr>\n",
       "    <tr>\n",
       "      <th>CHTR</th>\n",
       "      <td>0.043115</td>\n",
       "      <td>0.038190</td>\n",
       "      <td>0.035213</td>\n",
       "      <td>0.056724</td>\n",
       "      <td>0.052287</td>\n",
       "      <td>0.084964</td>\n",
       "      <td>0.034096</td>\n",
       "      <td>0.023719</td>\n",
       "      <td>0.029208</td>\n",
       "      <td>0.015086</td>\n",
       "      <td>0.035420</td>\n",
       "      <td>0.046956</td>\n",
       "    </tr>\n",
       "    <tr>\n",
       "      <th>EL</th>\n",
       "      <td>0.049192</td>\n",
       "      <td>0.049405</td>\n",
       "      <td>0.048271</td>\n",
       "      <td>0.059564</td>\n",
       "      <td>0.068154</td>\n",
       "      <td>0.034096</td>\n",
       "      <td>0.096501</td>\n",
       "      <td>0.030570</td>\n",
       "      <td>0.035028</td>\n",
       "      <td>0.009694</td>\n",
       "      <td>0.034054</td>\n",
       "      <td>0.039545</td>\n",
       "    </tr>\n",
       "    <tr>\n",
       "      <th>MKC</th>\n",
       "      <td>0.034057</td>\n",
       "      <td>0.029281</td>\n",
       "      <td>0.028706</td>\n",
       "      <td>0.036053</td>\n",
       "      <td>0.042660</td>\n",
       "      <td>0.023719</td>\n",
       "      <td>0.030570</td>\n",
       "      <td>0.068122</td>\n",
       "      <td>0.031299</td>\n",
       "      <td>0.019388</td>\n",
       "      <td>0.039424</td>\n",
       "      <td>0.025899</td>\n",
       "    </tr>\n",
       "    <tr>\n",
       "      <th>PGR</th>\n",
       "      <td>0.041879</td>\n",
       "      <td>0.031825</td>\n",
       "      <td>0.038244</td>\n",
       "      <td>0.044064</td>\n",
       "      <td>0.055359</td>\n",
       "      <td>0.029208</td>\n",
       "      <td>0.035028</td>\n",
       "      <td>0.031299</td>\n",
       "      <td>0.074192</td>\n",
       "      <td>0.014802</td>\n",
       "      <td>0.035843</td>\n",
       "      <td>0.034033</td>\n",
       "    </tr>\n",
       "    <tr>\n",
       "      <th>NEM</th>\n",
       "      <td>0.025441</td>\n",
       "      <td>0.017813</td>\n",
       "      <td>0.016211</td>\n",
       "      <td>0.035417</td>\n",
       "      <td>0.022478</td>\n",
       "      <td>0.015086</td>\n",
       "      <td>0.009694</td>\n",
       "      <td>0.019388</td>\n",
       "      <td>0.014802</td>\n",
       "      <td>0.107000</td>\n",
       "      <td>0.020577</td>\n",
       "      <td>0.014270</td>\n",
       "    </tr>\n",
       "    <tr>\n",
       "      <th>CCI</th>\n",
       "      <td>0.044316</td>\n",
       "      <td>0.035088</td>\n",
       "      <td>0.031079</td>\n",
       "      <td>0.043460</td>\n",
       "      <td>0.059203</td>\n",
       "      <td>0.035420</td>\n",
       "      <td>0.034054</td>\n",
       "      <td>0.039424</td>\n",
       "      <td>0.035843</td>\n",
       "      <td>0.020577</td>\n",
       "      <td>0.077231</td>\n",
       "      <td>0.030195</td>\n",
       "    </tr>\n",
       "    <tr>\n",
       "      <th>NFLX</th>\n",
       "      <td>0.051509</td>\n",
       "      <td>0.040910</td>\n",
       "      <td>0.045941</td>\n",
       "      <td>0.102219</td>\n",
       "      <td>0.081632</td>\n",
       "      <td>0.046956</td>\n",
       "      <td>0.039545</td>\n",
       "      <td>0.025899</td>\n",
       "      <td>0.034033</td>\n",
       "      <td>0.014270</td>\n",
       "      <td>0.030195</td>\n",
       "      <td>0.169315</td>\n",
       "    </tr>\n",
       "  </tbody>\n",
       "</table>\n",
       "</div>"
      ],
      "text/plain": [
       "          GNRC      CPRT      ODFL       AMD      PAYC      CHTR        EL  \\\n",
       "GNRC  0.158177  0.062339  0.060455  0.086634  0.086730  0.043115  0.049192   \n",
       "CPRT  0.062339  0.099872  0.051417  0.067348  0.086944  0.038190  0.049405   \n",
       "ODFL  0.060455  0.051417  0.101327  0.065634  0.063132  0.035213  0.048271   \n",
       "AMD   0.086634  0.067348  0.065634  0.312339  0.116016  0.056724  0.059564   \n",
       "PAYC  0.086730  0.086944  0.063132  0.116016  0.227547  0.052287  0.068154   \n",
       "CHTR  0.043115  0.038190  0.035213  0.056724  0.052287  0.084964  0.034096   \n",
       "EL    0.049192  0.049405  0.048271  0.059564  0.068154  0.034096  0.096501   \n",
       "MKC   0.034057  0.029281  0.028706  0.036053  0.042660  0.023719  0.030570   \n",
       "PGR   0.041879  0.031825  0.038244  0.044064  0.055359  0.029208  0.035028   \n",
       "NEM   0.025441  0.017813  0.016211  0.035417  0.022478  0.015086  0.009694   \n",
       "CCI   0.044316  0.035088  0.031079  0.043460  0.059203  0.035420  0.034054   \n",
       "NFLX  0.051509  0.040910  0.045941  0.102219  0.081632  0.046956  0.039545   \n",
       "\n",
       "           MKC       PGR       NEM       CCI      NFLX  \n",
       "GNRC  0.034057  0.041879  0.025441  0.044316  0.051509  \n",
       "CPRT  0.029281  0.031825  0.017813  0.035088  0.040910  \n",
       "ODFL  0.028706  0.038244  0.016211  0.031079  0.045941  \n",
       "AMD   0.036053  0.044064  0.035417  0.043460  0.102219  \n",
       "PAYC  0.042660  0.055359  0.022478  0.059203  0.081632  \n",
       "CHTR  0.023719  0.029208  0.015086  0.035420  0.046956  \n",
       "EL    0.030570  0.035028  0.009694  0.034054  0.039545  \n",
       "MKC   0.068122  0.031299  0.019388  0.039424  0.025899  \n",
       "PGR   0.031299  0.074192  0.014802  0.035843  0.034033  \n",
       "NEM   0.019388  0.014802  0.107000  0.020577  0.014270  \n",
       "CCI   0.039424  0.035843  0.020577  0.077231  0.030195  \n",
       "NFLX  0.025899  0.034033  0.014270  0.030195  0.169315  "
      ]
     },
     "execution_count": 42,
     "metadata": {},
     "output_type": "execute_result"
    }
   ],
   "source": [
    "returns.cov() * 252"
   ]
  },
  {
   "cell_type": "markdown",
   "metadata": {},
   "source": [
    "#### Correlation"
   ]
  },
  {
   "cell_type": "code",
   "execution_count": 43,
   "metadata": {},
   "outputs": [
    {
     "data": {
      "text/html": [
       "<div>\n",
       "<style scoped>\n",
       "    .dataframe tbody tr th:only-of-type {\n",
       "        vertical-align: middle;\n",
       "    }\n",
       "\n",
       "    .dataframe tbody tr th {\n",
       "        vertical-align: top;\n",
       "    }\n",
       "\n",
       "    .dataframe thead th {\n",
       "        text-align: right;\n",
       "    }\n",
       "</style>\n",
       "<table border=\"1\" class=\"dataframe\">\n",
       "  <thead>\n",
       "    <tr style=\"text-align: right;\">\n",
       "      <th></th>\n",
       "      <th>GNRC</th>\n",
       "      <th>CPRT</th>\n",
       "      <th>ODFL</th>\n",
       "      <th>AMD</th>\n",
       "      <th>PAYC</th>\n",
       "      <th>CHTR</th>\n",
       "      <th>EL</th>\n",
       "      <th>MKC</th>\n",
       "      <th>PGR</th>\n",
       "      <th>NEM</th>\n",
       "      <th>CCI</th>\n",
       "      <th>NFLX</th>\n",
       "    </tr>\n",
       "  </thead>\n",
       "  <tbody>\n",
       "    <tr>\n",
       "      <th>GNRC</th>\n",
       "      <td>1.000000</td>\n",
       "      <td>0.495985</td>\n",
       "      <td>0.477524</td>\n",
       "      <td>0.389768</td>\n",
       "      <td>0.457155</td>\n",
       "      <td>0.371910</td>\n",
       "      <td>0.398161</td>\n",
       "      <td>0.328088</td>\n",
       "      <td>0.386587</td>\n",
       "      <td>0.195553</td>\n",
       "      <td>0.400948</td>\n",
       "      <td>0.314748</td>\n",
       "    </tr>\n",
       "    <tr>\n",
       "      <th>CPRT</th>\n",
       "      <td>0.495985</td>\n",
       "      <td>1.000000</td>\n",
       "      <td>0.511118</td>\n",
       "      <td>0.381318</td>\n",
       "      <td>0.576739</td>\n",
       "      <td>0.414583</td>\n",
       "      <td>0.503250</td>\n",
       "      <td>0.354993</td>\n",
       "      <td>0.369710</td>\n",
       "      <td>0.172317</td>\n",
       "      <td>0.399524</td>\n",
       "      <td>0.314604</td>\n",
       "    </tr>\n",
       "    <tr>\n",
       "      <th>ODFL</th>\n",
       "      <td>0.477524</td>\n",
       "      <td>0.511118</td>\n",
       "      <td>1.000000</td>\n",
       "      <td>0.368937</td>\n",
       "      <td>0.415765</td>\n",
       "      <td>0.379507</td>\n",
       "      <td>0.488160</td>\n",
       "      <td>0.345510</td>\n",
       "      <td>0.441080</td>\n",
       "      <td>0.155690</td>\n",
       "      <td>0.351323</td>\n",
       "      <td>0.350744</td>\n",
       "    </tr>\n",
       "    <tr>\n",
       "      <th>AMD</th>\n",
       "      <td>0.389768</td>\n",
       "      <td>0.381318</td>\n",
       "      <td>0.368937</td>\n",
       "      <td>1.000000</td>\n",
       "      <td>0.435181</td>\n",
       "      <td>0.348203</td>\n",
       "      <td>0.343086</td>\n",
       "      <td>0.247161</td>\n",
       "      <td>0.289465</td>\n",
       "      <td>0.193732</td>\n",
       "      <td>0.279824</td>\n",
       "      <td>0.444497</td>\n",
       "    </tr>\n",
       "    <tr>\n",
       "      <th>PAYC</th>\n",
       "      <td>0.457155</td>\n",
       "      <td>0.576739</td>\n",
       "      <td>0.415765</td>\n",
       "      <td>0.435181</td>\n",
       "      <td>1.000000</td>\n",
       "      <td>0.376047</td>\n",
       "      <td>0.459931</td>\n",
       "      <td>0.342646</td>\n",
       "      <td>0.426060</td>\n",
       "      <td>0.144058</td>\n",
       "      <td>0.446592</td>\n",
       "      <td>0.415886</td>\n",
       "    </tr>\n",
       "    <tr>\n",
       "      <th>CHTR</th>\n",
       "      <td>0.371910</td>\n",
       "      <td>0.414583</td>\n",
       "      <td>0.379507</td>\n",
       "      <td>0.348203</td>\n",
       "      <td>0.376047</td>\n",
       "      <td>1.000000</td>\n",
       "      <td>0.376552</td>\n",
       "      <td>0.311768</td>\n",
       "      <td>0.367882</td>\n",
       "      <td>0.158216</td>\n",
       "      <td>0.437258</td>\n",
       "      <td>0.391495</td>\n",
       "    </tr>\n",
       "    <tr>\n",
       "      <th>EL</th>\n",
       "      <td>0.398161</td>\n",
       "      <td>0.503250</td>\n",
       "      <td>0.488160</td>\n",
       "      <td>0.343086</td>\n",
       "      <td>0.459931</td>\n",
       "      <td>0.376552</td>\n",
       "      <td>1.000000</td>\n",
       "      <td>0.377044</td>\n",
       "      <td>0.413967</td>\n",
       "      <td>0.095400</td>\n",
       "      <td>0.394469</td>\n",
       "      <td>0.309370</td>\n",
       "    </tr>\n",
       "    <tr>\n",
       "      <th>MKC</th>\n",
       "      <td>0.328088</td>\n",
       "      <td>0.354993</td>\n",
       "      <td>0.345510</td>\n",
       "      <td>0.247161</td>\n",
       "      <td>0.342646</td>\n",
       "      <td>0.311768</td>\n",
       "      <td>0.377044</td>\n",
       "      <td>1.000000</td>\n",
       "      <td>0.440255</td>\n",
       "      <td>0.227085</td>\n",
       "      <td>0.543524</td>\n",
       "      <td>0.241148</td>\n",
       "    </tr>\n",
       "    <tr>\n",
       "      <th>PGR</th>\n",
       "      <td>0.386587</td>\n",
       "      <td>0.369710</td>\n",
       "      <td>0.441080</td>\n",
       "      <td>0.289465</td>\n",
       "      <td>0.426060</td>\n",
       "      <td>0.367882</td>\n",
       "      <td>0.413967</td>\n",
       "      <td>0.440255</td>\n",
       "      <td>1.000000</td>\n",
       "      <td>0.166131</td>\n",
       "      <td>0.473504</td>\n",
       "      <td>0.303654</td>\n",
       "    </tr>\n",
       "    <tr>\n",
       "      <th>NEM</th>\n",
       "      <td>0.195553</td>\n",
       "      <td>0.172317</td>\n",
       "      <td>0.155690</td>\n",
       "      <td>0.193732</td>\n",
       "      <td>0.144058</td>\n",
       "      <td>0.158216</td>\n",
       "      <td>0.095400</td>\n",
       "      <td>0.227085</td>\n",
       "      <td>0.166131</td>\n",
       "      <td>1.000000</td>\n",
       "      <td>0.226359</td>\n",
       "      <td>0.106018</td>\n",
       "    </tr>\n",
       "    <tr>\n",
       "      <th>CCI</th>\n",
       "      <td>0.400948</td>\n",
       "      <td>0.399524</td>\n",
       "      <td>0.351323</td>\n",
       "      <td>0.279824</td>\n",
       "      <td>0.446592</td>\n",
       "      <td>0.437258</td>\n",
       "      <td>0.394469</td>\n",
       "      <td>0.543524</td>\n",
       "      <td>0.473504</td>\n",
       "      <td>0.226359</td>\n",
       "      <td>1.000000</td>\n",
       "      <td>0.264054</td>\n",
       "    </tr>\n",
       "    <tr>\n",
       "      <th>NFLX</th>\n",
       "      <td>0.314748</td>\n",
       "      <td>0.314604</td>\n",
       "      <td>0.350744</td>\n",
       "      <td>0.444497</td>\n",
       "      <td>0.415886</td>\n",
       "      <td>0.391495</td>\n",
       "      <td>0.309370</td>\n",
       "      <td>0.241148</td>\n",
       "      <td>0.303654</td>\n",
       "      <td>0.106018</td>\n",
       "      <td>0.264054</td>\n",
       "      <td>1.000000</td>\n",
       "    </tr>\n",
       "  </tbody>\n",
       "</table>\n",
       "</div>"
      ],
      "text/plain": [
       "          GNRC      CPRT      ODFL       AMD      PAYC      CHTR        EL  \\\n",
       "GNRC  1.000000  0.495985  0.477524  0.389768  0.457155  0.371910  0.398161   \n",
       "CPRT  0.495985  1.000000  0.511118  0.381318  0.576739  0.414583  0.503250   \n",
       "ODFL  0.477524  0.511118  1.000000  0.368937  0.415765  0.379507  0.488160   \n",
       "AMD   0.389768  0.381318  0.368937  1.000000  0.435181  0.348203  0.343086   \n",
       "PAYC  0.457155  0.576739  0.415765  0.435181  1.000000  0.376047  0.459931   \n",
       "CHTR  0.371910  0.414583  0.379507  0.348203  0.376047  1.000000  0.376552   \n",
       "EL    0.398161  0.503250  0.488160  0.343086  0.459931  0.376552  1.000000   \n",
       "MKC   0.328088  0.354993  0.345510  0.247161  0.342646  0.311768  0.377044   \n",
       "PGR   0.386587  0.369710  0.441080  0.289465  0.426060  0.367882  0.413967   \n",
       "NEM   0.195553  0.172317  0.155690  0.193732  0.144058  0.158216  0.095400   \n",
       "CCI   0.400948  0.399524  0.351323  0.279824  0.446592  0.437258  0.394469   \n",
       "NFLX  0.314748  0.314604  0.350744  0.444497  0.415886  0.391495  0.309370   \n",
       "\n",
       "           MKC       PGR       NEM       CCI      NFLX  \n",
       "GNRC  0.328088  0.386587  0.195553  0.400948  0.314748  \n",
       "CPRT  0.354993  0.369710  0.172317  0.399524  0.314604  \n",
       "ODFL  0.345510  0.441080  0.155690  0.351323  0.350744  \n",
       "AMD   0.247161  0.289465  0.193732  0.279824  0.444497  \n",
       "PAYC  0.342646  0.426060  0.144058  0.446592  0.415886  \n",
       "CHTR  0.311768  0.367882  0.158216  0.437258  0.391495  \n",
       "EL    0.377044  0.413967  0.095400  0.394469  0.309370  \n",
       "MKC   1.000000  0.440255  0.227085  0.543524  0.241148  \n",
       "PGR   0.440255  1.000000  0.166131  0.473504  0.303654  \n",
       "NEM   0.227085  0.166131  1.000000  0.226359  0.106018  \n",
       "CCI   0.543524  0.473504  0.226359  1.000000  0.264054  \n",
       "NFLX  0.241148  0.303654  0.106018  0.264054  1.000000  "
      ]
     },
     "execution_count": 43,
     "metadata": {},
     "output_type": "execute_result"
    }
   ],
   "source": [
    "returns.corr()"
   ]
  },
  {
   "cell_type": "markdown",
   "metadata": {},
   "source": [
    "#### Generate Random Weight Equal to 1"
   ]
  },
  {
   "cell_type": "code",
   "execution_count": 44,
   "metadata": {},
   "outputs": [
    {
     "name": "stdout",
     "output_type": "stream",
     "text": [
      "Weights : [0.11110183 0.06703508 0.12307452 0.10461246 0.02695281 0.14434419\n",
      " 0.02030648 0.02571835 0.00708078 0.11984121 0.10596802 0.14396427]\n",
      "Total Weight : 1.0000000000000002\n"
     ]
    }
   ],
   "source": [
    "# Generate 12 random values that sum to 1\n",
    "weights = np.random.random(num_stocks)\n",
    "weights /= np.sum(weights)\n",
    "print('Weights :', weights)\n",
    "print('Total Weight :', np.sum(weights))"
   ]
  },
  {
   "cell_type": "markdown",
   "metadata": {},
   "source": [
    "#### Calculating Return of Portfolio"
   ]
  },
  {
   "cell_type": "code",
   "execution_count": 45,
   "metadata": {},
   "outputs": [
    {
     "data": {
      "text/plain": [
       "0.3326219421960327"
      ]
     },
     "execution_count": 45,
     "metadata": {},
     "output_type": "execute_result"
    }
   ],
   "source": [
    "# Provide return of portfolio using random weights over the whole dataset\n",
    "np.sum(weights * returns.mean()) * 252"
   ]
  },
  {
   "cell_type": "markdown",
   "metadata": {},
   "source": [
    "#### Calculating Volatility"
   ]
  },
  {
   "cell_type": "code",
   "execution_count": 46,
   "metadata": {},
   "outputs": [
    {
     "data": {
      "text/plain": [
       "0.2316552006337385"
      ]
     },
     "execution_count": 46,
     "metadata": {},
     "output_type": "execute_result"
    }
   ],
   "source": [
    "np.sqrt(np.dot(weights.T, np.dot(returns.cov() * 252, weights)))"
   ]
  },
  {
   "cell_type": "markdown",
   "metadata": {},
   "source": [
    "#### Analyzing Returns & Risk of 10000 Combinations"
   ]
  },
  {
   "cell_type": "code",
   "execution_count": 47,
   "metadata": {},
   "outputs": [
    {
     "data": {
      "text/plain": [
       "(array([0.33316472, 0.31839284, 0.26574883, ..., 0.3726989 , 0.30057359,\n",
       "        0.28017522]),\n",
       " array([0.24107735, 0.225786  , 0.20226925, ..., 0.24864631, 0.22757649,\n",
       "        0.21034925]),\n",
       " array([1.3301321 , 1.35479103, 1.25203819, ..., 1.44863961, 1.26583197,\n",
       "        1.27252756]),\n",
       " array([[0.05520495, 0.03518492, 0.06600731, ..., 0.07024674, 0.10785678,\n",
       "         0.14650523],\n",
       "        [0.11700402, 0.10562792, 0.02168293, ..., 0.08992977, 0.08810346,\n",
       "         0.07128449],\n",
       "        [0.06403573, 0.05533234, 0.07157918, ..., 0.15869398, 0.09196538,\n",
       "         0.05187143],\n",
       "        ...,\n",
       "        [0.11158804, 0.1446163 , 0.12474187, ..., 0.12473171, 0.0413289 ,\n",
       "         0.03302754],\n",
       "        [0.00210431, 0.07924548, 0.07374637, ..., 0.01341304, 0.10754038,\n",
       "         0.03149056],\n",
       "        [0.01447454, 0.0720401 , 0.1204737 , ..., 0.09760473, 0.10171487,\n",
       "         0.07020616]]))"
      ]
     },
     "execution_count": 47,
     "metadata": {},
     "output_type": "execute_result"
    }
   ],
   "source": [
    "p_ret = [] # Returns list\n",
    "p_vol = [] # Volatility list\n",
    "p_SR = [] # Sharpe Ratio list\n",
    "p_wt = [] # Stock weights list\n",
    "\n",
    "\n",
    "for x in range(10000):\n",
    "    # Generate random weights\n",
    "    p_weights = np.random.random(num_stocks)\n",
    "    p_weights /= np.sum(p_weights)\n",
    "    \n",
    "    # Add return using those weights to list\n",
    "    ret_1 = np.sum(p_weights * returns.mean()) * 252\n",
    "    p_ret.append(ret_1)\n",
    "    \n",
    "    # Add volatility or standard deviation to list\n",
    "    vol_1 = np.sqrt(np.dot(p_weights.T, np.dot(returns.cov() * 252, p_weights)))\n",
    "    p_vol.append(vol_1)\n",
    "    \n",
    "    # Get Sharpe ratio\n",
    "    SR_1 = (ret_1 - risk_free_rate) / vol_1\n",
    "    p_SR.append(SR_1)\n",
    "    \n",
    "    # Store the weights for each portfolio\n",
    "    p_wt.append(p_weights)\n",
    "    \n",
    "# Convert to Numpy arrays\n",
    "p_ret = np.array(p_ret)\n",
    "p_vol = np.array(p_vol)\n",
    "p_SR = np.array(p_SR)\n",
    "p_wt = np.array(p_wt)\n",
    "\n",
    "p_ret, p_vol, p_SR, p_wt"
   ]
  },
  {
   "cell_type": "markdown",
   "metadata": {},
   "source": [
    "#### Plotting the Efficient Frontier"
   ]
  },
  {
   "cell_type": "code",
   "execution_count": 48,
   "metadata": {},
   "outputs": [
    {
     "data": {
      "text/plain": [
       "<AxesSubplot:xlabel='Volatility', ylabel='Return'>"
      ]
     },
     "execution_count": 48,
     "metadata": {},
     "output_type": "execute_result"
    },
    {
     "data": {
      "image/png": "[encoded data removed]",
      "text/plain": [
       "<Figure size 1152x648 with 1 Axes>"
      ]
     },
     "metadata": {
      "needs_background": "light"
     },
     "output_type": "display_data"
    }
   ],
   "source": [
    "# Create a dataframe with returns and volatility\n",
    "ports = pd.DataFrame({'Return': p_ret, 'Volatility': p_vol})\n",
    "\n",
    "ports.plot(x='Volatility', y='Return', kind='scatter', figsize=(16, 9))"
   ]
  },
  {
   "cell_type": "markdown",
   "metadata": {},
   "source": [
    "#### Sharpe Ratio"
   ]
  },
  {
   "cell_type": "markdown",
   "metadata": {},
   "source": [
    "People want to maximize returns while avoiding as much risk as possible. William Sharpe created the Sharpe Ratio to find the portfolio that provides the best return for the lowest amount of risk.\n",
    "\n",
    "*Sharpe Ratio* = $ \\frac{r_i - r_f}{\\sigma_i}$\n",
    "\n",
    "$r_f = $ Risk Free Rate\n",
    "\n",
    "$r_i = $ Rate of Return of the stock\n",
    "\n",
    "$\\sigma_i = $ Standard Deviation of the Stock\n",
    "\n",
    "As return increases so does the Sharpe Ratio, but as Standard Deviation increase the Sharpe Ratio decreases."
   ]
  },
  {
   "cell_type": "code",
   "execution_count": 49,
   "metadata": {},
   "outputs": [
    {
     "name": "stdout",
     "output_type": "stream",
     "text": [
      "Stock : GNRC : 21.31\n",
      "Stock : CPRT : 14.79\n",
      "Stock : ODFL : 10.41\n",
      "Stock : AMD : 15.05\n",
      "Stock : PAYC : 2.71\n",
      "Stock : CHTR : 3.15\n",
      "Stock : EL : 7.87\n",
      "Stock : MKC : 14.55\n",
      "Stock : PGR : 3.61\n",
      "Stock : NEM : 4.59\n",
      "Stock : CCI : 1.89\n",
      "Stock : NFLX : 0.09\n",
      "\n",
      "Volatility : 0.24926198771469615\n",
      "Return : 0.38980856968391286\n"
     ]
    }
   ],
   "source": [
    "# Return the index of the largest Sharpe Ratio\n",
    "SR_idx = np.argmax(p_SR)\n",
    "\n",
    "# Find the ideal portfolio weighting at that index\n",
    "i = 0\n",
    "while i < num_stocks:\n",
    "    print(\"Stock : %s : %2.2f\" % (port_list[i], (p_wt[SR_idx][i] * 100)))\n",
    "    i += 1\n",
    "    \n",
    "# Find volatility of that portfolio\n",
    "print(\"\\nVolatility :\", p_vol[SR_idx])\n",
    "      \n",
    "# Find return of that portfolio\n",
    "print(\"Return :\", p_ret[SR_idx])"
   ]
  },
  {
   "cell_type": "markdown",
   "metadata": {},
   "source": [
    "#### Get Number of Shares & Cost Based on Weights"
   ]
  },
  {
   "cell_type": "code",
   "execution_count": 50,
   "metadata": {},
   "outputs": [],
   "source": [
    "# I'm going to use a similar portfolio that has slightly easier percents to work with\n",
    "\n",
    "# Calculated Weighting\n",
    "# Stock : GNRC : 21.31\n",
    "# Stock : CPRT : 14.79\n",
    "# Stock : ODFL : 10.41\n",
    "# Stock : AMD : 15.05\n",
    "# Stock : PAYC : 2.71\n",
    "# Stock : CHTR : 3.15\n",
    "# Stock : EL : 7.87\n",
    "# Stock : MKC : 14.55\n",
    "# Stock : PGR : 3.61\n",
    "# Stock : NEM : 4.59\n",
    "# Stock : CCI : 1.89\n",
    "# Stock : NFLX : 0.09"
   ]
  },
  {
   "cell_type": "markdown",
   "metadata": {},
   "source": [
    "_For the Example_\n",
    "\n",
    "Calculated Weighting\n",
    "- Stock : GNRC : 21.90 \n",
    "- Stock : CPRT : 15.63 \n",
    "- Stock : ODFL : 23.83\n",
    "- Stock : AMD : 11.09\n",
    "- Stock : PAYC : 1.86\n",
    "- Stock : CHTR : 3.55\n",
    "- Stock : MKC : 2.87\n",
    "- Stock : PG : 1.09\n",
    "- Stock : PGR : 2.86\n",
    "- Stock : NEM : 10.11\n",
    "- Stock : CCI : 4.34\n",
    "- Stock : COG : 0.87\n",
    "\n",
    "Find percentage closest to 1 and use it as the basis for calculating all other shares Since PG is 1% : GNRC is 21.90 : Multiply cost of PG (118.20) by 22 (21.9 Rounded up) and then divide that by the cost of GNRC to get the shares to buy for GNRC\n",
    "\n",
    "118.20 * 22 = 2,600.4 / 102.01 = 25.49 (25 Shares) 102.01 =\n",
    "\n",
    "In situations in which prices don't work either discard stock or force 1 share"
   ]
  },
  {
   "cell_type": "code",
   "execution_count": 51,
   "metadata": {},
   "outputs": [],
   "source": [
    "def get_port_shares(one_price, force_one, wts, prices):\n",
    "    # Gets number of stocks to analyze\n",
    "    num_stocks = len(wts)\n",
    "    \n",
    "    # Holds the number of shares for each\n",
    "    shares = []\n",
    "    \n",
    "    # Holds Cost of shares for each\n",
    "    cost_shares = []\n",
    "    \n",
    "    i = 0\n",
    "    while i < num_stocks:\n",
    "        # Get max amount to spend on stock \n",
    "        max_price = one_price * wts[i]\n",
    "        \n",
    "        # Gets number of shares to buy and adds them to list\n",
    "        num_shares = int(max_price / prices[i])\n",
    "        \n",
    "        # If the user wants to force buying one share do it\n",
    "        if(force_one & (num_shares == 0)):\n",
    "            num_shares = 1\n",
    "        \n",
    "        shares.append(num_shares)\n",
    "        \n",
    "        # Gets cost of those shares and appends to list\n",
    "        cost = num_shares * prices[i]\n",
    "        cost_shares.append(cost)\n",
    "        i += 1\n",
    "        \n",
    "    return shares, cost_shares"
   ]
  },
  {
   "cell_type": "markdown",
   "metadata": {},
   "source": [
    "#### Get Portfolio Weighting"
   ]
  },
  {
   "cell_type": "code",
   "execution_count": 52,
   "metadata": {},
   "outputs": [],
   "source": [
    "def get_port_weighting(share_cost):\n",
    "    \n",
    "    # Holds weights for stocks\n",
    "    stock_wts = []\n",
    "    # All values summed\n",
    "    tot_val = sum(share_cost)\n",
    "    print(\"Total Investment :\", tot_val)\n",
    "    \n",
    "    for x in share_cost:\n",
    "        stock_wts.append(x / tot_val)\n",
    "    return stock_wts"
   ]
  },
  {
   "cell_type": "markdown",
   "metadata": {},
   "source": [
    "#### Returns the Value of Portfolio by Date"
   ]
  },
  {
   "cell_type": "code",
   "execution_count": 53,
   "metadata": {},
   "outputs": [],
   "source": [
    "def get_port_val_by_date(date, shares, tickers):\n",
    "    port_prices = merge_df_by_column_name('Adj Close',  date, \n",
    "                                  date, *port_list)\n",
    "    # Convert from dataframe to Python list\n",
    "    port_prices = port_df_start.values.tolist()\n",
    "    # Trick that converts a list of lists into a single list\n",
    "    port_prices = sum(port_prices, [])\n",
    "    return port_prices"
   ]
  },
  {
   "cell_type": "markdown",
   "metadata": {},
   "source": [
    "#### Approximate Portfolio Weighting Based on Request"
   ]
  },
  {
   "cell_type": "code",
   "execution_count": 54,
   "metadata": {},
   "outputs": [
    {
     "name": "stdout",
     "output_type": "stream",
     "text": [
      "Shares : [24, 18, 9, 36, 1, 1, 11, 8, 7, 14, 1, 1]\n",
      "Share Cost : [2448.2400512695317, 1682.6400604248047, 1146.2229080200195, 1767.5999450683591, 271.79998779296875, 490.4299926757813, 893.9514999389648, 1624.13720703125, 470.02672576904297, 573.2249221801758, 133.36074829101562, 329.8099975585937]\n",
      "Total Investment : 11831.444046020508\n",
      "Stock Weights : [0.2069265629577139, 0.1422176408796658, 0.09687937529532165, 0.1493984959226418, 0.02297268082710397, 0.04145140616548298, 0.07555726050529261, 0.13727294831585046, 0.03972691109730903, 0.04844927803829485, 0.011271722012316101, 0.027875717983006892]\n"
     ]
    },
    {
     "data": {
      "text/plain": [
       "[102.01000213623048,\n",
       " 93.4800033569336,\n",
       " 127.35810089111328,\n",
       " 49.09999847412109,\n",
       " 271.79998779296875,\n",
       " 490.4299926757813,\n",
       " 81.26831817626953,\n",
       " 203.01715087890625,\n",
       " 67.14667510986328,\n",
       " 40.944637298583984,\n",
       " 133.36074829101562,\n",
       " 329.8099975585937]"
      ]
     },
     "execution_count": 54,
     "metadata": {},
     "output_type": "execute_result"
    }
   ],
   "source": [
    "port_list = [\"GNRC\", \"CPRT\", \"ODFL\", \"AMD\", \"PAYC\", \"CHTR\", \"MKC\", \n",
    "             \"EL\", \"PGR\", \"NEM\", \"CCI\", \"NFLX\"]\n",
    "\n",
    "port_wts = [21, 15, 10, 15, 3, 3, 8, 15, 4, 5, 2, 0]\n",
    "\n",
    "# Get all stock prices on the starting date\n",
    "port_df_start = merge_df_by_column_name('Adj Close',  '2020-01-02', \n",
    "                                  '2020-01-02', *port_list)\n",
    "# Convert from dataframe to Python list\n",
    "port_prices = port_df_start.values.tolist()\n",
    "# Trick that converts a list of lists into a single list\n",
    "port_prices = sum(port_prices, [])\n",
    "\n",
    "# Calculated Weighting\n",
    "# Stock : GNRC : 21.31\n",
    "# Stock : CPRT : 14.79\n",
    "# Stock : ODFL : 10.41\n",
    "# Stock : AMD : 15.05\n",
    "# Stock : PAYC : 2.71\n",
    "# Stock : CHTR : 3.15\n",
    "# Stock : EL : 7.87\n",
    "# Stock : MKC : 14.55\n",
    "# Stock : PGR : 3.61\n",
    "# Stock : NEM : 4.59\n",
    "# Stock : CCI : 1.89\n",
    "# Stock : NFLX : 0.09\n",
    "\n",
    "tot_shares, share_cost = get_port_shares(118.20, True, port_wts, port_prices)\n",
    "print(\"Shares :\", tot_shares)\n",
    "print(\"Share Cost :\", share_cost)\n",
    "\n",
    "# Get list of weights for stocks\n",
    "stock_wts = get_port_weighting(share_cost)\n",
    "print(\"Stock Weights :\", stock_wts)\n",
    "\n",
    "# Get value at end of year\n",
    "get_port_val_by_date('2020-12-31', tot_shares, port_list)"
   ]
  }
 ],
 "metadata": {
  "interpreter": {
   "hash": "feac5ee11db6385b4c12b0947c117f22892e921fb5655ece65f725e09c2e67f4"
  },
  "kernelspec": {
   "display_name": "Python 3.9.7 ('finance')",
   "language": "python",
   "name": "python3"
  },
  "language_info": {
   "codemirror_mode": {
    "name": "ipython",
    "version": 3
   },
   "file_extension": ".py",
   "mimetype": "text/x-python",
   "name": "python",
   "nbconvert_exporter": "python",
   "pygments_lexer": "ipython3",
   "version": "3.9.7"
  },
  "orig_nbformat": 4
 },
 "nbformat": 4,
 "nbformat_minor": 2
}
