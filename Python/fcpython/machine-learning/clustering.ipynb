{
 "cells": [
  {
   "cell_type": "markdown",
   "metadata": {},
   "source": [
    "## K-Means with Python – Clustering Shot Creators in the Premier League"
   ]
  },
  {
   "cell_type": "markdown",
   "metadata": {},
   "source": [
    "We will use the k-means algorithm to put players into different groups based on their shot creating actions."
   ]
  },
  {
   "cell_type": "markdown",
   "metadata": {},
   "source": [
    "The process will take the following steps:\n",
    "\n",
    "1. Check and tidy dataset\n",
    "2. Create k-means model and assign each player into a cluster of similar players\n",
    "3. Describe & visualise results"
   ]
  },
  {
   "cell_type": "code",
   "execution_count": null,
   "metadata": {},
   "outputs": [],
   "source": [
    "import pandas as pd\n",
    "import numpy as np\n",
    "import matplotlib.pyplot as plt"
   ]
  },
  {
   "cell_type": "code",
   "execution_count": null,
   "metadata": {},
   "outputs": [],
   "source": [
    "from sklearn.cluster import KMeans"
   ]
  },
  {
   "cell_type": "code",
   "execution_count": null,
   "metadata": {},
   "outputs": [],
   "source": [
    "#Allow for full tables to be shown\n",
    "pd.options.display.max_columns = None\n",
    "pd.options.display.max_rows = None"
   ]
  },
  {
   "cell_type": "code",
   "execution_count": null,
   "metadata": {},
   "outputs": [],
   "source": [
    "data = pd.read_csv('./data/SCA.csv')"
   ]
  },
  {
   "cell_type": "code",
   "execution_count": null,
   "metadata": {},
   "outputs": [],
   "source": [
    "data.head()"
   ]
  },
  {
   "cell_type": "markdown",
   "metadata": {},
   "source": [
    "_Check & Tidy Dataset_"
   ]
  },
  {
   "cell_type": "code",
   "execution_count": null,
   "metadata": {},
   "outputs": [],
   "source": [
    "#Split the player names by the slash, and use the first one\n",
    "data['Player'] = data['Player'].str.split('\\\\', expand=True)[0]\n",
    "\n",
    "#Split the nation names by the space, and use the second one\n",
    "data['Nation'] = data['Nation'].str.split(' ', expand=True)[1]\n",
    "\n",
    "#Some positions have 2 (e.g. MFFW), let's just use the first two letters for now\n",
    "data['Pos'] = data['Pos'].str[:2]\n",
    "\n",
    "data.head(2)"
   ]
  },
  {
   "cell_type": "markdown",
   "metadata": {},
   "source": [
    "One more thing to consider is the effect of playing for a stronger team. As a broad assumption, we can expect players in better teams to create more shots, and players in worse teams to produce fewer.\n",
    "\n",
    "This might produce results that group players based on their production levels, not the styles of their productions.\n",
    "\n",
    "As such, let’s create some new columns to look at the percentages for each action type. We’ll do this by creating a sum column, then dividing each column by the sum."
   ]
  },
  {
   "cell_type": "code",
   "execution_count": null,
   "metadata": {},
   "outputs": [],
   "source": [
    "#Create list of columns to sum, then assign the sum to a new column\n",
    "add_list = ['Pass SCA', 'Deadball SCA', 'Dribble SCA', 'Shot SCA', 'Fouled SCA']\n",
    "data['Sum SCA'] = data[add_list].sum(axis=1)\n",
    "\n",
    "#Create our first new column\n",
    "data['Pass SCA Ratio'] = data['Pass SCA']/data['Sum SCA']\n",
    "data.head()"
   ]
  },
  {
   "cell_type": "markdown",
   "metadata": {},
   "source": [
    "First, we’ll create the new column names in a loop. Then we will run another loop with the code that we just used to create our remaining columns."
   ]
  },
  {
   "cell_type": "code",
   "execution_count": null,
   "metadata": {},
   "outputs": [],
   "source": [
    "#Create new column names by adding ' ratio' to each name in our previous list\n",
    "new_cols_list = [each + ' Ratio' for each in add_list]\n",
    "\n",
    "#For each new column name, calculate the column exactly as we did a minute ago\n",
    "for idx, val in enumerate(new_cols_list):\n",
    "    data[val] = data[add_list[idx]]/data['Sum SCA']\n",
    "\n",
    "#Create a sum of the percentages to check that they all add to 1\n",
    "data['Sum SCA Ratio'] = data[new_cols_list].sum(axis=1)\n",
    "data.head(5)"
   ]
  },
  {
   "cell_type": "markdown",
   "metadata": {},
   "source": [
    "We’ll create a new dataframe that will ask for only forwards or midfielders. Also, let’s set a floor for playing time & shots created to cut out anyone with low appearance/creation numbers."
   ]
  },
  {
   "cell_type": "code",
   "execution_count": null,
   "metadata": {},
   "outputs": [],
   "source": [
    "#New dataframe where Pos == FW or MF. AND played more than 5 90s AND created more than 15 shots\n",
    "data_mffw = data[((data['Pos'] == 'FW') | (data['Pos'] == 'MF')) & (data['90s'] > 5) & (data['SCA'] > 15)]\n",
    "\n",
    "data_mffw.head()"
   ]
  },
  {
   "cell_type": "markdown",
   "metadata": {},
   "source": [
    "_Create k-means model and assign each player into a cluster of similar players_"
   ]
  },
  {
   "cell_type": "markdown",
   "metadata": {},
   "source": [
    "As simply as possible, the method splits all of our players into a number of clusters that we decide.\n",
    "\n",
    "One way that it does this is by putting the centre of the clusters somewhere at random in our data. From here, the players are assigned a cluster based on which one they are closest to.\n",
    "\n",
    "The cluster’s location then changes to the average of its players’ datapoints and the clusters are re-assigned. This process repeats until no players change their membership after the cluster centres move to their new average. Once this process stops, we then have our final clusters!"
   ]
  },
  {
   "cell_type": "code",
   "execution_count": null,
   "metadata": {},
   "outputs": [],
   "source": [
    "km = KMeans(n_clusters=5, init='random', random_state=0)"
   ]
  },
  {
   "cell_type": "code",
   "execution_count": null,
   "metadata": {},
   "outputs": [],
   "source": [
    "y_km = km.fit_predict(data_mffw[new_cols_list])\n",
    "y_km"
   ]
  },
  {
   "cell_type": "code",
   "execution_count": null,
   "metadata": {},
   "outputs": [],
   "source": [
    "data_mffw['Cluster'] = y_km\n",
    "data_mffw.head()"
   ]
  },
  {
   "cell_type": "markdown",
   "metadata": {},
   "source": [
    "_Describe & Visualise Results_"
   ]
  },
  {
   "cell_type": "code",
   "execution_count": null,
   "metadata": {},
   "outputs": [],
   "source": [
    "data_mffw[data_mffw['Cluster'] == 0].head()"
   ]
  },
  {
   "cell_type": "code",
   "execution_count": null,
   "metadata": {},
   "outputs": [],
   "source": [
    "data_mffw[data_mffw['Cluster'] == 1].head()"
   ]
  },
  {
   "cell_type": "code",
   "execution_count": null,
   "metadata": {},
   "outputs": [],
   "source": [
    "#We'll do this a couple of times, let's make a function\n",
    "def plotClusters(xAxis, yAxis):\n",
    "    plt.scatter(data_mffw[data_mffw['Cluster']==0][xAxis], data_mffw[data_mffw['Cluster']==0][yAxis], s=40, c='red', label ='Cluster 1')\n",
    "    plt.scatter(data_mffw[data_mffw['Cluster']==1][xAxis], data_mffw[data_mffw['Cluster']==1][yAxis], s=40, c='blue', label ='Cluster 2')\n",
    "    plt.scatter(data_mffw[data_mffw['Cluster']==2][xAxis], data_mffw[data_mffw['Cluster']==2][yAxis], s=40, c='green', label ='Cluster 3')\n",
    "    plt.scatter(data_mffw[data_mffw['Cluster']==3][xAxis], data_mffw[data_mffw['Cluster']==3][yAxis], s=40, c='pink', label ='Cluster 4')\n",
    "    plt.scatter(data_mffw[data_mffw['Cluster']==4][xAxis], data_mffw[data_mffw['Cluster']==4][yAxis], s=40, c='gold', label ='Cluster 5')\n",
    "    plt.xlabel(xAxis)\n",
    "    plt.ylabel(yAxis)    \n",
    "    plt.legend() \n",
    "    \n",
    "plotClusters('Pass SCA Ratio', 'Dribble SCA Ratio')"
   ]
  },
  {
   "cell_type": "markdown",
   "metadata": {},
   "source": [
    "One final plot, let’s look at shots created per 90 against age. This kind of thing might help us to examine a player that we are replacing and look for younger players with similar contributions."
   ]
  },
  {
   "cell_type": "code",
   "execution_count": null,
   "metadata": {},
   "outputs": [],
   "source": [
    "#Age vs number of shot creations per 90, split by cluster\n",
    "plotClusters('SCA90', 'Age')"
   ]
  }
 ],
 "metadata": {
  "interpreter": {
   "hash": "3fb9609e3dffa3ca5f591f915c944481fbb48a85829d522d91dd908e32031418"
  },
  "kernelspec": {
   "display_name": "Python 3.9.7 ('ml')",
   "language": "python",
   "name": "python3"
  },
  "language_info": {
   "codemirror_mode": {
    "name": "ipython",
    "version": 3
   },
   "file_extension": ".py",
   "mimetype": "text/x-python",
   "name": "python",
   "nbconvert_exporter": "python",
   "pygments_lexer": "ipython3",
   "version": "3.9.7"
  },
  "orig_nbformat": 4
 },
 "nbformat": 4,
 "nbformat_minor": 2
}
