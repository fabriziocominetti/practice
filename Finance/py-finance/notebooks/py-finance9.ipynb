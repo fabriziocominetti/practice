{
 "cells": [
  {
   "cell_type": "markdown",
   "metadata": {},
   "source": [
    "## Python for Finance 9 - Investment Analysis"
   ]
  },
  {
   "cell_type": "code",
   "execution_count": 1,
   "metadata": {},
   "outputs": [],
   "source": [
    "# Provides ways to work with large multidimensional arrays\n",
    "import numpy as np \n",
    "# Allows for further data manipulation and analysis\n",
    "import pandas as pd\n",
    "from pandas_datareader import data as web # Reads stock data \n",
    "import matplotlib.pyplot as plt # Plotting\n",
    "import matplotlib.dates as mdates # Styling dates\n",
    "%matplotlib inline\n",
    "\n",
    "import datetime as dt # For defining dates\n",
    "import mplfinance as mpf # Matplotlib finance\n",
    "\n",
    "import time\n",
    "\n",
    "# Used to get data from a directory\n",
    "import os\n",
    "from os import listdir\n",
    "from os.path import isfile, join\n",
    "\n",
    "#Statsmodels is a great library we can use to run regressions.\n",
    "import statsmodels.api as sm\n",
    "# Seaborn extends the capabilities of Matplotlib\n",
    "import seaborn as sns\n",
    "# Used for calculating regressions\n",
    "from statsmodels.tsa.ar_model import AutoReg, ar_select_order"
   ]
  },
  {
   "cell_type": "markdown",
   "metadata": {},
   "source": [
    "#### Dates & Other Constants"
   ]
  },
  {
   "cell_type": "code",
   "execution_count": 2,
   "metadata": {},
   "outputs": [],
   "source": [
    "# Define path to files\n",
    "# For Windows\n",
    "PATH = \"../data/stock-list/\"\n",
    "\n",
    "# Start date defaults\n",
    "ST_YEAR = 2017\n",
    "ST_MONTH = 1\n",
    "ST_DAY = 1\n",
    "ST_DATE_STR = f\"{ST_YEAR}-{ST_MONTH}-{ST_DAY}\"\n",
    "ST_DATE_DATETIME = dt.datetime(ST_YEAR, ST_MONTH, ST_DAY)\n",
    "\n",
    "# End date defaults\n",
    "EN_YEAR = 2021\n",
    "EN_MONTH = 12\n",
    "EN_DAY = 31\n",
    "EN_DATE_STR = f\"{EN_YEAR}-{EN_MONTH}-{EN_DAY}\"\n",
    "EN_DATE_DATETIME = dt.datetime(EN_YEAR, EN_MONTH, EN_DAY)\n",
    "\n",
    "risk_free_rate = 0.0125 # Approximate 10 year bond rate"
   ]
  },
  {
   "cell_type": "markdown",
   "metadata": {},
   "source": [
    "#### Function that Saves Dataframe to CSV"
   ]
  },
  {
   "cell_type": "code",
   "execution_count": 3,
   "metadata": {},
   "outputs": [],
   "source": [
    "def save_dataframe_to_csv(df, ticker):\n",
    "    df.to_csv(PATH + ticker + '.csv')"
   ]
  },
  {
   "cell_type": "markdown",
   "metadata": {},
   "source": [
    "#### Function that Returns a Dataframe from a CSV"
   ]
  },
  {
   "cell_type": "code",
   "execution_count": 4,
   "metadata": {},
   "outputs": [],
   "source": [
    "def get_df_from_csv(ticker):\n",
    "    try:\n",
    "        df = pd.read_csv(PATH + ticker + '.csv', index_col='Date', \n",
    "                         parse_dates=True)\n",
    "    except FileNotFoundError:\n",
    "        pass\n",
    "        # print(\"File Doesn't Exist\")\n",
    "    else:\n",
    "        return df"
   ]
  },
  {
   "cell_type": "markdown",
   "metadata": {},
   "source": [
    "#### Add Daily Return to Dataframe"
   ]
  },
  {
   "cell_type": "code",
   "execution_count": 5,
   "metadata": {},
   "outputs": [],
   "source": [
    "# Shift provides the value from the previous day\n",
    "# NaN is displayed because there was no previous day price for the 1st calculation\n",
    "def add_daily_return_to_df(df, ticker):\n",
    "    df['daily_return'] = (df['Adj Close'] / df['Adj Close'].shift(1)) - 1\n",
    "    # Save data to a CSV file\n",
    "    save_dataframe_to_csv(df, ticker)\n",
    "    return df"
   ]
  },
  {
   "cell_type": "markdown",
   "metadata": {},
   "source": [
    "#### Merge Multiple Stocks in One Dataframe by Column Name"
   ]
  },
  {
   "cell_type": "code",
   "execution_count": 6,
   "metadata": {},
   "outputs": [],
   "source": [
    "def merge_df_by_column_name(col_name, sdate, edate, *tickers):\n",
    "    # Will hold data for all dataframes with the same column name\n",
    "    mult_df = pd.DataFrame()\n",
    "    \n",
    "    for x in tickers:\n",
    "        df = get_df_from_csv(x)\n",
    "        \n",
    "        # NEW Check if your dataframe has duplicate indexes\n",
    "        if not df.index.is_unique:\n",
    "            # Delete duplicates \n",
    "            df = df.loc[~df.index.duplicated(), :]\n",
    "        \n",
    "        mask = (df.index >= sdate) & (df.index <= edate)\n",
    "        mult_df[x] = df.loc[mask][col_name]\n",
    "        \n",
    "    return mult_df"
   ]
  },
  {
   "cell_type": "code",
   "execution_count": 8,
   "metadata": {},
   "outputs": [
    {
     "data": {
      "text/html": [
       "<div>\n",
       "<style scoped>\n",
       "    .dataframe tbody tr th:only-of-type {\n",
       "        vertical-align: middle;\n",
       "    }\n",
       "\n",
       "    .dataframe tbody tr th {\n",
       "        vertical-align: top;\n",
       "    }\n",
       "\n",
       "    .dataframe thead th {\n",
       "        text-align: right;\n",
       "    }\n",
       "</style>\n",
       "<table border=\"1\" class=\"dataframe\">\n",
       "  <thead>\n",
       "    <tr style=\"text-align: right;\">\n",
       "      <th></th>\n",
       "      <th>AMD</th>\n",
       "      <th>CPRT</th>\n",
       "    </tr>\n",
       "    <tr>\n",
       "      <th>Date</th>\n",
       "      <th></th>\n",
       "      <th></th>\n",
       "    </tr>\n",
       "  </thead>\n",
       "  <tbody>\n",
       "    <tr>\n",
       "      <th>2018-01-02</th>\n",
       "      <td>0.068093</td>\n",
       "      <td>0.009493</td>\n",
       "    </tr>\n",
       "    <tr>\n",
       "      <th>2018-01-03</th>\n",
       "      <td>0.051913</td>\n",
       "      <td>-0.004816</td>\n",
       "    </tr>\n",
       "    <tr>\n",
       "      <th>2018-01-04</th>\n",
       "      <td>0.049351</td>\n",
       "      <td>0.008066</td>\n",
       "    </tr>\n",
       "    <tr>\n",
       "      <th>2018-01-05</th>\n",
       "      <td>-0.019802</td>\n",
       "      <td>-0.004801</td>\n",
       "    </tr>\n",
       "    <tr>\n",
       "      <th>2018-01-08</th>\n",
       "      <td>0.033670</td>\n",
       "      <td>0.000459</td>\n",
       "    </tr>\n",
       "    <tr>\n",
       "      <th>...</th>\n",
       "      <td>...</td>\n",
       "      <td>...</td>\n",
       "    </tr>\n",
       "    <tr>\n",
       "      <th>2021-09-03</th>\n",
       "      <td>0.006593</td>\n",
       "      <td>0.003929</td>\n",
       "    </tr>\n",
       "    <tr>\n",
       "      <th>2021-09-07</th>\n",
       "      <td>-0.007005</td>\n",
       "      <td>-0.018059</td>\n",
       "    </tr>\n",
       "    <tr>\n",
       "      <th>2021-09-08</th>\n",
       "      <td>-0.027302</td>\n",
       "      <td>0.011678</td>\n",
       "    </tr>\n",
       "    <tr>\n",
       "      <th>2021-09-09</th>\n",
       "      <td>-0.000188</td>\n",
       "      <td>-0.017834</td>\n",
       "    </tr>\n",
       "    <tr>\n",
       "      <th>2021-09-10</th>\n",
       "      <td>-0.008950</td>\n",
       "      <td>0.008023</td>\n",
       "    </tr>\n",
       "  </tbody>\n",
       "</table>\n",
       "<p>930 rows × 2 columns</p>\n",
       "</div>"
      ],
      "text/plain": [
       "                 AMD      CPRT\n",
       "Date                          \n",
       "2018-01-02  0.068093  0.009493\n",
       "2018-01-03  0.051913 -0.004816\n",
       "2018-01-04  0.049351  0.008066\n",
       "2018-01-05 -0.019802 -0.004801\n",
       "2018-01-08  0.033670  0.000459\n",
       "...              ...       ...\n",
       "2021-09-03  0.006593  0.003929\n",
       "2021-09-07 -0.007005 -0.018059\n",
       "2021-09-08 -0.027302  0.011678\n",
       "2021-09-09 -0.000188 -0.017834\n",
       "2021-09-10 -0.008950  0.008023\n",
       "\n",
       "[930 rows x 2 columns]"
      ]
     },
     "execution_count": 8,
     "metadata": {},
     "output_type": "execute_result"
    }
   ],
   "source": [
    "# demonstration of mult_df\n",
    "port_list = [\"AMD\", \"CPRT\"]\n",
    "mult_df = merge_df_by_column_name('daily_return',  '2018-01-02', \n",
    "                                  '2021-09-10', *port_list)\n",
    "mult_df"
   ]
  },
  {
   "cell_type": "markdown",
   "metadata": {},
   "source": [
    "#### Calculating Beta"
   ]
  },
  {
   "cell_type": "markdown",
   "metadata": {},
   "source": [
    "Beta provides the relationship between an investment and the overall market. Risky investments tend to fall further during bad times, but will increase quicker during good times.\n",
    "\n",
    "Beta is found by dividing the covariance of the stock and the market by the variance of the overall market. It is a measure of systematic risk that can't be diversified away.\n",
    "\n",
    "$ \\beta = \\frac{Cov(r_x, r_m)}{\\sigma_m^2} $\n",
    "\n",
    "$ \\beta = 0 $ : No relation to market\n",
    "\n",
    "$ \\beta < 1 $ : Less risky than market\n",
    "\n",
    "$ \\beta > 1 $ : More risky than the market"
   ]
  },
  {
   "cell_type": "markdown",
   "metadata": {},
   "source": [
    "#### Examples"
   ]
  },
  {
   "cell_type": "markdown",
   "metadata": {},
   "source": [
    "Albertsons is a grocery store chain with a low beta of 0.5 because no matter what people need food and pharmecueticals.\n",
    "\n",
    "AMD manufacturers microchips and is a high beta stock at 1.4 because during hard times there is less demand for their products."
   ]
  },
  {
   "cell_type": "markdown",
   "metadata": {},
   "source": [
    "#### Get S&P 500 and AMD Data"
   ]
  },
  {
   "cell_type": "code",
   "execution_count": 14,
   "metadata": {},
   "outputs": [
    {
     "data": {
      "text/html": [
       "<div>\n",
       "<style scoped>\n",
       "    .dataframe tbody tr th:only-of-type {\n",
       "        vertical-align: middle;\n",
       "    }\n",
       "\n",
       "    .dataframe tbody tr th {\n",
       "        vertical-align: top;\n",
       "    }\n",
       "\n",
       "    .dataframe thead th {\n",
       "        text-align: right;\n",
       "    }\n",
       "</style>\n",
       "<table border=\"1\" class=\"dataframe\">\n",
       "  <thead>\n",
       "    <tr style=\"text-align: right;\">\n",
       "      <th></th>\n",
       "      <th>Adj Close</th>\n",
       "      <th>daily_return</th>\n",
       "    </tr>\n",
       "    <tr>\n",
       "      <th>Date</th>\n",
       "      <th></th>\n",
       "      <th></th>\n",
       "    </tr>\n",
       "  </thead>\n",
       "  <tbody>\n",
       "    <tr>\n",
       "      <th>2017-01-03</th>\n",
       "      <td>11.430000</td>\n",
       "      <td>NaN</td>\n",
       "    </tr>\n",
       "    <tr>\n",
       "      <th>2017-01-04</th>\n",
       "      <td>11.430000</td>\n",
       "      <td>0.000000</td>\n",
       "    </tr>\n",
       "    <tr>\n",
       "      <th>2017-01-05</th>\n",
       "      <td>11.240000</td>\n",
       "      <td>-0.016623</td>\n",
       "    </tr>\n",
       "    <tr>\n",
       "      <th>2017-01-06</th>\n",
       "      <td>11.320000</td>\n",
       "      <td>0.007117</td>\n",
       "    </tr>\n",
       "    <tr>\n",
       "      <th>2017-01-09</th>\n",
       "      <td>11.490000</td>\n",
       "      <td>0.015018</td>\n",
       "    </tr>\n",
       "    <tr>\n",
       "      <th>...</th>\n",
       "      <td>...</td>\n",
       "      <td>...</td>\n",
       "    </tr>\n",
       "    <tr>\n",
       "      <th>2022-01-13</th>\n",
       "      <td>132.740005</td>\n",
       "      <td>-0.034407</td>\n",
       "    </tr>\n",
       "    <tr>\n",
       "      <th>2022-01-14</th>\n",
       "      <td>136.880005</td>\n",
       "      <td>0.031189</td>\n",
       "    </tr>\n",
       "    <tr>\n",
       "      <th>2022-01-18</th>\n",
       "      <td>131.929993</td>\n",
       "      <td>-0.036163</td>\n",
       "    </tr>\n",
       "    <tr>\n",
       "      <th>2022-01-19</th>\n",
       "      <td>128.270004</td>\n",
       "      <td>-0.027742</td>\n",
       "    </tr>\n",
       "    <tr>\n",
       "      <th>2022-01-20</th>\n",
       "      <td>121.889999</td>\n",
       "      <td>-0.049739</td>\n",
       "    </tr>\n",
       "  </tbody>\n",
       "</table>\n",
       "<p>1272 rows × 2 columns</p>\n",
       "</div>"
      ],
      "text/plain": [
       "             Adj Close  daily_return\n",
       "Date                                \n",
       "2017-01-03   11.430000           NaN\n",
       "2017-01-04   11.430000      0.000000\n",
       "2017-01-05   11.240000     -0.016623\n",
       "2017-01-06   11.320000      0.007117\n",
       "2017-01-09   11.490000      0.015018\n",
       "...                ...           ...\n",
       "2022-01-13  132.740005     -0.034407\n",
       "2022-01-14  136.880005      0.031189\n",
       "2022-01-18  131.929993     -0.036163\n",
       "2022-01-19  128.270004     -0.027742\n",
       "2022-01-20  121.889999     -0.049739\n",
       "\n",
       "[1272 rows x 2 columns]"
      ]
     },
     "execution_count": 14,
     "metadata": {},
     "output_type": "execute_result"
    }
   ],
   "source": [
    "# Will hold S&P 500 adjusted close data\n",
    "sp_df = pd.DataFrame()\n",
    "\n",
    "# Download data from Yahoo\n",
    "sp_df = web.DataReader('^GSPC', 'yahoo', '2017-1-1', '2021-12-31')['Adj Close']\n",
    "\n",
    "amd_df = get_df_from_csv('AMD')\n",
    "\n",
    "amd_df"
   ]
  },
  {
   "cell_type": "code",
   "execution_count": 10,
   "metadata": {},
   "outputs": [],
   "source": [
    "sp_df = get_df_from_csv('^GSPC')\n",
    "\n",
    "sp_df"
   ]
  },
  {
   "cell_type": "markdown",
   "metadata": {},
   "source": [
    "#### Add Daily Return & Save to CSV"
   ]
  },
  {
   "cell_type": "code",
   "execution_count": 15,
   "metadata": {},
   "outputs": [
    {
     "data": {
      "text/html": [
       "<div>\n",
       "<style scoped>\n",
       "    .dataframe tbody tr th:only-of-type {\n",
       "        vertical-align: middle;\n",
       "    }\n",
       "\n",
       "    .dataframe tbody tr th {\n",
       "        vertical-align: top;\n",
       "    }\n",
       "\n",
       "    .dataframe thead th {\n",
       "        text-align: right;\n",
       "    }\n",
       "</style>\n",
       "<table border=\"1\" class=\"dataframe\">\n",
       "  <thead>\n",
       "    <tr style=\"text-align: right;\">\n",
       "      <th></th>\n",
       "      <th>Adj Close</th>\n",
       "      <th>daily_return</th>\n",
       "    </tr>\n",
       "    <tr>\n",
       "      <th>Date</th>\n",
       "      <th></th>\n",
       "      <th></th>\n",
       "    </tr>\n",
       "  </thead>\n",
       "  <tbody>\n",
       "    <tr>\n",
       "      <th>2017-01-03</th>\n",
       "      <td>2257.830078</td>\n",
       "      <td>NaN</td>\n",
       "    </tr>\n",
       "    <tr>\n",
       "      <th>2017-01-04</th>\n",
       "      <td>2270.750000</td>\n",
       "      <td>0.005722</td>\n",
       "    </tr>\n",
       "    <tr>\n",
       "      <th>2017-01-05</th>\n",
       "      <td>2269.000000</td>\n",
       "      <td>-0.000771</td>\n",
       "    </tr>\n",
       "    <tr>\n",
       "      <th>2017-01-06</th>\n",
       "      <td>2276.979980</td>\n",
       "      <td>0.003517</td>\n",
       "    </tr>\n",
       "    <tr>\n",
       "      <th>2017-01-09</th>\n",
       "      <td>2268.899902</td>\n",
       "      <td>-0.003549</td>\n",
       "    </tr>\n",
       "    <tr>\n",
       "      <th>...</th>\n",
       "      <td>...</td>\n",
       "      <td>...</td>\n",
       "    </tr>\n",
       "    <tr>\n",
       "      <th>2021-12-27</th>\n",
       "      <td>4791.189941</td>\n",
       "      <td>0.013839</td>\n",
       "    </tr>\n",
       "    <tr>\n",
       "      <th>2021-12-28</th>\n",
       "      <td>4786.350098</td>\n",
       "      <td>-0.001010</td>\n",
       "    </tr>\n",
       "    <tr>\n",
       "      <th>2021-12-29</th>\n",
       "      <td>4793.060059</td>\n",
       "      <td>0.001402</td>\n",
       "    </tr>\n",
       "    <tr>\n",
       "      <th>2021-12-30</th>\n",
       "      <td>4778.729980</td>\n",
       "      <td>-0.002990</td>\n",
       "    </tr>\n",
       "    <tr>\n",
       "      <th>2021-12-31</th>\n",
       "      <td>4766.180176</td>\n",
       "      <td>-0.002626</td>\n",
       "    </tr>\n",
       "  </tbody>\n",
       "</table>\n",
       "<p>1259 rows × 2 columns</p>\n",
       "</div>"
      ],
      "text/plain": [
       "              Adj Close  daily_return\n",
       "Date                                 \n",
       "2017-01-03  2257.830078           NaN\n",
       "2017-01-04  2270.750000      0.005722\n",
       "2017-01-05  2269.000000     -0.000771\n",
       "2017-01-06  2276.979980      0.003517\n",
       "2017-01-09  2268.899902     -0.003549\n",
       "...                 ...           ...\n",
       "2021-12-27  4791.189941      0.013839\n",
       "2021-12-28  4786.350098     -0.001010\n",
       "2021-12-29  4793.060059      0.001402\n",
       "2021-12-30  4778.729980     -0.002990\n",
       "2021-12-31  4766.180176     -0.002626\n",
       "\n",
       "[1259 rows x 2 columns]"
      ]
     },
     "execution_count": 15,
     "metadata": {},
     "output_type": "execute_result"
    }
   ],
   "source": [
    "# Save S&P to csv\n",
    "save_dataframe_to_csv(sp_df, '^GSPC')\n",
    "\n",
    "# Get dataframe from csv\n",
    "sp_df2 = get_df_from_csv('^GSPC')\n",
    "\n",
    "# Add daily return to dataframe\n",
    "add_daily_return_to_df(sp_df2, '^GSPC')\n",
    "sp_df2"
   ]
  },
  {
   "cell_type": "markdown",
   "metadata": {},
   "source": [
    "#### Find Beta for Stock versus S&P"
   ]
  },
  {
   "cell_type": "code",
   "execution_count": 16,
   "metadata": {},
   "outputs": [],
   "source": [
    "def find_beta(ticker):\n",
    "    # Tickers analyzed being the S&P and the stock passed\n",
    "    port_list =['^GSPC']\n",
    "    port_list.append(ticker)\n",
    "\n",
    "    mult_df = merge_df_by_column_name('daily_return',  '2018-01-02', \n",
    "                                  '2021-09-10', *port_list)\n",
    "    \n",
    "    # Provides the covariance between the securities\n",
    "    cov = mult_df.cov() * 252\n",
    "    \n",
    "    # Get the covariance of the stock and the market\n",
    "    cov_vs_market = cov.iloc[0,1]\n",
    "    \n",
    "    # Get annualized variance of the S&P\n",
    "    sp_var = mult_df['^GSPC'].var() * 252\n",
    "    \n",
    "    # Beta is normally calculated over a 5 year period which is why you may see a difference\n",
    "    beta = cov_vs_market / sp_var\n",
    "    return beta"
   ]
  },
  {
   "cell_type": "markdown",
   "metadata": {},
   "source": [
    "#### Get Stock Beta"
   ]
  },
  {
   "cell_type": "code",
   "execution_count": 17,
   "metadata": {},
   "outputs": [
    {
     "name": "stdout",
     "output_type": "stream",
     "text": [
      "AMD Beta : 1.4089953431646733\n"
     ]
    }
   ],
   "source": [
    "print(\"AMD Beta :\", find_beta('AMD'))"
   ]
  },
  {
   "cell_type": "markdown",
   "metadata": {},
   "source": [
    "#### Capital Asset Pricing Model"
   ]
  },
  {
   "cell_type": "markdown",
   "metadata": {},
   "source": [
    "Sharpe continued to create the CAPM based on the research of Markowitz. It focuses on investments in stocks and bonds. With it we can more exactly create portfolios that match the risk an investor is willing to assume. CAPM assumes a risk free asset which of course provides a small return. So if the investor wants less risk they simply buy more of the risk free assets.\n",
    "\n",
    "There is risk that you can limit through diversifaction (Idiosyncratic) and risk that you can't (Systematic). This portfolio contains no Idiosyncratic risk and like before it lies on the efficient frontier.\n",
    "\n",
    "To find this portfolio we will draw a line ( The Capital Market Line ) from the Y intercept to the efficient frontier.\n",
    "\n",
    "Here is the formula. The securities expected return equals the risk free asset plus Beta times the market return minus the risk free asset. it is common for $ r_m - r_f $ to be considered 5% which is called the Equity Risk Premium.\n",
    "\n",
    "$ r_i = r_f + \\beta_i (r_m - r_f) $"
   ]
  },
  {
   "cell_type": "markdown",
   "metadata": {},
   "source": [
    "#### Calculate AMDs Expected Return"
   ]
  },
  {
   "cell_type": "code",
   "execution_count": 18,
   "metadata": {},
   "outputs": [
    {
     "data": {
      "text/plain": [
       "0.08344976715823367"
      ]
     },
     "execution_count": 18,
     "metadata": {},
     "output_type": "execute_result"
    }
   ],
   "source": [
    "risk_free_rate = 0.013\n",
    "ri = risk_free_rate + find_beta('AMD') * 0.05\n",
    "ri"
   ]
  },
  {
   "cell_type": "markdown",
   "metadata": {},
   "source": [
    "#### Sharpe Ratio"
   ]
  },
  {
   "cell_type": "markdown",
   "metadata": {},
   "source": [
    "People want to maximize returns while avoiding as much risk as possible. William Sharpe created the Sharpe Ratio to find the portfolio that provides the best return for the lowest amount of risk.\n",
    "\n",
    "*Sharpe Ratio* = $ \\frac{r_i - r_f}{\\sigma_i}$\n",
    "\n",
    "$r_f = $ Risk Free Rate\n",
    "\n",
    "$r_i = $ Rate of Return of the stock\n",
    "\n",
    "$\\sigma_i = $ Standard Deviation of the Stock\n",
    "\n",
    "As return increases so does the Sharpe Ratio, but as Standard Deviation increase the Sharpe Ratio decreases."
   ]
  },
  {
   "cell_type": "code",
   "execution_count": 19,
   "metadata": {},
   "outputs": [
    {
     "data": {
      "text/plain": [
       "0.1253591927575902"
      ]
     },
     "execution_count": 19,
     "metadata": {},
     "output_type": "execute_result"
    }
   ],
   "source": [
    "# We can find the Sharpe ratio for AMD\n",
    "amd_sharpe = (ri - risk_free_rate) / (mult_df['AMD'].std() * 252 ** 0.5)\n",
    "amd_sharpe"
   ]
  },
  {
   "cell_type": "markdown",
   "metadata": {},
   "source": [
    "#### Get Stock Prices on Date"
   ]
  },
  {
   "cell_type": "code",
   "execution_count": 20,
   "metadata": {},
   "outputs": [],
   "source": [
    "def get_prices_on_date(stocks_df, date):\n",
    "    return stocks_df.loc[pd.DatetimeIndex([date])]['Adj Close'].item()"
   ]
  },
  {
   "cell_type": "markdown",
   "metadata": {},
   "source": [
    "#### Returns the Value of Portfolio by Date"
   ]
  },
  {
   "cell_type": "code",
   "execution_count": 21,
   "metadata": {},
   "outputs": [],
   "source": [
    "def get_port_val_by_date(date, shares, tickers):\n",
    "    port_prices = merge_df_by_column_name('Adj Close',  date, \n",
    "                                  date, *port_list)\n",
    "    # Convert from dataframe to Python list\n",
    "    port_prices = port_prices.values.tolist()\n",
    "    # Trick that converts a list of lists into a single list\n",
    "    port_prices = sum(port_prices, [])\n",
    "    \n",
    "    # Create a list of values by multiplying shares by price\n",
    "    value_list = []\n",
    "    for price, share in zip(port_prices, shares):\n",
    "        value_list.append(price * share)\n",
    "    \n",
    "    return sum(value_list)"
   ]
  },
  {
   "cell_type": "markdown",
   "metadata": {},
   "source": [
    "#### Get Value of Portfolio at Beginning and End of Year"
   ]
  },
  {
   "cell_type": "code",
   "execution_count": 22,
   "metadata": {},
   "outputs": [
    {
     "name": "stdout",
     "output_type": "stream",
     "text": [
      "Portfolio Value at Start of 2020 : $12196.69\n",
      "Portfolio Value at End of 2020 : $19723.57\n"
     ]
    }
   ],
   "source": [
    "port_list = [\"GNRC\", \"CPRT\", \"ODFL\", \"AMD\", \"PAYC\", \"CHTR\", \"EL\", \n",
    "             \"MKC\", \"PGR\", \"NEM\", \"CCI\", \"NFLX\"]\n",
    "\n",
    "port_shares = [24, 18, 9, 36, 1, 1, 11, 8, 7, 14, 1, 1]\n",
    "\n",
    "# Portfolio value at start of 2020\n",
    "port_val_start = get_port_val_by_date('2020-01-02', port_shares, port_list)\n",
    "print(\"Portfolio Value at Start of 2020 : $%2.2f\" % (port_val_start))\n",
    "\n",
    "# Portfolio value at end of 2020\n",
    "port_val_end = get_port_val_by_date('2020-12-31', port_shares, port_list)\n",
    "print(\"Portfolio Value at End of 2020 : $%2.2f\" % (port_val_end))"
   ]
  },
  {
   "cell_type": "markdown",
   "metadata": {},
   "source": [
    "#### Calculate Return on Investment"
   ]
  },
  {
   "cell_type": "markdown",
   "metadata": {},
   "source": [
    "ROI = $\\frac{Final Value - Initial Value}{Initial Value}$"
   ]
  },
  {
   "cell_type": "code",
   "execution_count": 23,
   "metadata": {},
   "outputs": [
    {
     "name": "stdout",
     "output_type": "stream",
     "text": [
      "Portfolio ROI at End of 2020 : 38.16 %\n",
      "S&P ROI at End of 2020 : 13.26 %\n"
     ]
    }
   ],
   "source": [
    "# Rate of return for portfolio\n",
    "roi_port = (port_val_end - port_val_start) / port_val_end\n",
    "print(\"Portfolio ROI at End of 2020 : %2.2f %%\" % (roi_port * 100))\n",
    "\n",
    "# S&P ROI\n",
    "sp_df = get_df_from_csv('^GSPC')\n",
    "sp_val_start = get_prices_on_date(sp_df, '2020-01-02')\n",
    "sp_val_end = get_prices_on_date(sp_df, '2020-12-31')\n",
    "sp_roi = (sp_val_end - sp_val_start) / sp_val_end\n",
    "print(\"S&P ROI at End of 2020 : %2.2f %%\" % (sp_roi * 100))"
   ]
  },
  {
   "cell_type": "markdown",
   "metadata": {},
   "source": [
    "#### Find Daily Return for Whole Portfolio"
   ]
  },
  {
   "cell_type": "markdown",
   "metadata": {},
   "source": [
    "To find the daily return for the whole portfolio, I must multiply the daily price by the number of shares for each security. Then sum those values for all stocks per day. This creates a portfolio list of daily prices. Then I can calculate the daily return."
   ]
  },
  {
   "cell_type": "code",
   "execution_count": 24,
   "metadata": {},
   "outputs": [],
   "source": [
    "def get_port_daily_return(sdate, edate, shares, tickers):\n",
    "    # Merge all daily prices for all stocks into 1 dataframe\n",
    "    mult_df = merge_df_by_column_name('Adj Close',  sdate, \n",
    "                                  edate, *port_list)\n",
    "    \n",
    "    # Get the number of stocks in portfolio\n",
    "    num_cols = len(mult_df.columns)\n",
    "    \n",
    "    # Multiply each stock column by the number of shares\n",
    "    i = 0\n",
    "    while i < num_cols:\n",
    "        mult_df[tickers[i]] = mult_df[tickers[i]].apply(lambda x: x * shares[i])\n",
    "        i += 1\n",
    "        \n",
    "    # Create a new column with the sums of all stocks named Total\n",
    "    mult_df['Total'] = mult_df.iloc[:, 0:num_cols].sum(axis=1)\n",
    "    \n",
    "    # Add column for portfolio daily return\n",
    "    mult_df['daily_return'] = (mult_df['Total'] / mult_df['Total'].shift(1)) - 1\n",
    "    \n",
    "    return mult_df"
   ]
  },
  {
   "cell_type": "code",
   "execution_count": 25,
   "metadata": {},
   "outputs": [
    {
     "data": {
      "text/html": [
       "<div>\n",
       "<style scoped>\n",
       "    .dataframe tbody tr th:only-of-type {\n",
       "        vertical-align: middle;\n",
       "    }\n",
       "\n",
       "    .dataframe tbody tr th {\n",
       "        vertical-align: top;\n",
       "    }\n",
       "\n",
       "    .dataframe thead th {\n",
       "        text-align: right;\n",
       "    }\n",
       "</style>\n",
       "<table border=\"1\" class=\"dataframe\">\n",
       "  <thead>\n",
       "    <tr style=\"text-align: right;\">\n",
       "      <th></th>\n",
       "      <th>GNRC</th>\n",
       "      <th>CPRT</th>\n",
       "      <th>ODFL</th>\n",
       "      <th>AMD</th>\n",
       "      <th>PAYC</th>\n",
       "      <th>CHTR</th>\n",
       "      <th>EL</th>\n",
       "      <th>MKC</th>\n",
       "      <th>PGR</th>\n",
       "      <th>NEM</th>\n",
       "      <th>CCI</th>\n",
       "      <th>NFLX</th>\n",
       "      <th>Total</th>\n",
       "      <th>daily_return</th>\n",
       "    </tr>\n",
       "    <tr>\n",
       "      <th>Date</th>\n",
       "      <th></th>\n",
       "      <th></th>\n",
       "      <th></th>\n",
       "      <th></th>\n",
       "      <th></th>\n",
       "      <th></th>\n",
       "      <th></th>\n",
       "      <th></th>\n",
       "      <th></th>\n",
       "      <th></th>\n",
       "      <th></th>\n",
       "      <th></th>\n",
       "      <th></th>\n",
       "      <th></th>\n",
       "    </tr>\n",
       "  </thead>\n",
       "  <tbody>\n",
       "    <tr>\n",
       "      <th>2020-01-02</th>\n",
       "      <td>2448.240051</td>\n",
       "      <td>1682.640060</td>\n",
       "      <td>1146.222908</td>\n",
       "      <td>1767.599945</td>\n",
       "      <td>271.799988</td>\n",
       "      <td>490.429993</td>\n",
       "      <td>2233.188660</td>\n",
       "      <td>650.146545</td>\n",
       "      <td>470.026726</td>\n",
       "      <td>573.224922</td>\n",
       "      <td>133.360748</td>\n",
       "      <td>329.809998</td>\n",
       "      <td>12196.690544</td>\n",
       "      <td>NaN</td>\n",
       "    </tr>\n",
       "    <tr>\n",
       "      <th>2020-01-03</th>\n",
       "      <td>2440.079956</td>\n",
       "      <td>1667.880066</td>\n",
       "      <td>1132.553856</td>\n",
       "      <td>1749.599945</td>\n",
       "      <td>272.709991</td>\n",
       "      <td>494.470001</td>\n",
       "      <td>2216.298248</td>\n",
       "      <td>660.508362</td>\n",
       "      <td>469.963547</td>\n",
       "      <td>568.052414</td>\n",
       "      <td>134.094955</td>\n",
       "      <td>325.899994</td>\n",
       "      <td>12132.111336</td>\n",
       "      <td>-0.005295</td>\n",
       "    </tr>\n",
       "    <tr>\n",
       "      <th>2020-01-06</th>\n",
       "      <td>2430.000000</td>\n",
       "      <td>1682.819962</td>\n",
       "      <td>1123.600410</td>\n",
       "      <td>1742.039978</td>\n",
       "      <td>278.089996</td>\n",
       "      <td>497.450012</td>\n",
       "      <td>2245.098389</td>\n",
       "      <td>664.466675</td>\n",
       "      <td>478.500244</td>\n",
       "      <td>573.755402</td>\n",
       "      <td>132.965408</td>\n",
       "      <td>335.829987</td>\n",
       "      <td>12184.616463</td>\n",
       "      <td>0.004328</td>\n",
       "    </tr>\n",
       "    <tr>\n",
       "      <th>2020-01-07</th>\n",
       "      <td>2469.600037</td>\n",
       "      <td>1680.660049</td>\n",
       "      <td>1126.823662</td>\n",
       "      <td>1737.000000</td>\n",
       "      <td>279.489990</td>\n",
       "      <td>499.160004</td>\n",
       "      <td>2230.915009</td>\n",
       "      <td>653.057190</td>\n",
       "      <td>474.845581</td>\n",
       "      <td>573.357475</td>\n",
       "      <td>130.715729</td>\n",
       "      <td>330.750000</td>\n",
       "      <td>12186.374725</td>\n",
       "      <td>0.000144</td>\n",
       "    </tr>\n",
       "    <tr>\n",
       "      <th>2020-01-08</th>\n",
       "      <td>2400.719971</td>\n",
       "      <td>1692.180038</td>\n",
       "      <td>1132.135963</td>\n",
       "      <td>1721.880066</td>\n",
       "      <td>283.119995</td>\n",
       "      <td>500.769989</td>\n",
       "      <td>2248.996124</td>\n",
       "      <td>649.564514</td>\n",
       "      <td>477.651894</td>\n",
       "      <td>558.105217</td>\n",
       "      <td>131.261673</td>\n",
       "      <td>339.260010</td>\n",
       "      <td>12135.645454</td>\n",
       "      <td>-0.004163</td>\n",
       "    </tr>\n",
       "    <tr>\n",
       "      <th>...</th>\n",
       "      <td>...</td>\n",
       "      <td>...</td>\n",
       "      <td>...</td>\n",
       "      <td>...</td>\n",
       "      <td>...</td>\n",
       "      <td>...</td>\n",
       "      <td>...</td>\n",
       "      <td>...</td>\n",
       "      <td>...</td>\n",
       "      <td>...</td>\n",
       "      <td>...</td>\n",
       "      <td>...</td>\n",
       "      <td>...</td>\n",
       "      <td>...</td>\n",
       "    </tr>\n",
       "    <tr>\n",
       "      <th>2020-12-24</th>\n",
       "      <td>5596.799927</td>\n",
       "      <td>2226.779984</td>\n",
       "      <td>1781.290146</td>\n",
       "      <td>3305.159912</td>\n",
       "      <td>462.130005</td>\n",
       "      <td>656.489990</td>\n",
       "      <td>2844.907898</td>\n",
       "      <td>733.380371</td>\n",
       "      <td>643.918396</td>\n",
       "      <td>816.389099</td>\n",
       "      <td>149.493484</td>\n",
       "      <td>513.969971</td>\n",
       "      <td>19730.709183</td>\n",
       "      <td>0.011166</td>\n",
       "    </tr>\n",
       "    <tr>\n",
       "      <th>2020-12-28</th>\n",
       "      <td>5592.959839</td>\n",
       "      <td>2280.960022</td>\n",
       "      <td>1751.280029</td>\n",
       "      <td>3297.599945</td>\n",
       "      <td>463.589996</td>\n",
       "      <td>651.900024</td>\n",
       "      <td>2876.196869</td>\n",
       "      <td>732.987976</td>\n",
       "      <td>642.673988</td>\n",
       "      <td>807.480110</td>\n",
       "      <td>151.677643</td>\n",
       "      <td>519.119995</td>\n",
       "      <td>19768.426437</td>\n",
       "      <td>0.001912</td>\n",
       "    </tr>\n",
       "    <tr>\n",
       "      <th>2020-12-29</th>\n",
       "      <td>5312.879883</td>\n",
       "      <td>2266.559967</td>\n",
       "      <td>1744.271713</td>\n",
       "      <td>3262.320099</td>\n",
       "      <td>447.589996</td>\n",
       "      <td>664.979980</td>\n",
       "      <td>2864.531860</td>\n",
       "      <td>743.972595</td>\n",
       "      <td>639.857529</td>\n",
       "      <td>806.265289</td>\n",
       "      <td>151.250504</td>\n",
       "      <td>530.869995</td>\n",
       "      <td>19435.349411</td>\n",
       "      <td>-0.016849</td>\n",
       "    </tr>\n",
       "    <tr>\n",
       "      <th>2020-12-30</th>\n",
       "      <td>5500.560059</td>\n",
       "      <td>2277.720016</td>\n",
       "      <td>1739.689178</td>\n",
       "      <td>3322.440033</td>\n",
       "      <td>447.910004</td>\n",
       "      <td>653.489990</td>\n",
       "      <td>2863.114227</td>\n",
       "      <td>744.602600</td>\n",
       "      <td>638.023628</td>\n",
       "      <td>815.174225</td>\n",
       "      <td>151.813522</td>\n",
       "      <td>524.590027</td>\n",
       "      <td>19679.127510</td>\n",
       "      <td>0.012543</td>\n",
       "    </tr>\n",
       "    <tr>\n",
       "      <th>2020-12-31</th>\n",
       "      <td>5457.840088</td>\n",
       "      <td>2290.500000</td>\n",
       "      <td>1753.705811</td>\n",
       "      <td>3301.559967</td>\n",
       "      <td>452.250000</td>\n",
       "      <td>661.549988</td>\n",
       "      <td>2902.034515</td>\n",
       "      <td>752.791992</td>\n",
       "      <td>647.651833</td>\n",
       "      <td>808.425018</td>\n",
       "      <td>154.531601</td>\n",
       "      <td>540.729980</td>\n",
       "      <td>19723.570793</td>\n",
       "      <td>0.002258</td>\n",
       "    </tr>\n",
       "  </tbody>\n",
       "</table>\n",
       "<p>253 rows × 14 columns</p>\n",
       "</div>"
      ],
      "text/plain": [
       "                   GNRC         CPRT         ODFL          AMD        PAYC  \\\n",
       "Date                                                                         \n",
       "2020-01-02  2448.240051  1682.640060  1146.222908  1767.599945  271.799988   \n",
       "2020-01-03  2440.079956  1667.880066  1132.553856  1749.599945  272.709991   \n",
       "2020-01-06  2430.000000  1682.819962  1123.600410  1742.039978  278.089996   \n",
       "2020-01-07  2469.600037  1680.660049  1126.823662  1737.000000  279.489990   \n",
       "2020-01-08  2400.719971  1692.180038  1132.135963  1721.880066  283.119995   \n",
       "...                 ...          ...          ...          ...         ...   \n",
       "2020-12-24  5596.799927  2226.779984  1781.290146  3305.159912  462.130005   \n",
       "2020-12-28  5592.959839  2280.960022  1751.280029  3297.599945  463.589996   \n",
       "2020-12-29  5312.879883  2266.559967  1744.271713  3262.320099  447.589996   \n",
       "2020-12-30  5500.560059  2277.720016  1739.689178  3322.440033  447.910004   \n",
       "2020-12-31  5457.840088  2290.500000  1753.705811  3301.559967  452.250000   \n",
       "\n",
       "                  CHTR           EL         MKC         PGR         NEM  \\\n",
       "Date                                                                      \n",
       "2020-01-02  490.429993  2233.188660  650.146545  470.026726  573.224922   \n",
       "2020-01-03  494.470001  2216.298248  660.508362  469.963547  568.052414   \n",
       "2020-01-06  497.450012  2245.098389  664.466675  478.500244  573.755402   \n",
       "2020-01-07  499.160004  2230.915009  653.057190  474.845581  573.357475   \n",
       "2020-01-08  500.769989  2248.996124  649.564514  477.651894  558.105217   \n",
       "...                ...          ...         ...         ...         ...   \n",
       "2020-12-24  656.489990  2844.907898  733.380371  643.918396  816.389099   \n",
       "2020-12-28  651.900024  2876.196869  732.987976  642.673988  807.480110   \n",
       "2020-12-29  664.979980  2864.531860  743.972595  639.857529  806.265289   \n",
       "2020-12-30  653.489990  2863.114227  744.602600  638.023628  815.174225   \n",
       "2020-12-31  661.549988  2902.034515  752.791992  647.651833  808.425018   \n",
       "\n",
       "                   CCI        NFLX         Total  daily_return  \n",
       "Date                                                            \n",
       "2020-01-02  133.360748  329.809998  12196.690544           NaN  \n",
       "2020-01-03  134.094955  325.899994  12132.111336     -0.005295  \n",
       "2020-01-06  132.965408  335.829987  12184.616463      0.004328  \n",
       "2020-01-07  130.715729  330.750000  12186.374725      0.000144  \n",
       "2020-01-08  131.261673  339.260010  12135.645454     -0.004163  \n",
       "...                ...         ...           ...           ...  \n",
       "2020-12-24  149.493484  513.969971  19730.709183      0.011166  \n",
       "2020-12-28  151.677643  519.119995  19768.426437      0.001912  \n",
       "2020-12-29  151.250504  530.869995  19435.349411     -0.016849  \n",
       "2020-12-30  151.813522  524.590027  19679.127510      0.012543  \n",
       "2020-12-31  154.531601  540.729980  19723.570793      0.002258  \n",
       "\n",
       "[253 rows x 14 columns]"
      ]
     },
     "execution_count": 25,
     "metadata": {},
     "output_type": "execute_result"
    }
   ],
   "source": [
    "tot_port_df = get_port_daily_return('2020-01-02', '2020-12-31', \n",
    "                                    port_shares, port_list)\n",
    "tot_port_df"
   ]
  },
  {
   "cell_type": "markdown",
   "metadata": {},
   "source": [
    "#### Find Portfolio Beta"
   ]
  },
  {
   "cell_type": "code",
   "execution_count": 26,
   "metadata": {},
   "outputs": [],
   "source": [
    "def find_port_beta(port_df, sdate, edate):\n",
    "    # Will hold data for S&P and my portfolio\n",
    "    mult_df = pd.DataFrame()\n",
    "    \n",
    "    # Mask defining the dates worth of data that we want\n",
    "    port_mask = (port_df.index >= sdate) & (port_df.index <= edate)\n",
    "    \n",
    "    # Get S&P Dataframe\n",
    "    sp_df = get_df_from_csv('^GSPC')\n",
    "    \n",
    "    sp_mask = (sp_df.index >= sdate) & (sp_df.index <= edate)\n",
    "    \n",
    "    # Add S&P daily return to dataframe\n",
    "    mult_df['^GSPC'] = sp_df.loc[sp_mask]['daily_return']\n",
    "    \n",
    "    # Add the portfolio daily return data\n",
    "    mult_df['Portfolio'] = port_df.loc[port_mask]['daily_return']\n",
    "    \n",
    "    # Provides the covariance between the securities\n",
    "    cov = mult_df.cov() * 252\n",
    "    \n",
    "    # Get the covariance of the stocks and the market\n",
    "    cov_vs_market = cov.iloc[0,1]\n",
    "    \n",
    "    # Get annualized variance of the S&P\n",
    "    sp_var = mult_df['^GSPC'].var() * 252\n",
    "    \n",
    "    # Beta is normally calculated over a 5 year period which is why you may see a difference\n",
    "    beta = cov_vs_market / sp_var\n",
    "    return beta"
   ]
  },
  {
   "cell_type": "markdown",
   "metadata": {},
   "source": [
    "#### Calculating Alpha"
   ]
  },
  {
   "cell_type": "markdown",
   "metadata": {},
   "source": [
    "Alpha provides a measure of how well a portfolio has performed. The CAPM assumes an Alpha of 0. Good portfolios have a positive Alpha, while poor have negative.\n",
    "\n",
    "Alpha = R – Rf – beta (Rm-Rf)\n",
    "\n",
    "* R represents the portfolio return\n",
    "* Rf represents the risk-free rate of return\n",
    "* Beta represents the systematic risk of a portfolio\n",
    "* Rm represents the market return, per a benchmark"
   ]
  },
  {
   "cell_type": "code",
   "execution_count": 27,
   "metadata": {},
   "outputs": [
    {
     "data": {
      "text/plain": [
       "0.9501696979950761"
      ]
     },
     "execution_count": 27,
     "metadata": {},
     "output_type": "execute_result"
    }
   ],
   "source": [
    "port_beta = find_port_beta(tot_port_df, '2020-01-02', '2020-12-31')\n",
    "port_beta"
   ]
  },
  {
   "cell_type": "code",
   "execution_count": 28,
   "metadata": {},
   "outputs": [
    {
     "name": "stdout",
     "output_type": "stream",
     "text": [
      "Portfolio Alpha : 25.49 %\n"
     ]
    }
   ],
   "source": [
    "port_alpha = roi_port - risk_free_rate - (port_beta * (sp_roi - risk_free_rate))\n",
    "print(\"Portfolio Alpha : %2.2f %%\" % (port_alpha * 100))"
   ]
  },
  {
   "cell_type": "markdown",
   "metadata": {},
   "source": [
    "This means our portfolio outperformed the market in 2020 by 25.49%"
   ]
  }
 ],
 "metadata": {
  "interpreter": {
   "hash": "feac5ee11db6385b4c12b0947c117f22892e921fb5655ece65f725e09c2e67f4"
  },
  "kernelspec": {
   "display_name": "Python 3.9.7 ('finance')",
   "language": "python",
   "name": "python3"
  },
  "language_info": {
   "codemirror_mode": {
    "name": "ipython",
    "version": 3
   },
   "file_extension": ".py",
   "mimetype": "text/x-python",
   "name": "python",
   "nbconvert_exporter": "python",
   "pygments_lexer": "ipython3",
   "version": "3.9.7"
  },
  "orig_nbformat": 4
 },
 "nbformat": 4,
 "nbformat_minor": 2
}
