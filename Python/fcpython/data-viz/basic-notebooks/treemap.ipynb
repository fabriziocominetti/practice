{
 "cells": [
  {
   "cell_type": "markdown",
   "metadata": {},
   "source": [
    "## Treemap"
   ]
  },
  {
   "cell_type": "code",
   "execution_count": 1,
   "metadata": {},
   "outputs": [],
   "source": [
    "import matplotlib\n",
    "import matplotlib.pyplot as plt\n",
    "import pandas as pd\n",
    "import squarify"
   ]
  },
  {
   "cell_type": "code",
   "execution_count": 2,
   "metadata": {},
   "outputs": [],
   "source": [
    "data = pd.read_csv('../data/ManCityATT.csv')"
   ]
  },
  {
   "cell_type": "code",
   "execution_count": 3,
   "metadata": {},
   "outputs": [
    {
     "data": {
      "text/html": [
       "<div>\n",
       "<style scoped>\n",
       "    .dataframe tbody tr th:only-of-type {\n",
       "        vertical-align: middle;\n",
       "    }\n",
       "\n",
       "    .dataframe tbody tr th {\n",
       "        vertical-align: top;\n",
       "    }\n",
       "\n",
       "    .dataframe thead th {\n",
       "        text-align: right;\n",
       "    }\n",
       "</style>\n",
       "<table border=\"1\" class=\"dataframe\">\n",
       "  <thead>\n",
       "    <tr style=\"text-align: right;\">\n",
       "      <th></th>\n",
       "      <th>PLAYER</th>\n",
       "      <th>POS</th>\n",
       "      <th>GP</th>\n",
       "      <th>GS</th>\n",
       "      <th>MP</th>\n",
       "      <th>G</th>\n",
       "      <th>A</th>\n",
       "      <th>SOG</th>\n",
       "      <th>S</th>\n",
       "      <th>YC</th>\n",
       "      <th>RC</th>\n",
       "      <th>Unnamed: 11</th>\n",
       "    </tr>\n",
       "  </thead>\n",
       "  <tbody>\n",
       "    <tr>\n",
       "      <th>0</th>\n",
       "      <td>Agüero, Sergio</td>\n",
       "      <td>F</td>\n",
       "      <td>19</td>\n",
       "      <td>17</td>\n",
       "      <td>1518</td>\n",
       "      <td>16</td>\n",
       "      <td>5</td>\n",
       "      <td>32</td>\n",
       "      <td>77</td>\n",
       "      <td>1</td>\n",
       "      <td>0</td>\n",
       "      <td>NaN</td>\n",
       "    </tr>\n",
       "    <tr>\n",
       "      <th>1</th>\n",
       "      <td>Sterling, Raheem</td>\n",
       "      <td>M</td>\n",
       "      <td>22</td>\n",
       "      <td>18</td>\n",
       "      <td>1668</td>\n",
       "      <td>14</td>\n",
       "      <td>4</td>\n",
       "      <td>23</td>\n",
       "      <td>55</td>\n",
       "      <td>2</td>\n",
       "      <td>1</td>\n",
       "      <td>NaN</td>\n",
       "    </tr>\n",
       "    <tr>\n",
       "      <th>2</th>\n",
       "      <td>Gabriel Jesus</td>\n",
       "      <td>F</td>\n",
       "      <td>18</td>\n",
       "      <td>12</td>\n",
       "      <td>1016</td>\n",
       "      <td>8</td>\n",
       "      <td>2</td>\n",
       "      <td>22</td>\n",
       "      <td>35</td>\n",
       "      <td>3</td>\n",
       "      <td>0</td>\n",
       "      <td>NaN</td>\n",
       "    </tr>\n",
       "    <tr>\n",
       "      <th>3</th>\n",
       "      <td>Sané, Leroy</td>\n",
       "      <td>M</td>\n",
       "      <td>22</td>\n",
       "      <td>17</td>\n",
       "      <td>1548</td>\n",
       "      <td>7</td>\n",
       "      <td>10</td>\n",
       "      <td>14</td>\n",
       "      <td>36</td>\n",
       "      <td>4</td>\n",
       "      <td>0</td>\n",
       "      <td>NaN</td>\n",
       "    </tr>\n",
       "    <tr>\n",
       "      <th>4</th>\n",
       "      <td>De Bruyne, Kevin</td>\n",
       "      <td>M</td>\n",
       "      <td>24</td>\n",
       "      <td>24</td>\n",
       "      <td>2060</td>\n",
       "      <td>6</td>\n",
       "      <td>10</td>\n",
       "      <td>28</td>\n",
       "      <td>61</td>\n",
       "      <td>1</td>\n",
       "      <td>0</td>\n",
       "      <td>NaN</td>\n",
       "    </tr>\n",
       "  </tbody>\n",
       "</table>\n",
       "</div>"
      ],
      "text/plain": [
       "             PLAYER POS  GP  GS    MP   G   A  SOG   S  YC  RC  Unnamed: 11\n",
       "0    Agüero, Sergio   F  19  17  1518  16   5   32  77   1   0          NaN\n",
       "1  Sterling, Raheem   M  22  18  1668  14   4   23  55   2   1          NaN\n",
       "2     Gabriel Jesus   F  18  12  1016   8   2   22  35   3   0          NaN\n",
       "3       Sané, Leroy   M  22  17  1548   7  10   14  36   4   0          NaN\n",
       "4  De Bruyne, Kevin   M  24  24  2060   6  10   28  61   1   0          NaN"
      ]
     },
     "execution_count": 3,
     "metadata": {},
     "output_type": "execute_result"
    }
   ],
   "source": [
    "data.head()"
   ]
  },
  {
   "cell_type": "code",
   "execution_count": 5,
   "metadata": {},
   "outputs": [
    {
     "data": {
      "image/png": "[encoded data removed]",
      "text/plain": [
       "<Figure size 1152x324 with 1 Axes>"
      ]
     },
     "metadata": {
      "needs_background": "light"
     },
     "output_type": "display_data"
    }
   ],
   "source": [
    "# New dataframe, containing only players with more than 0 goals.\n",
    "dataGoals = data[data[\"G\"]>0]\n",
    "\n",
    "#Utilise matplotlib to scale our goal numbers between the min and max, then assign this scale to our values.\n",
    "norm = matplotlib.colors.Normalize(vmin=min(dataGoals.G), vmax=max(dataGoals.G))\n",
    "colors = [matplotlib.cm.Blues(norm(value)) for value in dataGoals.G]\n",
    "\n",
    "#Create our plot and resize it.\n",
    "fig = plt.gcf()\n",
    "ax = fig.add_subplot()\n",
    "fig.set_size_inches(16, 4.5)\n",
    "\n",
    "#Use squarify to plot our data, label it and add colours. We add an alpha layer to ensure black labels show through\n",
    "squarify.plot(label=dataGoals.PLAYER,sizes=dataGoals.G, color = colors, alpha=.6)\n",
    "plt.title(\"Man City Goals\",fontsize=23,fontweight=\"bold\")\n",
    "\n",
    "#Remove our axes and display the plot\n",
    "plt.axis('off')\n",
    "plt.show()"
   ]
  }
 ],
 "metadata": {
  "interpreter": {
   "hash": "090cf9c5a831ea75c8c4bcc56bea23ec19def3ed7f6ec9976b0af254e2c23507"
  },
  "kernelspec": {
   "display_name": "Python 3.9.7 ('dataViz')",
   "language": "python",
   "name": "python3"
  },
  "language_info": {
   "codemirror_mode": {
    "name": "ipython",
    "version": 3
   },
   "file_extension": ".py",
   "mimetype": "text/x-python",
   "name": "python",
   "nbconvert_exporter": "python",
   "pygments_lexer": "ipython3",
   "version": "3.9.7"
  },
  "orig_nbformat": 4
 },
 "nbformat": 4,
 "nbformat_minor": 2
}
